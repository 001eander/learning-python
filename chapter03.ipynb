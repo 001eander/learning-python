{
 "cells": [
  {
   "cell_type": "markdown",
   "metadata": {
    "heading_collapsed": true
   },
   "source": [
    "# 条件表达式"
   ]
  },
  {
   "cell_type": "markdown",
   "metadata": {},
   "source": [
    "## 选择结构"
   ]
  },
  {
   "cell_type": "markdown",
   "metadata": {},
   "source": [
    "### 案例3-3"
   ]
  },
  {
   "cell_type": "code",
   "execution_count": null,
   "metadata": {},
   "outputs": [
    {
     "name": "stdout",
     "output_type": "stream",
     "text": [
      "三角形的面积为：6.00\n"
     ]
    }
   ],
   "source": [
    "import math\n",
    "\n",
    "\n",
    "\n",
    "a = float(input(\"请输入三角形的边长a：\"))\n",
    "\n",
    "\n",
    "b = float(input(\"请输入三角形的边长b：\"))\n",
    "\n",
    "\n",
    "c = float(input(\"请输入三角形的边长c：\"))\n",
    "\n",
    "\n",
    "h = (a + b + c) / 2\n",
    "\n",
    "\n",
    "area = math.sqrt(h * (h - a) * (h - b) * (h - c))\n",
    "\n",
    "\n",
    "print(\"三角形的面积为：{:.2f}\".format(area))"
   ]
  },
  {
   "cell_type": "markdown",
   "metadata": {},
   "source": [
    "### 案例3-4"
   ]
  },
  {
   "cell_type": "code",
   "execution_count": 7,
   "metadata": {},
   "outputs": [
    {
     "ename": "ValueError",
     "evalue": "invalid literal for int() with base 10: '1 2'",
     "output_type": "error",
     "traceback": [
      "\u001b[31m---------------------------------------------------------------------------\u001b[39m",
      "\u001b[31mValueError\u001b[39m                                Traceback (most recent call last)",
      "\u001b[36mCell\u001b[39m\u001b[36m \u001b[39m\u001b[32mIn[7]\u001b[39m\u001b[32m, line 1\u001b[39m\n\u001b[32m----> \u001b[39m\u001b[32m1\u001b[39m a = \u001b[38;5;28;43mint\u001b[39;49m\u001b[43m(\u001b[49m\u001b[38;5;28;43minput\u001b[39;49m\u001b[43m(\u001b[49m\u001b[33;43m\"\u001b[39;49m\u001b[33;43m请输入整数a：\u001b[39;49m\u001b[33;43m\"\u001b[39;49m\u001b[43m)\u001b[49m\u001b[43m)\u001b[49m\n\u001b[32m      2\u001b[39m b = \u001b[38;5;28mint\u001b[39m(\u001b[38;5;28minput\u001b[39m(\u001b[33m\"\u001b[39m\u001b[33m请输入整数b：\u001b[39m\u001b[33m\"\u001b[39m))\n\u001b[32m      3\u001b[39m \u001b[38;5;28mprint\u001b[39m(\u001b[33m\"\u001b[39m\u001b[33m输入值 a=\u001b[39m\u001b[38;5;132;01m{}\u001b[39;00m\u001b[33m,b=\u001b[39m\u001b[38;5;132;01m{}\u001b[39;00m\u001b[33m\"\u001b[39m.format(a, b))\n",
      "\u001b[31mValueError\u001b[39m: invalid literal for int() with base 10: '1 2'"
     ]
    }
   ],
   "source": [
    "a = int(input(\"请输入整数a：\"))\n",
    "b = int(input(\"请输入整数b：\"))\n",
    "print(\"输入值 a={},b={}\".format(a, b))\n",
    "if a < b:\n",
    "    a, b = b, a\n",
    "print(\"比较后的值 a={},b={}\".format(a, b))"
   ]
  },
  {
   "cell_type": "markdown",
   "metadata": {},
   "source": [
    "### 案例3-5"
   ]
  },
  {
   "cell_type": "code",
   "execution_count": 8,
   "metadata": {},
   "outputs": [
    {
     "name": "stdout",
     "output_type": "stream",
     "text": [
      "abd不是回文串\n"
     ]
    }
   ],
   "source": [
    "_str = input(\"请输入字符串：\")\n",
    "if _str == _str[::-1]:\n",
    "    print(_str + \"为回文串\")\n",
    "else:\n",
    "    print(_str + \"不是回文串\")"
   ]
  },
  {
   "cell_type": "markdown",
   "metadata": {},
   "source": [
    "### 案例3-6"
   ]
  },
  {
   "cell_type": "code",
   "execution_count": 9,
   "metadata": {},
   "outputs": [
    {
     "ename": "ValueError",
     "evalue": "could not convert string to float: ''",
     "output_type": "error",
     "traceback": [
      "\u001b[31m---------------------------------------------------------------------------\u001b[39m",
      "\u001b[31mValueError\u001b[39m                                Traceback (most recent call last)",
      "\u001b[36mCell\u001b[39m\u001b[36m \u001b[39m\u001b[32mIn[9]\u001b[39m\u001b[32m, line 40\u001b[39m\n\u001b[32m     36\u001b[39m     \u001b[38;5;28mprint\u001b[39m(\u001b[33mf\u001b[39m\u001b[33m\"\u001b[39m\u001b[33m三角形的面积为：\u001b[39m\u001b[38;5;132;01m{\u001b[39;00mtriangle_area(a,\u001b[38;5;250m \u001b[39mb,\u001b[38;5;250m \u001b[39mc)\u001b[38;5;132;01m:\u001b[39;00m\u001b[33m.2f\u001b[39m\u001b[38;5;132;01m}\u001b[39;00m\u001b[33m\"\u001b[39m)\n\u001b[32m     39\u001b[39m \u001b[38;5;28;01mif\u001b[39;00m \u001b[34m__name__\u001b[39m == \u001b[33m\"\u001b[39m\u001b[33m__main__\u001b[39m\u001b[33m\"\u001b[39m:\n\u001b[32m---> \u001b[39m\u001b[32m40\u001b[39m     \u001b[43mmain\u001b[49m\u001b[43m(\u001b[49m\u001b[43m)\u001b[49m\n",
      "\u001b[36mCell\u001b[39m\u001b[36m \u001b[39m\u001b[32mIn[9]\u001b[39m\u001b[32m, line 26\u001b[39m, in \u001b[36mmain\u001b[39m\u001b[34m()\u001b[39m\n\u001b[32m     24\u001b[39m \u001b[38;5;28;01mdef\u001b[39;00m\u001b[38;5;250m \u001b[39m\u001b[34mmain\u001b[39m():\n\u001b[32m---> \u001b[39m\u001b[32m26\u001b[39m     a = \u001b[38;5;28;43mfloat\u001b[39;49m\u001b[43m(\u001b[49m\u001b[38;5;28;43minput\u001b[39;49m\u001b[43m(\u001b[49m\u001b[33;43m\"\u001b[39;49m\u001b[33;43m请输入三角形的边长a：\u001b[39;49m\u001b[33;43m\"\u001b[39;49m\u001b[43m)\u001b[49m\u001b[43m)\u001b[49m\n\u001b[32m     27\u001b[39m     b = \u001b[38;5;28mfloat\u001b[39m(\u001b[38;5;28minput\u001b[39m(\u001b[33m\"\u001b[39m\u001b[33m请输入三角形的边长b：\u001b[39m\u001b[33m\"\u001b[39m))\n\u001b[32m     28\u001b[39m     c = \u001b[38;5;28mfloat\u001b[39m(\u001b[38;5;28minput\u001b[39m(\u001b[33m\"\u001b[39m\u001b[33m请输入三角形的边长c：\u001b[39m\u001b[33m\"\u001b[39m))\n",
      "\u001b[31mValueError\u001b[39m: could not convert string to float: ''"
     ]
    }
   ],
   "source": [
    "from math import sqrt\n",
    "\n",
    "\n",
    "def is_triangle(a, b, c):\n",
    "    return all([a > 0, b > 0, c > 0]) and all([a + b > c, a + c > b, b + c > a])\n",
    "\n",
    "\n",
    "def triangle_area(a, b, c):\n",
    "    \"\"\"claculate the area of a triangle\n",
    "\n",
    "    Args:\n",
    "        a, b, c (real number): the length of the three sides of the triangle\n",
    "\n",
    "    Returns:\n",
    "        float: area of the triangle\n",
    "    \"\"\"\n",
    "\n",
    "    assert is_triangle(a, b, c), \"Fail to form a triangle\"\n",
    "    h = (a + b + c) / 2\n",
    "    area = sqrt(h * (h - a) * (h - b) * (h - c))\n",
    "    return area\n",
    "\n",
    "\n",
    "def main():\n",
    "\n",
    "    a = float(input(\"请输入三角形的边长a：\"))\n",
    "    b = float(input(\"请输入三角形的边长b：\"))\n",
    "    c = float(input(\"请输入三角形的边长c：\"))\n",
    "\n",
    "    while not is_triangle(a, b, c):\n",
    "        print(\"无法构成三角形，请重新输入\")\n",
    "        a = float(input(\"请输入三角形的边长a：\"))\n",
    "        b = float(input(\"请输入三角形的边长b：\"))\n",
    "        c = float(input(\"请输入三角形的边长c：\"))\n",
    "\n",
    "    print(f\"三角形的面积为：{triangle_area(a, b, c):.2f}\")\n",
    "\n",
    "\n",
    "if __name__ == \"__main__\":\n",
    "    main()"
   ]
  },
  {
   "cell_type": "markdown",
   "metadata": {},
   "source": [
    "### 案例3-7"
   ]
  },
  {
   "cell_type": "code",
   "execution_count": 10,
   "metadata": {},
   "outputs": [
    {
     "name": "stdout",
     "output_type": "stream",
     "text": [
      "您的BMI指数是：1.0\n",
      "您的体型偏瘦，要多吃多运动哦！\n"
     ]
    }
   ],
   "source": [
    "height = eval(input(\"请输入您的身高（米）：\"))\n",
    "weight = eval(input(\"请输入您的体重（千克）：\"))\n",
    "BMI = weight / height / height\n",
    "print(\"您的BMI指数是：{:.1f}\".format(BMI))\n",
    "if BMI < 18.5:\n",
    "    print(\"您的体型偏瘦，要多吃多运动哦！\")\n",
    "elif 18.5 <= BMI < 24:\n",
    "    print(\"您的体型正常，继续保持哟！\")\n",
    "elif 24 <= BMI < 28:\n",
    "    print(\"您的体型偏胖，有发福迹象！\")\n",
    "elif 28 <= BMI < 32:\n",
    "    print(\"不要悲伤，您是个迷人的胖子！\")\n",
    "else:\n",
    "    print(\"什么也不说了，您照照镜子就知道了……\")"
   ]
  },
  {
   "cell_type": "code",
   "execution_count": 13,
   "metadata": {},
   "outputs": [
    {
     "name": "stdout",
     "output_type": "stream",
     "text": [
      "您的BMI指数是：22.6\n",
      "您的体型正常，继续保持哟！\n"
     ]
    }
   ],
   "source": [
    "# height = eval(input(\"请输入您的身高（米）：\"))\n",
    "height = 1.76\n",
    "# weight = eval(input(\"请输入您的体重（千克）：\"))\n",
    "weight = 70\n",
    "\n",
    "BMI = weight / height**2\n",
    "\n",
    "print(f\"您的BMI指数是：{BMI:.1f}\")\n",
    "\n",
    "pattern = \"您的体型{level_str}，{level_words}\"\n",
    "level_number = (18.4, 24, 28, 32)\n",
    "level_str = (\"偏瘦\", \"正常\", \"偏胖\", \"肥胖\", \"异常\")\n",
    "level_words = (\n",
    "    \"要多吃多运动哦！\",\n",
    "    \"继续保持哟！\",\n",
    "    \"有发福迹象！\",\n",
    "    \"不要悲伤，您是个迷人的胖子！\",\n",
    "    \"什么也不说了，您照照镜子就知道了……\",\n",
    ")\n",
    "\n",
    "for i, level in enumerate(level_number):\n",
    "    if BMI < level:\n",
    "        print(pattern.format(level_str=level_str[i], level_words=level_words[i]))\n",
    "        break"
   ]
  },
  {
   "cell_type": "markdown",
   "metadata": {},
   "source": [
    "### 案例3-8"
   ]
  },
  {
   "cell_type": "code",
   "execution_count": 23,
   "metadata": {},
   "outputs": [
    {
     "name": "stdout",
     "output_type": "stream",
     "text": [
      "输入的三位数为：123\n",
      "最大的数字是：3\n"
     ]
    }
   ],
   "source": [
    "num = input(\"请输入一个三位数：\")\n",
    "while not (100 <= int(num) <= 999):\n",
    "    num = input(\"输入错误，请输入一个三位数：\")\n",
    "\n",
    "print(f\"输入的三位数为：{num}\")\n",
    "print(f\"最大的数字是：{max(*num)}\")"
   ]
  },
  {
   "cell_type": "markdown",
   "metadata": {},
   "source": [
    "下面纯粹是娱乐代码"
   ]
  },
  {
   "cell_type": "code",
   "execution_count": 27,
   "metadata": {},
   "outputs": [
    {
     "name": "stdout",
     "output_type": "stream",
     "text": [
      "输入的三位数为：123\n",
      "最大的数字是：3\n"
     ]
    }
   ],
   "source": [
    "num = input(\"请输入一个三位数：\")\n",
    "while not (100 <= int(num) <= 999):\n",
    "    num = input(\"输入错误，请输入一个三位数：\")\n",
    "print(f\"输入的三位数为：{num}\")\n",
    "\n",
    "a, b, c = num\n",
    "if a >= b and a >= c:\n",
    "    max_num = a\n",
    "elif b >= a and b >= c:\n",
    "    max_num = b\n",
    "else:\n",
    "    max_num = c\n",
    "print(f\"最大的数字是：{max_num}\")"
   ]
  },
  {
   "cell_type": "markdown",
   "metadata": {},
   "source": [
    "## 循环结构"
   ]
  },
  {
   "cell_type": "markdown",
   "metadata": {},
   "source": [
    "### 案例3-9"
   ]
  },
  {
   "cell_type": "code",
   "execution_count": 25,
   "metadata": {},
   "outputs": [
    {
     "name": "stdout",
     "output_type": "stream",
     "text": [
      "大写字符： 1\n",
      "小写字符： 3\n",
      "数字字符： 3\n"
     ]
    }
   ],
   "source": [
    "_str = input(\"请输入一句英文：\")\n",
    "count_upper = 0\n",
    "count_lower = 0\n",
    "count_digit = 0\n",
    "for s in _str:\n",
    "    if s.isupper():\n",
    "        count_upper = count_upper + 1\n",
    "    if s.islower():\n",
    "        count_lower = count_lower + 1\n",
    "    if s.isdigit():\n",
    "        count_digit = count_digit + 1\n",
    "print(\"大写字符：\", count_upper)\n",
    "print(\"小写字符：\", count_lower)\n",
    "print(\"数字字符：\", count_digit)"
   ]
  },
  {
   "cell_type": "code",
   "execution_count": 26,
   "metadata": {},
   "outputs": [
    {
     "name": "stdout",
     "output_type": "stream",
     "text": [
      "大写字符：1\n",
      "小写字符：3\n",
      "数字字符：3\n"
     ]
    }
   ],
   "source": [
    "sentence = input(\"请输入一句英文：\")\n",
    "print(f\"大写字符：{sum(1 for s in sentence if s.isupper())}\")\n",
    "print(f\"小写字符：{sum(1 for s in sentence if s.islower())}\")\n",
    "print(f\"数字字符：{sum(1 for s in sentence if s.isdigit())}\")"
   ]
  },
  {
   "cell_type": "markdown",
   "metadata": {},
   "source": [
    "### 案例3-10"
   ]
  },
  {
   "cell_type": "code",
   "execution_count": null,
   "metadata": {},
   "outputs": [
    {
     "name": "stdout",
     "output_type": "stream",
     "text": [
      "sum= 5050\n"
     ]
    }
   ],
   "source": [
    "_sum = 0\n",
    "for i in range(1, 100 + 1):\n",
    "    _sum = _sum + i\n",
    "print(\"sum=\", _sum)"
   ]
  },
  {
   "cell_type": "code",
   "execution_count": 32,
   "metadata": {},
   "outputs": [
    {
     "name": "stdout",
     "output_type": "stream",
     "text": [
      "sum= 5050\n"
     ]
    }
   ],
   "source": [
    "_sum = 0\n",
    "for i in range(1, 100 + 1):\n",
    "    _sum += i\n",
    "print(\"sum=\", _sum)"
   ]
  },
  {
   "cell_type": "code",
   "execution_count": 30,
   "metadata": {},
   "outputs": [
    {
     "name": "stdout",
     "output_type": "stream",
     "text": [
      "sum=5050\n"
     ]
    }
   ],
   "source": [
    "print(f\"sum={sum(range(1, 101))}\")"
   ]
  },
  {
   "cell_type": "code",
   "execution_count": 33,
   "metadata": {},
   "outputs": [
    {
     "data": {
      "text/plain": [
       "5050"
      ]
     },
     "execution_count": 33,
     "metadata": {},
     "output_type": "execute_result"
    }
   ],
   "source": [
    "(1 + 100) * 100 // 2"
   ]
  },
  {
   "cell_type": "markdown",
   "metadata": {},
   "source": [
    "### 案例3-11"
   ]
  },
  {
   "cell_type": "code",
   "execution_count": 34,
   "metadata": {},
   "outputs": [
    {
     "name": "stdout",
     "output_type": "stream",
     "text": [
      "1-100中所有的奇数和： 2500\n",
      "1-100中所有的偶数和： 2550\n"
     ]
    }
   ],
   "source": [
    "sum_odd = 0\n",
    "sum_even = 0\n",
    "for i in range(1, 100 + 1):\n",
    "    if i % 2 == 1:  # i为奇数\n",
    "        sum_odd = sum_odd + i\n",
    "    else:  # i为偶数\n",
    "        sum_even = sum_even + i\n",
    "print(\"1-100中所有的奇数和：\", sum_odd)\n",
    "print(\"1-100中所有的偶数和：\", sum_even)"
   ]
  },
  {
   "cell_type": "code",
   "execution_count": 35,
   "metadata": {},
   "outputs": [
    {
     "name": "stdout",
     "output_type": "stream",
     "text": [
      "1-100中所有的奇数和：2500\n",
      "1-100中所有的偶数和：2550\n"
     ]
    }
   ],
   "source": [
    "print(f\"1-100中所有的奇数和：{sum(range(1, 101, 2))}\")\n",
    "print(f\"1-100中所有的偶数和：{sum(range(2, 101, 2))}\")"
   ]
  },
  {
   "cell_type": "markdown",
   "metadata": {},
   "source": [
    "### 案例3-12"
   ]
  },
  {
   "cell_type": "code",
   "execution_count": 36,
   "metadata": {},
   "outputs": [
    {
     "name": "stdout",
     "output_type": "stream",
     "text": [
      "1  5  "
     ]
    }
   ],
   "source": [
    "n = int(input(\"请输入一个正整数：\"))\n",
    "for i in range(1, n + 1):\n",
    "    if n % i == 0:\n",
    "        print(i, end=\"  \")"
   ]
  },
  {
   "cell_type": "code",
   "execution_count": 37,
   "metadata": {},
   "outputs": [
    {
     "name": "stdout",
     "output_type": "stream",
     "text": [
      "1  5\n"
     ]
    }
   ],
   "source": [
    "n = int(input(\"请输入一个正整数：\"))\n",
    "print(\"  \".join(str(i) for i in range(1, n + 1) if n % i == 0))"
   ]
  },
  {
   "cell_type": "markdown",
   "metadata": {},
   "source": [
    "### 案例3-13"
   ]
  },
  {
   "cell_type": "code",
   "execution_count": 38,
   "metadata": {},
   "outputs": [
    {
     "name": "stdout",
     "output_type": "stream",
     "text": [
      "sum= 5050\n"
     ]
    }
   ],
   "source": [
    "_sum = 0\n",
    "i = 1\n",
    "while i <= 100:\n",
    "    _sum = _sum + i\n",
    "    i = i + 1\n",
    "print(\"sum=\", _sum)"
   ]
  },
  {
   "cell_type": "markdown",
   "metadata": {},
   "source": [
    "### 案例3-14"
   ]
  },
  {
   "cell_type": "code",
   "execution_count": 39,
   "metadata": {},
   "outputs": [
    {
     "name": "stdout",
     "output_type": "stream",
     "text": [
      "请输入一个非负整数，以-1作为输入结束!\n",
      "最小123,最大654,均值367.00\n"
     ]
    }
   ],
   "source": [
    "count = 0\n",
    "total = 0\n",
    "print(\"请输入一个非负整数，以-1作为输入结束!\")\n",
    "num = int(input(\"输入数据：\"))\n",
    "_min = num\n",
    "_max = num\n",
    "while num != -1:\n",
    "    count += 1\n",
    "    total += num\n",
    "    if num < _min:\n",
    "        _min = num\n",
    "    if num > _max:\n",
    "        _max = num\n",
    "    num = int(input(\"输入数据：\"))\n",
    "\n",
    "if count > 0:\n",
    "    print(\"最小{},最大{},均值{:.2f}\".format(_min, _max, total / count))\n",
    "else:\n",
    "    print(\"输入为空\")"
   ]
  },
  {
   "cell_type": "code",
   "execution_count": 40,
   "metadata": {},
   "outputs": [
    {
     "name": "stdout",
     "output_type": "stream",
     "text": [
      "最小1,最大67,均值12.86\n"
     ]
    }
   ],
   "source": [
    "numbers = []\n",
    "num = int(input(\"请输入一个非负整数，以-1作为输入结束：\"))\n",
    "while num != -1:\n",
    "    numbers.append(num)\n",
    "    num = int(input(\"请输入一个非负整数，以-1作为输入结束：\"))\n",
    "\n",
    "if not numbers:\n",
    "    print(\"输入为空\")\n",
    "    exit(-1)\n",
    "\n",
    "print(f\"最小{min(numbers)},最大{max(numbers)},均值{sum(numbers)/len(numbers):.2f}\")"
   ]
  },
  {
   "cell_type": "markdown",
   "metadata": {},
   "source": [
    "### 案例3-15"
   ]
  },
  {
   "cell_type": "code",
   "execution_count": null,
   "metadata": {},
   "outputs": [],
   "source": [
    "import math\n",
    "\n",
    "\n",
    "x = float(input(\"输入一个实数：\"))\n",
    "n = 0\n",
    "y = 1.0\n",
    "\n",
    "while abs(y * y - x) > 1e-8:\n",
    "    y = (y + x / y) / 2\n",
    "    n = n + 1\n",
    "    print(n, y)\n",
    "\n",
    "\n",
    "print(\"平方根为：\", y)\n",
    "\n",
    "\n",
    "print(\"sqrt求平方根为：\", math.sqrt(x))"
   ]
  },
  {
   "cell_type": "code",
   "execution_count": 60,
   "metadata": {},
   "outputs": [
    {
     "name": "stdout",
     "output_type": "stream",
     "text": [
      "my_sqrt(x)=1.414213562374689870\n",
      "math_sqrt(x)=1.414213562373095145\n",
      "abs(my_sqrt(x) - math_sqrt(x))=0.000000000001594724\n"
     ]
    }
   ],
   "source": [
    "from math import sqrt as math_sqrt\n",
    "from functools import wraps\n",
    "\n",
    "\n",
    "def my_sqrt(x, init=1.0, eps=1e-8):\n",
    "    def improve(y):\n",
    "        return (y + x / y) / 2\n",
    "\n",
    "    def is_good(y):\n",
    "        return abs(y * y - x) < eps\n",
    "\n",
    "    y = init\n",
    "    while not is_good(y):\n",
    "        y = improve(improve(y))\n",
    "    return y\n",
    "\n",
    "\n",
    "print(f\"{my_sqrt(x)=:.18f}\")\n",
    "print(f\"{math_sqrt(x)=:.18f}\")\n",
    "print(f\"{abs(my_sqrt(x) - math_sqrt(x))=:.18f}\")"
   ]
  },
  {
   "cell_type": "markdown",
   "metadata": {},
   "source": [
    "### 案例3-16"
   ]
  },
  {
   "cell_type": "code",
   "execution_count": 41,
   "metadata": {},
   "outputs": [
    {
     "name": "stdout",
     "output_type": "stream",
     "text": [
      "5 是素数\n"
     ]
    }
   ],
   "source": [
    "n = int(input(\"输入一个正整数n(n>=2):\"))\n",
    "for i in range(2, n):\n",
    "    if n % i == 0:\n",
    "        break\n",
    "if i == n - 1:\n",
    "    print(n, \"是素数\")\n",
    "else:\n",
    "    print(n, \"不是素数\")"
   ]
  },
  {
   "cell_type": "markdown",
   "metadata": {},
   "source": [
    "重启notebook并运行上面的格子，如果直接输入2，会报错\n",
    "\n",
    "`NameError: name 'i' is not defined`\n",
    "\n",
    "再次重启notebook并运行上面的格子，输入5，会输出`5 是素数`，但是如果再次运行上面的格子并输入2，会输出`2 不是素数`，查看`i`的取值，会发现`i`等于4。"
   ]
  },
  {
   "cell_type": "markdown",
   "metadata": {},
   "source": [
    "### 案例3-17\n",
    "\n",
    "求两个数的最大公约数"
   ]
  },
  {
   "cell_type": "code",
   "execution_count": null,
   "metadata": {},
   "outputs": [],
   "source": [
    "m = int(input(\"输入一个正整数m:\"))\n",
    "n = int(input(\"输入一个正整数n:\"))\n",
    "for i in range(min(m, n), 0, -1):\n",
    "    if m % i == 0 and n % i == 0:\n",
    "        print(\"{}和{}的最大公约数为：{}\".format(m, n, i))\n",
    "        break"
   ]
  },
  {
   "cell_type": "markdown",
   "metadata": {},
   "source": [
    "### 案例3-18"
   ]
  },
  {
   "cell_type": "code",
   "execution_count": null,
   "metadata": {},
   "outputs": [],
   "source": [
    "n = int(input(\"输入一个正整数n(n>=2):\"))\n",
    "for i in range(2, n):\n",
    "    if n % i == 0:\n",
    "        print(n, \"不是素数\")\n",
    "        break\n",
    "else:\n",
    "    print(n, \"是素数\")"
   ]
  },
  {
   "cell_type": "markdown",
   "metadata": {},
   "source": [
    "重启notebook并运行上面的格子，如果直接输入2，会输出`2 是素数`。这是因为循环正常退出，也就是以遇到`StopIteration`的方式退出循环。"
   ]
  },
  {
   "cell_type": "code",
   "execution_count": null,
   "metadata": {},
   "outputs": [],
   "source": [
    "next(iter(range(2, 2)))"
   ]
  },
  {
   "cell_type": "markdown",
   "metadata": {},
   "source": [
    "#### [拓展阅读](https://realpython.com/python-for-loop/)"
   ]
  },
  {
   "cell_type": "markdown",
   "metadata": {},
   "source": [
    "<div><img src=\"attachment:t.webp\" width=\"200\"></div>"
   ]
  },
  {
   "cell_type": "markdown",
   "metadata": {},
   "source": [
    "### 案例3-19"
   ]
  },
  {
   "cell_type": "code",
   "execution_count": null,
   "metadata": {},
   "outputs": [],
   "source": [
    "for m in range(1, 5 + 1):\n",
    "    for i in range(1, m + 1):\n",
    "        print(\"*\", end=\"\")\n",
    "    print()\n",
    "for m in range(1, 5 + 1):\n",
    "    for i in range(1, 6 - m + 1):\n",
    "        print(\"*\", end=\"\")\n",
    "    print()"
   ]
  },
  {
   "cell_type": "code",
   "execution_count": null,
   "metadata": {},
   "outputs": [],
   "source": [
    "for m in range(5):\n",
    "    for i in range(m + 1):\n",
    "        print(\"*\", end=\"\")\n",
    "    print()"
   ]
  },
  {
   "cell_type": "code",
   "execution_count": null,
   "metadata": {},
   "outputs": [],
   "source": [
    "for m in range(5):\n",
    "    for i in range(6 - m - 1):\n",
    "        print(\"*\", end=\"\")\n",
    "    print()"
   ]
  },
  {
   "cell_type": "markdown",
   "metadata": {},
   "source": [
    "### 案例3-20"
   ]
  },
  {
   "cell_type": "code",
   "execution_count": null,
   "metadata": {},
   "outputs": [],
   "source": [
    "count = 0\n",
    "for n in range(2, 300):\n",
    "    for i in range(2, n):\n",
    "        if n % i == 0:\n",
    "            break\n",
    "    else:\n",
    "        print(\"{:>5}\".format(n), end=\"\")\n",
    "        count += 1\n",
    "print(\"\\n共有{}个素数\".format(count))\n",
    "# 第9行的输出在for循环结束之后执行，不需要缩进"
   ]
  },
  {
   "cell_type": "markdown",
   "metadata": {},
   "source": [
    "## random库的使用"
   ]
  },
  {
   "cell_type": "markdown",
   "metadata": {},
   "source": [
    "### 案例3-22-1"
   ]
  },
  {
   "cell_type": "code",
   "execution_count": null,
   "metadata": {},
   "outputs": [],
   "source": [
    "# import random"
   ]
  },
  {
   "cell_type": "code",
   "execution_count": null,
   "metadata": {},
   "outputs": [],
   "source": [
    "from random import *"
   ]
  },
  {
   "cell_type": "code",
   "execution_count": null,
   "metadata": {},
   "outputs": [],
   "source": [
    "count = 0\n",
    "for num1 in range(1, 7):\n",
    "    for num2 in range(1, 7):\n",
    "        if num1 + num2 == 7:\n",
    "            print(num1, num2)\n",
    "            count += 1\n",
    "print(\"prob:\", 1 / 36 * count)"
   ]
  },
  {
   "cell_type": "code",
   "execution_count": null,
   "metadata": {},
   "outputs": [],
   "source": [
    "# seed(10)\n",
    "count = 0\n",
    "for i in range(100000):\n",
    "    num1 = randint(1, 6)\n",
    "    num2 = randint(1, 6)\n",
    "    if num1 + num2 == 7:\n",
    "        count += 1\n",
    "# print(f\"{count/100000:.2f}\")\n",
    "print(f\"{count/100000:.8f}\")"
   ]
  },
  {
   "cell_type": "markdown",
   "metadata": {},
   "source": [
    "### 案例3-22-2"
   ]
  },
  {
   "cell_type": "code",
   "execution_count": null,
   "metadata": {},
   "outputs": [],
   "source": [
    "from random import *\n",
    "\n",
    "\n",
    "money = 10\n",
    "\n",
    "\n",
    "_max = money\n",
    "\n",
    "\n",
    "\n",
    "while money > 0:\n",
    "\n",
    "    num1 = randint(1, 6)\n",
    "\n",
    "    num2 = randint(1, 6)\n",
    "\n",
    "    if num1 + num2 == 7:\n",
    "\n",
    "        money += 4\n",
    "\n",
    "        if money > _max:\n",
    "            _max = money\n",
    "\n",
    "    else:\n",
    "\n",
    "        money -= 1\n",
    "\n",
    "    print(money, end=\"  \")\n",
    "\n",
    "\n",
    "\n",
    "print(\"\\nmax=\", _max)"
   ]
  },
  {
   "cell_type": "markdown",
   "metadata": {},
   "source": [
    "## 综合应用"
   ]
  },
  {
   "cell_type": "markdown",
   "metadata": {},
   "source": [
    "### 案例3-23"
   ]
  },
  {
   "cell_type": "code",
   "execution_count": null,
   "metadata": {},
   "outputs": [],
   "source": [
    "for i in range(100, 999 + 1):\n",
    "    a = i // 100\n",
    "    b = i // 10 % 10\n",
    "    c = i % 10\n",
    "    if a**3 + b**3 + c**3 == i:\n",
    "        print(i, end=\"   \")"
   ]
  },
  {
   "cell_type": "markdown",
   "metadata": {},
   "source": [
    "### 案例3-24"
   ]
  },
  {
   "cell_type": "code",
   "execution_count": null,
   "metadata": {},
   "outputs": [],
   "source": [
    "for n in range(1, 999 + 1):\n",
    "    _sum = 0\n",
    "    for i in range(1, n):\n",
    "        if n % i == 0:\n",
    "            _sum += i\n",
    "    if _sum == n:\n",
    "        print(n, end=\"   \")"
   ]
  },
  {
   "cell_type": "markdown",
   "metadata": {},
   "source": [
    "### 案例3-25-1"
   ]
  },
  {
   "cell_type": "code",
   "execution_count": null,
   "metadata": {},
   "outputs": [],
   "source": [
    "n = int(input(\"请输入项数：\"))\n",
    "PI = 0\n",
    "for i in range(1, n + 1):\n",
    "    PI = PI + (-1) ** (i + 1) * (1 / (2 * i - 1))\n",
    "print(\"PI=\", PI * 4)"
   ]
  },
  {
   "cell_type": "markdown",
   "metadata": {},
   "source": [
    "### 案例3-25-2"
   ]
  },
  {
   "cell_type": "code",
   "execution_count": null,
   "metadata": {},
   "outputs": [],
   "source": [
    "import math\n",
    "\n",
    "\n",
    "PI = 0\n",
    "\n",
    "\n",
    "i = 1\n",
    "\n",
    "\n",
    "while abs(PI * 4 - math.pi) >= 1e-6:\n",
    "\n",
    "    PI = PI + (-1) ** (i + 1) * (1 / (2 * i - 1))\n",
    "\n",
    "    i += 1\n",
    "\n",
    "\n",
    "print(\"PI=\", PI * 4)"
   ]
  },
  {
   "cell_type": "markdown",
   "metadata": {},
   "source": [
    "### 案例3-26"
   ]
  },
  {
   "cell_type": "code",
   "execution_count": null,
   "metadata": {},
   "outputs": [],
   "source": [
    "n = int(input(\"输入数列项数：\"))\n",
    "x1 = 1\n",
    "x2 = 1\n",
    "count = 2\n",
    "print(\"{:>8}{:>8}\".format(x1, x2), end=\"\")\n",
    "for i in range(3, n + 1):\n",
    "    x3 = x1 + x2\n",
    "    print(\"{:>8}\".format(x3), end=\"\")\n",
    "    count += 1\n",
    "    if count % 4 == 0:\n",
    "        print()  # 每输出4个数据就换行\n",
    "    x1 = x2\n",
    "    x2 = x3"
   ]
  },
  {
   "cell_type": "markdown",
   "metadata": {},
   "source": [
    "## 课堂案例"
   ]
  }
 ],
 "metadata": {
  "kernelspec": {
   "display_name": ".venv",
   "language": "python",
   "name": "python3"
  },
  "language_info": {
   "codemirror_mode": {
    "name": "ipython",
    "version": 3
   },
   "file_extension": ".py",
   "mimetype": "text/x-python",
   "name": "python",
   "nbconvert_exporter": "python",
   "pygments_lexer": "ipython3",
   "version": "3.12.8"
  },
  "toc": {
   "base_numbering": 1,
   "nav_menu": {},
   "number_sections": true,
   "sideBar": true,
   "skip_h1_title": false,
   "title_cell": "Table of Contents",
   "title_sidebar": "Contents",
   "toc_cell": false,
   "toc_position": {},
   "toc_section_display": true,
   "toc_window_display": false
  }
 },
 "nbformat": 4,
 "nbformat_minor": 2
}
