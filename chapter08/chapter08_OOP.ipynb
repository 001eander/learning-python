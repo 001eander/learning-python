{
 "cells": [
  {
   "cell_type": "markdown",
   "id": "7b4a38ba",
   "metadata": {},
   "source": [
    "例8.1 类和对象"
   ]
  },
  {
   "cell_type": "code",
   "execution_count": 1,
   "id": "a53c2a2f",
   "metadata": {},
   "outputs": [
    {
     "name": "stdout",
     "output_type": "stream",
     "text": [
      "<__main__.Person1 object at 0x000002BCA6F256D0>\n"
     ]
    }
   ],
   "source": [
    "class Person1:  #定义类Person1\n",
    "    pass      #类体为空语句\n",
    "p1 = Person1()  #创建和使用对象\n",
    "print(p1)\n"
   ]
  },
  {
   "cell_type": "markdown",
   "id": "77025ab3",
   "metadata": {},
   "source": [
    "例8.3 实例属性"
   ]
  },
  {
   "cell_type": "code",
   "execution_count": 2,
   "id": "e135af93",
   "metadata": {},
   "outputs": [
    {
     "name": "stdout",
     "output_type": "stream",
     "text": [
      "您好, 我叫 张三\n",
      "25\n"
     ]
    }
   ],
   "source": [
    "class Person2:                 #定义类Person2\n",
    "    def __init__(self, name,age): #__init__方法\n",
    "        self.name = name     #初始化self.name，即成员变量name（域）\n",
    "        self.age = age        #初始化self.age，即成员变量age（域）\n",
    "    def say_hi (self):         #定义类Person2的函数sayHi\n",
    "        print('您好, 我叫', self.name) #在实例方法中通过self.name读取成员变量name（域）\n",
    "p1 = Person2('张三',25)       #创建对象\n",
    "p1.say_hi()               #调用对象的方法\n",
    "print(p1.age)              #通过p1.age（obj1.变量名）读取成员变量age（域）\n"
   ]
  },
  {
   "cell_type": "code",
   "execution_count": 3,
   "id": "8db0c85b",
   "metadata": {},
   "outputs": [],
   "source": [
    "p1 = Person2('张三',25) \n",
    "p2 = Person2('李四',35) "
   ]
  },
  {
   "cell_type": "code",
   "execution_count": 4,
   "id": "f76abcd7",
   "metadata": {},
   "outputs": [],
   "source": [
    "p2.age = 23"
   ]
  },
  {
   "cell_type": "markdown",
   "id": "f7d8ebc7",
   "metadata": {},
   "source": [
    "例8.4 类属性"
   ]
  },
  {
   "cell_type": "code",
   "execution_count": 5,
   "id": "23d9fd5f",
   "metadata": {},
   "outputs": [],
   "source": [
    "class Person3: \n",
    "    count = 0   #定义属性count，表示计数\n",
    "    name = \"Person\"   #定义属性name1，表示名称"
   ]
  },
  {
   "cell_type": "code",
   "execution_count": 6,
   "id": "84aecb72",
   "metadata": {},
   "outputs": [
    {
     "data": {
      "text/plain": [
       "0"
      ]
     },
     "execution_count": 6,
     "metadata": {},
     "output_type": "execute_result"
    }
   ],
   "source": [
    "Person3.count"
   ]
  },
  {
   "cell_type": "code",
   "execution_count": 7,
   "id": "919e4319",
   "metadata": {},
   "outputs": [],
   "source": [
    "#测试代码\n",
    "Person3.count += 1"
   ]
  },
  {
   "cell_type": "code",
   "execution_count": 8,
   "id": "4be80071",
   "metadata": {},
   "outputs": [
    {
     "name": "stdout",
     "output_type": "stream",
     "text": [
      "1\n",
      "Person\n"
     ]
    }
   ],
   "source": [
    "print(Person3.count)\n",
    "print(Person3.name)"
   ]
  },
  {
   "cell_type": "code",
   "execution_count": 9,
   "id": "15c0867a",
   "metadata": {},
   "outputs": [],
   "source": [
    "p1 = Person3()\n",
    "p2 = Person3()"
   ]
  },
  {
   "cell_type": "code",
   "execution_count": 10,
   "id": "de7f28c6",
   "metadata": {},
   "outputs": [
    {
     "name": "stdout",
     "output_type": "stream",
     "text": [
      "('Person', 'Person')\n"
     ]
    }
   ],
   "source": [
    "print((p1.name, p2.name))"
   ]
  },
  {
   "cell_type": "code",
   "execution_count": 11,
   "id": "bf14056a",
   "metadata": {},
   "outputs": [
    {
     "name": "stdout",
     "output_type": "stream",
     "text": [
      "(1, 1)\n"
     ]
    }
   ],
   "source": [
    "print((p1.count, p2.count))"
   ]
  },
  {
   "cell_type": "code",
   "execution_count": 12,
   "id": "95d20bc6",
   "metadata": {},
   "outputs": [
    {
     "name": "stdout",
     "output_type": "stream",
     "text": [
      "('雇员', '雇员')\n"
     ]
    }
   ],
   "source": [
    "Person3.count += 1\n",
    "Person3.name = \"雇员\"\n",
    "print((p1.name, p2.name))"
   ]
  },
  {
   "cell_type": "code",
   "execution_count": 13,
   "id": "708d431d",
   "metadata": {},
   "outputs": [],
   "source": [
    "p1.name = \"员工\" #通过实例对象访问，则属于该实例的实例属性"
   ]
  },
  {
   "cell_type": "code",
   "execution_count": 14,
   "id": "f2a65f20",
   "metadata": {},
   "outputs": [
    {
     "data": {
      "text/plain": [
       "'员工'"
      ]
     },
     "execution_count": 14,
     "metadata": {},
     "output_type": "execute_result"
    }
   ],
   "source": [
    "p1.name"
   ]
  },
  {
   "cell_type": "code",
   "execution_count": 15,
   "id": "9d504ced",
   "metadata": {},
   "outputs": [
    {
     "data": {
      "text/plain": [
       "'雇员'"
      ]
     },
     "execution_count": 15,
     "metadata": {},
     "output_type": "execute_result"
    }
   ],
   "source": [
    "p2.name"
   ]
  },
  {
   "cell_type": "code",
   "execution_count": 16,
   "id": "c09114ba",
   "metadata": {},
   "outputs": [
    {
     "name": "stdout",
     "output_type": "stream",
     "text": [
      "(2, 2)\n"
     ]
    }
   ],
   "source": [
    "print((p1.count, p2.count))"
   ]
  },
  {
   "cell_type": "code",
   "execution_count": 17,
   "id": "e1669f7a",
   "metadata": {},
   "outputs": [],
   "source": [
    "Person3.age_group = 'elder person'"
   ]
  },
  {
   "cell_type": "markdown",
   "id": "3c5c96ed",
   "metadata": {},
   "source": [
    "例8.5 私有属性"
   ]
  },
  {
   "cell_type": "code",
   "execution_count": 18,
   "id": "9d56b086",
   "metadata": {},
   "outputs": [
    {
     "name": "stdout",
     "output_type": "stream",
     "text": [
      "class A\n"
     ]
    },
    {
     "ename": "AttributeError",
     "evalue": "type object 'A' has no attribute '__name'",
     "output_type": "error",
     "traceback": [
      "\u001b[1;31m---------------------------------------------------------------------------\u001b[0m",
      "\u001b[1;31mAttributeError\u001b[0m                            Traceback (most recent call last)",
      "\u001b[1;32m~\\AppData\\Local\\Temp/ipykernel_14876/2485028930.py\u001b[0m in \u001b[0;36m<module>\u001b[1;34m\u001b[0m\n\u001b[0;32m      6\u001b[0m \u001b[1;31m#测试代码\u001b[0m\u001b[1;33m\u001b[0m\u001b[1;33m\u001b[0m\u001b[0m\n\u001b[0;32m      7\u001b[0m \u001b[0mA\u001b[0m\u001b[1;33m.\u001b[0m\u001b[0mget_name\u001b[0m\u001b[1;33m(\u001b[0m\u001b[1;33m)\u001b[0m\u001b[1;33m\u001b[0m\u001b[1;33m\u001b[0m\u001b[0m\n\u001b[1;32m----> 8\u001b[1;33m \u001b[0mA\u001b[0m\u001b[1;33m.\u001b[0m\u001b[0m__name\u001b[0m          \u001b[1;31m#导致错误，不能直接访问私有属性\u001b[0m\u001b[1;33m\u001b[0m\u001b[1;33m\u001b[0m\u001b[0m\n\u001b[0m",
      "\u001b[1;31mAttributeError\u001b[0m: type object 'A' has no attribute '__name'"
     ]
    }
   ],
   "source": [
    "class A:\n",
    "    __name = 'class A'   #私有类属性\n",
    "    \n",
    "    def get_name():\n",
    "        print(A.__name) #在类方法中访问私有类属性\n",
    "#测试代码\n",
    "A.get_name()\n",
    "A.__name          #导致错误，不能直接访问私有属性\n"
   ]
  },
  {
   "cell_type": "code",
   "execution_count": null,
   "id": "4694d4b9",
   "metadata": {},
   "outputs": [],
   "source": [
    "class A:\n",
    "    __name = 'class A'   #私有类属性\n",
    "    \n",
    "    def __init__(self, my_name):\n",
    "         self.__my_name = my_name\n",
    "    \n",
    "    def get_name():\n",
    "        print(A.__name) #在类方法中访问私有类属性\n",
    "        \n",
    "    def get_my_name(self):\n",
    "        print(self.__my_name)\n",
    "#测试代码\n",
    "a = A('abc')"
   ]
  },
  {
   "cell_type": "code",
   "execution_count": 19,
   "id": "645dd007",
   "metadata": {},
   "outputs": [
    {
     "name": "stdout",
     "output_type": "stream",
     "text": [
      "class A\n"
     ]
    }
   ],
   "source": [
    "A.get_name()"
   ]
  },
  {
   "cell_type": "code",
   "execution_count": 20,
   "id": "ffcd4871",
   "metadata": {},
   "outputs": [
    {
     "ename": "NameError",
     "evalue": "name 'a' is not defined",
     "output_type": "error",
     "traceback": [
      "\u001b[1;31m---------------------------------------------------------------------------\u001b[0m",
      "\u001b[1;31mNameError\u001b[0m                                 Traceback (most recent call last)",
      "\u001b[1;32m~\\AppData\\Local\\Temp/ipykernel_14876/83206923.py\u001b[0m in \u001b[0;36m<module>\u001b[1;34m\u001b[0m\n\u001b[1;32m----> 1\u001b[1;33m \u001b[0ma\u001b[0m\u001b[1;33m.\u001b[0m\u001b[0m__my_name\u001b[0m          \u001b[1;31m#导致错误，不能直接访问私有属性\u001b[0m\u001b[1;33m\u001b[0m\u001b[1;33m\u001b[0m\u001b[0m\n\u001b[0m",
      "\u001b[1;31mNameError\u001b[0m: name 'a' is not defined"
     ]
    }
   ],
   "source": [
    "a.__my_name          #导致错误，不能直接访问私有属性"
   ]
  },
  {
   "cell_type": "code",
   "execution_count": 21,
   "id": "3a8ed2a5",
   "metadata": {},
   "outputs": [
    {
     "ename": "NameError",
     "evalue": "name 'a' is not defined",
     "output_type": "error",
     "traceback": [
      "\u001b[1;31m---------------------------------------------------------------------------\u001b[0m",
      "\u001b[1;31mNameError\u001b[0m                                 Traceback (most recent call last)",
      "\u001b[1;32m~\\AppData\\Local\\Temp/ipykernel_14876/767315185.py\u001b[0m in \u001b[0;36m<module>\u001b[1;34m\u001b[0m\n\u001b[1;32m----> 1\u001b[1;33m \u001b[0ma\u001b[0m\u001b[1;33m.\u001b[0m\u001b[0mget_my_name\u001b[0m\u001b[1;33m(\u001b[0m\u001b[1;33m)\u001b[0m\u001b[1;33m\u001b[0m\u001b[1;33m\u001b[0m\u001b[0m\n\u001b[0m",
      "\u001b[1;31mNameError\u001b[0m: name 'a' is not defined"
     ]
    }
   ],
   "source": [
    "a.get_my_name()"
   ]
  },
  {
   "cell_type": "markdown",
   "id": "07445bc2",
   "metadata": {},
   "source": [
    "例8.6 property装饰器(1)"
   ]
  },
  {
   "cell_type": "code",
   "execution_count": 22,
   "id": "23af36c3",
   "metadata": {},
   "outputs": [
    {
     "name": "stdout",
     "output_type": "stream",
     "text": [
      "王五\n"
     ]
    }
   ],
   "source": [
    "class Person11:\n",
    "    def __init__(self, name):\n",
    "        self.__name = name\n",
    "\n",
    "    def name(self):\n",
    "        \"\"\"I'm the 'x' property.\"\"\"\n",
    "        return self.__name\n",
    "#测试代码\n",
    "p = Person11('王五')\n",
    "print(p.name())\n"
   ]
  },
  {
   "cell_type": "code",
   "execution_count": 23,
   "id": "ce492994",
   "metadata": {},
   "outputs": [
    {
     "name": "stdout",
     "output_type": "stream",
     "text": [
      "王五\n"
     ]
    }
   ],
   "source": [
    "class Person11:\n",
    "    def __init__(self, name):\n",
    "        self.__name = name\n",
    "    \n",
    "    @property\n",
    "    def name(self):\n",
    "        \"\"\"I'm the 'x' property.\"\"\"\n",
    "        return self.__name\n",
    "#测试代码\n",
    "p = Person11('王五')\n",
    "print(p.name)\n"
   ]
  },
  {
   "cell_type": "code",
   "execution_count": 24,
   "id": "c1a45119",
   "metadata": {},
   "outputs": [
    {
     "name": "stdout",
     "output_type": "stream",
     "text": [
      "2\n"
     ]
    }
   ],
   "source": [
    "class Person11:\n",
    "    def __init__(self, name):\n",
    "        self.__name = name\n",
    "    \n",
    "    @property\n",
    "    def namelen(self):\n",
    "        return len(self.__name)\n",
    "    \n",
    "#测试代码\n",
    "p = Person11('王五')\n",
    "print(p.namelen)"
   ]
  },
  {
   "cell_type": "markdown",
   "id": "e3fed10f",
   "metadata": {},
   "source": [
    "例8.6 property装饰器(2)"
   ]
  },
  {
   "cell_type": "code",
   "execution_count": 25,
   "id": "1a9f41cd",
   "metadata": {},
   "outputs": [],
   "source": [
    "class Person12:\n",
    "    def __init__(self, name):\n",
    "        self.__name = name\n",
    "    @property\n",
    "    def name(self):\n",
    "        \"\"\"I'm the 'x' property.\"\"\"\n",
    "        return self.__name\n",
    "    @name.setter\n",
    "    def name(self, value):\n",
    "        self.__name = value\n",
    "    @name.deleter\n",
    "    def name(self):\n",
    "        del self.__name\n",
    "#测试代码\n",
    "p = Person12('姚六')"
   ]
  },
  {
   "cell_type": "code",
   "execution_count": 26,
   "id": "1238fc63",
   "metadata": {},
   "outputs": [
    {
     "data": {
      "text/plain": [
       "'姚六'"
      ]
     },
     "execution_count": 26,
     "metadata": {},
     "output_type": "execute_result"
    }
   ],
   "source": [
    "p.name"
   ]
  },
  {
   "cell_type": "code",
   "execution_count": 27,
   "id": "dceae8af",
   "metadata": {},
   "outputs": [],
   "source": [
    "p.name = '王依依'"
   ]
  },
  {
   "cell_type": "code",
   "execution_count": 28,
   "id": "80366073",
   "metadata": {},
   "outputs": [
    {
     "name": "stdout",
     "output_type": "stream",
     "text": [
      "王依依\n"
     ]
    }
   ],
   "source": [
    "print(p.name)"
   ]
  },
  {
   "cell_type": "code",
   "execution_count": 29,
   "id": "c8ea0284",
   "metadata": {},
   "outputs": [],
   "source": [
    "del p.name"
   ]
  },
  {
   "cell_type": "code",
   "execution_count": 30,
   "id": "0617e525",
   "metadata": {},
   "outputs": [],
   "source": [
    "# p.name"
   ]
  },
  {
   "cell_type": "markdown",
   "id": "205f9f71",
   "metadata": {},
   "source": [
    "例8.10 实例方法"
   ]
  },
  {
   "cell_type": "code",
   "execution_count": 31,
   "id": "ef5a9fc6",
   "metadata": {},
   "outputs": [],
   "source": [
    "class Person4:            #定义类Person4\n",
    "    \n",
    "    def say_goodby(self, age):\n",
    "        self.age = age\n",
    "    \n",
    "    def say_hi(self, name): #定义方法say_hi\n",
    "        self.name = name #把参数name赋值给self.name，即成员变量name（域）\n",
    "        print('您好, 我叫', self.name)\n",
    "        print(f'您好，我{self.age}岁')\n",
    "p4 = Person4()    #创建对象实例"
   ]
  },
  {
   "cell_type": "code",
   "execution_count": 32,
   "id": "6cc03b74",
   "metadata": {},
   "outputs": [
    {
     "name": "stdout",
     "output_type": "stream",
     "text": [
      "您好, 我叫 Bob\n",
      "您好，我78岁\n"
     ]
    }
   ],
   "source": [
    "p4.say_goodby(78)\n",
    "p4.say_hi('Bob')"
   ]
  },
  {
   "cell_type": "code",
   "execution_count": 33,
   "id": "b2727605",
   "metadata": {},
   "outputs": [
    {
     "name": "stdout",
     "output_type": "stream",
     "text": [
      "您好, 我叫 Alice\n",
      "您好，我78岁\n"
     ]
    }
   ],
   "source": [
    "p4.say_hi('Alice')  #调用对象实例的方法"
   ]
  },
  {
   "cell_type": "markdown",
   "id": "3730a815",
   "metadata": {},
   "source": [
    "例8.11 静态方法"
   ]
  },
  {
   "cell_type": "code",
   "execution_count": 34,
   "id": "4970e649",
   "metadata": {},
   "outputs": [
    {
     "name": "stdout",
     "output_type": "stream",
     "text": [
      "1. 从摄氏温度到华氏温度.\n",
      "2. 从华氏温度到摄氏温度.\n",
      "请选择转换方向：\n"
     ]
    },
    {
     "ename": "ValueError",
     "evalue": "invalid literal for int() with base 10: ''",
     "output_type": "error",
     "traceback": [
      "\u001b[1;31m---------------------------------------------------------------------------\u001b[0m",
      "\u001b[1;31mValueError\u001b[0m                                Traceback (most recent call last)",
      "\u001b[1;32m~\\AppData\\Local\\Temp/ipykernel_14876/1888561798.py\u001b[0m in \u001b[0;36m<module>\u001b[1;34m\u001b[0m\n\u001b[0;32m     13\u001b[0m \u001b[0mprint\u001b[0m\u001b[1;33m(\u001b[0m\u001b[1;34m\"1. 从摄氏温度到华氏温度.\"\u001b[0m\u001b[1;33m)\u001b[0m\u001b[1;33m\u001b[0m\u001b[1;33m\u001b[0m\u001b[0m\n\u001b[0;32m     14\u001b[0m \u001b[0mprint\u001b[0m\u001b[1;33m(\u001b[0m\u001b[1;34m\"2. 从华氏温度到摄氏温度.\"\u001b[0m\u001b[1;33m)\u001b[0m\u001b[1;33m\u001b[0m\u001b[1;33m\u001b[0m\u001b[0m\n\u001b[1;32m---> 15\u001b[1;33m \u001b[0mchoice\u001b[0m \u001b[1;33m=\u001b[0m \u001b[0mint\u001b[0m\u001b[1;33m(\u001b[0m\u001b[0minput\u001b[0m\u001b[1;33m(\u001b[0m\u001b[1;34m\"请选择转换方向：\"\u001b[0m\u001b[1;33m)\u001b[0m\u001b[1;33m)\u001b[0m\u001b[1;33m\u001b[0m\u001b[1;33m\u001b[0m\u001b[0m\n\u001b[0m\u001b[0;32m     16\u001b[0m \u001b[1;32mif\u001b[0m \u001b[0mchoice\u001b[0m \u001b[1;33m==\u001b[0m \u001b[1;36m1\u001b[0m\u001b[1;33m:\u001b[0m\u001b[1;33m\u001b[0m\u001b[1;33m\u001b[0m\u001b[0m\n\u001b[0;32m     17\u001b[0m     \u001b[0mt_c\u001b[0m \u001b[1;33m=\u001b[0m \u001b[0mfloat\u001b[0m\u001b[1;33m(\u001b[0m\u001b[0minput\u001b[0m\u001b[1;33m(\u001b[0m\u001b[1;34m\"请输入摄氏温度： \"\u001b[0m\u001b[1;33m)\u001b[0m\u001b[1;33m)\u001b[0m\u001b[1;33m\u001b[0m\u001b[1;33m\u001b[0m\u001b[0m\n",
      "\u001b[1;31mValueError\u001b[0m: invalid literal for int() with base 10: ''"
     ]
    }
   ],
   "source": [
    "class TemperatureConverter:\n",
    "    @staticmethod \n",
    "    def c2f(t_c): #摄氏温度到华氏温度的转换\n",
    "        t_c = float(t_c)\n",
    "        t_f = (t_c * 9/5) + 32\n",
    "        return t_f\n",
    "    @staticmethod \n",
    "    def f2c(t_f): #华氏温度到摄氏温度的转换\n",
    "        t_f = float(t_f)\n",
    "        t_c = (t_f - 32) * 5 /9\n",
    "        return t_c\n",
    "#测试代码\n",
    "print(\"1. 从摄氏温度到华氏温度.\")\n",
    "print(\"2. 从华氏温度到摄氏温度.\")\n",
    "choice = int(input(\"请选择转换方向：\"))\n",
    "if choice == 1:\n",
    "    t_c = float(input(\"请输入摄氏温度： \"))\n",
    "    t_f = TemperatureConverter.c2f(t_c)\n",
    "    print(\"华氏温度为： {0:.2f}\".format(t_f))\n",
    "elif choice == 2:\n",
    "    t_f = float(input(\"请输入华氏温度： \"))\n",
    "    t_c = TemperatureConverter.f2c(t_f)\n",
    "    print(\"摄氏温度为： {0:.2f}\".format(t_c))\n",
    "else:\n",
    "    print(\"无此选项，只能选择1或2！\")"
   ]
  },
  {
   "cell_type": "code",
   "execution_count": 35,
   "id": "7dcc7f96",
   "metadata": {},
   "outputs": [
    {
     "data": {
      "text/plain": [
       "64.4"
      ]
     },
     "execution_count": 35,
     "metadata": {},
     "output_type": "execute_result"
    }
   ],
   "source": [
    "tc = TemperatureConverter()\n",
    "tc.c2f(18)"
   ]
  },
  {
   "cell_type": "markdown",
   "id": "fb5f9e35",
   "metadata": {},
   "source": [
    "例8.12 类方法"
   ]
  },
  {
   "cell_type": "code",
   "execution_count": 36,
   "id": "fcd1428b",
   "metadata": {},
   "outputs": [
    {
     "name": "stdout",
     "output_type": "stream",
     "text": [
      "Foo\n",
      "李\n",
      "static\n",
      "Foo\n"
     ]
    }
   ],
   "source": [
    "class Foo:\n",
    "    classname = \"Foo\"\n",
    "    def __init__(self, name):\n",
    "        self.name = name    \n",
    "    def f1(self): #实例方法\n",
    "        print(self.classname)\n",
    "        print(self.name)  \n",
    "    @staticmethod  \n",
    "    def f2():     #静态方法  \n",
    "        print(\"static\")  \n",
    "    @classmethod  \n",
    "    def f3(cls): #类方法  \n",
    "        print(cls.classname)  \n",
    "#测试代码\n",
    "f = Foo(\"李\")\n",
    "f.f1()\n",
    "Foo.f2()\n",
    "Foo.f3()\n"
   ]
  },
  {
   "cell_type": "code",
   "execution_count": 37,
   "id": "92c16c8d",
   "metadata": {},
   "outputs": [
    {
     "name": "stdout",
     "output_type": "stream",
     "text": [
      "Foo\n"
     ]
    }
   ],
   "source": [
    "f.f3()"
   ]
  },
  {
   "cell_type": "markdown",
   "id": "c45f16e3",
   "metadata": {},
   "source": [
    "例8.14 构造方法"
   ]
  },
  {
   "cell_type": "code",
   "execution_count": 38,
   "id": "32ca7108",
   "metadata": {},
   "outputs": [
    {
     "name": "stdout",
     "output_type": "stream",
     "text": [
      "p1(0,0)\n",
      "p1(5,5)\n"
     ]
    }
   ],
   "source": [
    "class Point: \n",
    "    def __init__(self, x = 0, y = 0): #构造函数\n",
    "        self.x = x \n",
    "        self.y = y \n",
    "p1 = Point()                   #创建对象\n",
    "print(\"p1({0},{1})\".format(p1.x, p1.y))\n",
    "p1 = Point(5, 5)               #创建对象\n",
    "print(\"p1({0},{1})\".format(p1.x, p1.y))"
   ]
  },
  {
   "cell_type": "markdown",
   "id": "5f905d02",
   "metadata": {},
   "source": [
    "构造方法结合类方法，可以实现很多有用的功能。"
   ]
  },
  {
   "cell_type": "code",
   "execution_count": 39,
   "id": "6f587551",
   "metadata": {},
   "outputs": [],
   "source": [
    "class Person:\n",
    "    \n",
    "    def __init__(self, name):\n",
    "        self.name = name\n",
    "    \n",
    "    def say_hi(self):\n",
    "        print('您好, 我叫', self.name)\n",
    "        \n",
    "    def save(self, save_path):\n",
    "        with open(save_path, 'w') as f:\n",
    "            f.write(self.name)\n",
    "    \n",
    "    @classmethod\n",
    "    def load(cls, save_path):\n",
    "        with open(save_path, 'r') as f:\n",
    "            name = f.read()\n",
    "        return cls(name)"
   ]
  },
  {
   "cell_type": "code",
   "execution_count": 40,
   "id": "29a6fac6",
   "metadata": {},
   "outputs": [],
   "source": [
    "alice = Person('alice')\n",
    "alice.save('./name.txt')"
   ]
  },
  {
   "cell_type": "code",
   "execution_count": 41,
   "id": "3759ca6d",
   "metadata": {},
   "outputs": [],
   "source": [
    "with open('./name.txt', 'r') as f:\n",
    "    name = f.read()\n",
    "alice = Person(name)"
   ]
  },
  {
   "cell_type": "code",
   "execution_count": 42,
   "id": "5d3094be",
   "metadata": {},
   "outputs": [],
   "source": [
    "alice = Person.load('./name.txt')"
   ]
  },
  {
   "cell_type": "code",
   "execution_count": 43,
   "id": "9a7545c1",
   "metadata": {
    "scrolled": true
   },
   "outputs": [
    {
     "name": "stdout",
     "output_type": "stream",
     "text": [
      "您好, 我叫 alice\n"
     ]
    }
   ],
   "source": [
    "alice.say_hi()"
   ]
  },
  {
   "cell_type": "markdown",
   "id": "bc1c8447",
   "metadata": {},
   "source": [
    "关于__new__方法，可阅读 https://www.pythontutorial.net/python-oop/python-__new__/"
   ]
  },
  {
   "cell_type": "markdown",
   "id": "7a8e0207",
   "metadata": {},
   "source": [
    "例8.15 析构方法"
   ]
  },
  {
   "cell_type": "code",
   "execution_count": 44,
   "id": "a66e53ac",
   "metadata": {},
   "outputs": [
    {
     "name": "stdout",
     "output_type": "stream",
     "text": [
      "总计数为： 0\n",
      "您好, 我叫 张三\n",
      "总计数为： 1\n",
      "您好, 我叫 李四\n",
      "总计数为： 2\n"
     ]
    }
   ],
   "source": [
    "class Person3: \n",
    "    count = 0                #定义类域count，表示计数\n",
    "    def __init__(self, name,age): #构造函数\n",
    "        self.name = name \n",
    "        self.age = age \n",
    "        Person3.count += 1   #创建一个实例时，计数加1\n",
    "#         self.__class__.count += 1\n",
    "    def __del__(self):        #析构函数\n",
    "        Person3.count -= 1   #销毁一个实例时，计数减1\n",
    "    def say_hi (self): \n",
    "        print('您好, 我叫', self.name)\n",
    "    \n",
    "    @classmethod\n",
    "    def get_count(cls):        #创建类方法\n",
    "        print('总计数为：', cls.count)\n",
    "print('总计数为：',Person3.count) #类名访问\n",
    "p31 = Person3('张三',25)    #创建对象\n",
    "p31.say_hi()        #调用对象的方法\n",
    "Person3.get_count()  #通过类名访问\n",
    "p32 = Person3('李四',28)   #创建对象\n",
    "p32.say_hi()        #调用对象的方法\n",
    "Person3.get_count()  #通过类名访问"
   ]
  },
  {
   "cell_type": "code",
   "execution_count": 45,
   "id": "b1dda65d",
   "metadata": {},
   "outputs": [
    {
     "data": {
      "text/plain": [
       "2"
      ]
     },
     "execution_count": 45,
     "metadata": {},
     "output_type": "execute_result"
    }
   ],
   "source": [
    "p32.count"
   ]
  },
  {
   "cell_type": "code",
   "execution_count": 46,
   "id": "6cc3b11d",
   "metadata": {},
   "outputs": [
    {
     "name": "stdout",
     "output_type": "stream",
     "text": [
      "总计数为： 1\n",
      "总计数为： 0\n"
     ]
    }
   ],
   "source": [
    "del p31            #删除对象p31\n",
    "Person3.get_count()  #通过类名访问\n",
    "del p32            #删除对象p32\n",
    "Person3.get_count()  #通过类名访问"
   ]
  },
  {
   "cell_type": "code",
   "execution_count": 47,
   "id": "45f76b95",
   "metadata": {},
   "outputs": [
    {
     "name": "stdout",
     "output_type": "stream",
     "text": [
      "(1, 1)\n"
     ]
    }
   ],
   "source": [
    "class Person3: \n",
    "    count = 0   #定义属性count，表示计数\n",
    "    \n",
    "    def __init__(self):\n",
    "        self.count += 1\n",
    "\n",
    "#测试代码\n",
    "p1 = Person3()\n",
    "p2 = Person3()\n",
    "print((p1.count, p2.count))\n"
   ]
  },
  {
   "cell_type": "code",
   "execution_count": null,
   "id": "6c068860",
   "metadata": {},
   "outputs": [],
   "source": []
  },
  {
   "cell_type": "markdown",
   "id": "4cc95e41",
   "metadata": {},
   "source": [
    "例8.16 私有方法"
   ]
  },
  {
   "cell_type": "code",
   "execution_count": 48,
   "id": "72e1302a",
   "metadata": {},
   "outputs": [
    {
     "name": "stdout",
     "output_type": "stream",
     "text": [
      "Python程序设计教程 江红\n"
     ]
    },
    {
     "ename": "AttributeError",
     "evalue": "'Book' object has no attribute '__check_name'",
     "output_type": "error",
     "traceback": [
      "\u001b[1;31m---------------------------------------------------------------------------\u001b[0m",
      "\u001b[1;31mAttributeError\u001b[0m                            Traceback (most recent call last)",
      "\u001b[1;32m~\\AppData\\Local\\Temp/ipykernel_14876/2694542597.py\u001b[0m in \u001b[0;36m<module>\u001b[1;34m\u001b[0m\n\u001b[0;32m     12\u001b[0m \u001b[0mb\u001b[0m \u001b[1;33m=\u001b[0m \u001b[0mBook\u001b[0m\u001b[1;33m(\u001b[0m\u001b[1;34m'Python程序设计教程'\u001b[0m\u001b[1;33m,\u001b[0m\u001b[1;34m'江红'\u001b[0m\u001b[1;33m,\u001b[0m\u001b[1;36m2.0\u001b[0m\u001b[1;33m)\u001b[0m    \u001b[1;31m#创建对象\u001b[0m\u001b[1;33m\u001b[0m\u001b[1;33m\u001b[0m\u001b[0m\n\u001b[0;32m     13\u001b[0m \u001b[0mb\u001b[0m\u001b[1;33m.\u001b[0m\u001b[0mget_name\u001b[0m\u001b[1;33m(\u001b[0m\u001b[1;33m)\u001b[0m               \u001b[1;31m#调用对象的方法\u001b[0m\u001b[1;33m\u001b[0m\u001b[1;33m\u001b[0m\u001b[0m\n\u001b[1;32m---> 14\u001b[1;33m \u001b[0mb\u001b[0m\u001b[1;33m.\u001b[0m\u001b[0m__check_name\u001b[0m\u001b[1;33m(\u001b[0m\u001b[1;33m)\u001b[0m           \u001b[1;31m#直接调用私有方法，非法\u001b[0m\u001b[1;33m\u001b[0m\u001b[1;33m\u001b[0m\u001b[0m\n\u001b[0m",
      "\u001b[1;31mAttributeError\u001b[0m: 'Book' object has no attribute '__check_name'"
     ]
    }
   ],
   "source": [
    "class Book:                     #定义类Book\n",
    "    def __init__(self, name, author, price):\n",
    "        self.name = name  #把参数name赋值给self.name，即成员变量name（域）\n",
    "        self.author = author#把参数author赋值给self.author，即成员变量author（域）\n",
    "        self.price = price   #把参数price赋值给self.price，即成员变量price（域）\n",
    "    def __check_name(self):       #定义私有方法\n",
    "        if self.name == '' : return False\n",
    "        else: return True\n",
    "    def get_name(self):\n",
    "        if self.__check_name():print(self.name,self.author) #调用私有方法\n",
    "        else:print('No value')\n",
    "b = Book('Python程序设计教程','江红',2.0)    #创建对象\n",
    "b.get_name()               #调用对象的方法\n",
    "b.__check_name()           #直接调用私有方法，非法\n"
   ]
  },
  {
   "cell_type": "markdown",
   "id": "6e55f33c",
   "metadata": {},
   "source": [
    "例8.19 派生类"
   ]
  },
  {
   "cell_type": "code",
   "execution_count": 49,
   "id": "7a9708a4",
   "metadata": {
    "code_folding": []
   },
   "outputs": [
    {
     "name": "stdout",
     "output_type": "stream",
     "text": [
      "您好, 我叫张王一, 33岁\n",
      "您好, 我叫李姚二, 20岁\n",
      "我是学生, 我的学号为： 2013101001\n"
     ]
    }
   ],
   "source": [
    "class Person:                 #基类\n",
    "    def __init__(self, name, age): #构造函数\n",
    "        self.name = name     #姓名\n",
    "        self.age = age        #年龄\n",
    "    \n",
    "    def say_hi(self):         #定义基类方法say_hi\n",
    "        print('您好, 我叫{0}, {1}岁'.format(self.name,self.age))\n",
    "\n",
    "        \n",
    "class Student(Person):         #派生类\n",
    "    def __init__(self, name, age, stu_id): #构造函数\n",
    "#         Person.__init__(self, name, age) #调用基类构造函数\n",
    "        super().__init__(name, age)\n",
    "        self.stu_id = stu_id    #学号\n",
    "    \n",
    "    def say_hi(self):          #定义派生类方法say_hi\n",
    "#         Person.say_hi(self)    #调用基类方法say_hi\n",
    "        super().say_hi()\n",
    "        print('我是学生, 我的学号为：', self.stu_id)\n",
    "\n",
    "p1 = Person('张王一', 33)            #创建对象\n",
    "p1.say_hi()\n",
    "s1 = Student('李姚二', 20, '2013101001') #创建对象\n",
    "s1.say_hi()\n"
   ]
  },
  {
   "cell_type": "markdown",
   "id": "f107eaad",
   "metadata": {},
   "source": [
    "例8.21 类成员的继承和重写"
   ]
  },
  {
   "cell_type": "code",
   "execution_count": 50,
   "id": "fadd057b",
   "metadata": {},
   "outputs": [
    {
     "name": "stdout",
     "output_type": "stream",
     "text": [
      "12.56 8.0\n"
     ]
    }
   ],
   "source": [
    "class Dimension:  #定义类Dimensions\n",
    "    def __init__(self, x, y): #构造函数\n",
    "        self.x = x       #x坐标\n",
    "        self.y = y       #y坐标\n",
    "    def area(self):       #基类的方法area()\n",
    "        pass\n",
    "\n",
    "class Circle(Dimension):  #定义类Circle（圆）\n",
    "    def __init__(self, r): #构造函数\n",
    "        Dimension.__init__(self, r, 0)\n",
    "    def area(self):        #覆盖基类的方法area()\n",
    "        return 3.14 * self.x * self.x   #计算圆面积\n",
    "\n",
    "class Rectangle(Dimension):  #定义类Rectangle（矩形）\n",
    "    def __init__(self, w, h): #构造函数\n",
    "        Dimension.__init__(self, w, h)\n",
    "    def area(self):  #覆盖基类的方法area()\n",
    "        return self.x * self.y  #计算矩形面积\n",
    "\n",
    "d1 = Circle(2.0)          #创建对象：圆\n",
    "d2 = Rectangle(2.0, 4.0)   #创建对象：矩形\n",
    "print(d1.area(), d2.area())  #计算并打印圆和矩形面积\n"
   ]
  },
  {
   "cell_type": "markdown",
   "id": "73754ec4",
   "metadata": {},
   "source": [
    "例8.22 对象的特殊方法"
   ]
  },
  {
   "cell_type": "code",
   "execution_count": 51,
   "id": "657138b3",
   "metadata": {},
   "outputs": [],
   "source": [
    "class Person:\n",
    "    def __init__(self, name, age): #构造函数\n",
    "        self.name = name\n",
    "        self.age = age\n",
    "        \n",
    "    def __str__(self):          #特殊方法，输出成员变量\n",
    "        return '{0}, {1}'.format(self.name,self.age)\n",
    "\n",
    "    def __repr__(self):\n",
    "        return self.name\n",
    "\n",
    "#测试代码\n",
    "p1 = Person('张三', 23)"
   ]
  },
  {
   "cell_type": "code",
   "execution_count": 52,
   "id": "defe06e6",
   "metadata": {},
   "outputs": [
    {
     "name": "stdout",
     "output_type": "stream",
     "text": [
      "张三, 23\n"
     ]
    }
   ],
   "source": [
    "print(p1)"
   ]
  },
  {
   "cell_type": "markdown",
   "id": "70e1a008",
   "metadata": {},
   "source": [
    "例8.23 运算符重载"
   ]
  },
  {
   "cell_type": "code",
   "execution_count": 53,
   "id": "9e5da0a7",
   "metadata": {},
   "outputs": [
    {
     "ename": "TypeError",
     "evalue": "can only concatenate list (not \"int\") to list",
     "output_type": "error",
     "traceback": [
      "\u001b[1;31m---------------------------------------------------------------------------\u001b[0m",
      "\u001b[1;31mTypeError\u001b[0m                                 Traceback (most recent call last)",
      "\u001b[1;32m~\\AppData\\Local\\Temp/ipykernel_14876/2081715027.py\u001b[0m in \u001b[0;36m<module>\u001b[1;34m\u001b[0m\n\u001b[1;32m----> 1\u001b[1;33m \u001b[1;33m[\u001b[0m\u001b[1;36m1\u001b[0m\u001b[1;33m,\u001b[0m\u001b[1;36m2\u001b[0m\u001b[1;33m,\u001b[0m\u001b[1;36m3\u001b[0m\u001b[1;33m,\u001b[0m\u001b[1;36m4\u001b[0m\u001b[1;33m]\u001b[0m \u001b[1;33m+\u001b[0m \u001b[1;36m2\u001b[0m\u001b[1;33m\u001b[0m\u001b[1;33m\u001b[0m\u001b[0m\n\u001b[0m",
      "\u001b[1;31mTypeError\u001b[0m: can only concatenate list (not \"int\") to list"
     ]
    }
   ],
   "source": [
    "[1,2,3,4] + 2"
   ]
  },
  {
   "cell_type": "code",
   "execution_count": 54,
   "id": "95811470",
   "metadata": {},
   "outputs": [],
   "source": [
    "class MyList:             #定义类MyList\n",
    "    def __init__(self, *args): #构造函数\n",
    "#         self.__mylist = []  #初始化私有属性，空列表\n",
    "#         for arg in args:\n",
    "#             self.__mylist.append(arg)\n",
    "        self.__mylist = list(args)\n",
    "    \n",
    "    def __add__(self, n):   #重载运算符\"+\"，每个元素增加n\n",
    "        for i in range(0, len(self.__mylist)):\n",
    "            self.__mylist[i] += n\n",
    "#         return self.__mylist\n",
    "            \n",
    "    def __sub__(self, n):   #重载运算符\"-\"，每个元素减少n\n",
    "        for i in range(0, len(self.__mylist)):\n",
    "            self.__mylist[i] -= n \n",
    "    \n",
    "    def __mul__(self, n):   #重载运算符\"*\"，每个元素乘以n\n",
    "        for i in range(0, len(self.__mylist)):\n",
    "            self.__mylist[i] *= n \n",
    "    \n",
    "    def __truediv__(self, n): #重载运算符\"/\"，每个元素除以n\n",
    "        for i in range(0, len(self.__mylist)):\n",
    "            self.__mylist[i] /= n \n",
    "    \n",
    "    def __len__(self):     #对应于内置函数len()，返回列表长度\n",
    "        return(len(self.__mylist))\n",
    "    \n",
    "    def __repr__(self):    #对应于内置函数str()，显示列表\n",
    "        str1 = ''\n",
    "        for i in range(0, len(self.__mylist)):\n",
    "            str1 += str(self.__mylist[i]) + ' '\n",
    "        return str1\n",
    "#         return str(self.__mylist)\n",
    "#测试代码\n",
    "m = MyList(1, 2, 3, 4, 5) #创建对象"
   ]
  },
  {
   "cell_type": "code",
   "execution_count": 55,
   "id": "a7305b44",
   "metadata": {},
   "outputs": [
    {
     "name": "stdout",
     "output_type": "stream",
     "text": [
      "3 4 5 6 7 \n",
      "2 3 4 5 6 \n",
      "8 12 16 20 24 \n",
      "4.0 6.0 8.0 10.0 12.0 \n",
      "5\n"
     ]
    }
   ],
   "source": [
    "m + 2; print(repr(m))   #每个元素加2\n",
    "m - 1; print(str(m))   #每个元素减1\n",
    "m * 4; print(m)   #每个元素乘4\n",
    "m / 2; print(m)   #每个元素除2\n",
    "print(len(m))         #列表长度"
   ]
  },
  {
   "cell_type": "markdown",
   "id": "adb8b429",
   "metadata": {},
   "source": [
    "例8.24 total_ordering装饰器函数"
   ]
  },
  {
   "cell_type": "code",
   "execution_count": 56,
   "id": "e971d7c2",
   "metadata": {},
   "outputs": [
    {
     "name": "stdout",
     "output_type": "stream",
     "text": [
      "True\n",
      "False\n"
     ]
    }
   ],
   "source": [
    "import functools\n",
    "@functools.total_ordering\n",
    "class Student:\n",
    "    def __init__(self, firstname, lastname):  #姓和名\n",
    "        self.firstname = firstname\n",
    "        self.lastname = lastname\n",
    "    def __eq__(self, other):     #判断姓名是否一致\n",
    "        return ((self.lastname.lower(), self.firstname.lower()) ==\n",
    "                (other.lastname.lower(), other.firstname.lower()))\n",
    "    def __lt__(self, other):     #self姓名<other姓名\n",
    "        return ((self.lastname.lower(), self.firstname.lower()) <\n",
    "                (other.lastname.lower(), other.firstname.lower()))\n",
    "#测试代码\n",
    "\n",
    "s1 = Student('Mary','Clinton')\n",
    "s2 = Student('Mary','Clinton')\n",
    "s3 = Student('Charlie','Clinton')\n",
    "print(s1==s2)\n",
    "print(s1<=s3)\n"
   ]
  },
  {
   "cell_type": "markdown",
   "id": "4b19b1c9",
   "metadata": {},
   "source": [
    "例8.25 可调用对象"
   ]
  },
  {
   "cell_type": "code",
   "execution_count": 57,
   "id": "c2f12e5c",
   "metadata": {},
   "outputs": [],
   "source": [
    "class GDistance:       #类：自由落体距离\n",
    "    \n",
    "    def __init__(self, g): #构造函数\n",
    "        self.g = g \n",
    "    \n",
    "    def __call__(self, t): #自由落体下落距离\n",
    "        return (self.g*t**2)/2\n",
    "#测试代码\n",
    "\n",
    "e_gdist = GDistance(9.8) #地球上的重力加速度"
   ]
  },
  {
   "cell_type": "code",
   "execution_count": 58,
   "id": "39bc9f04",
   "metadata": {},
   "outputs": [
    {
     "data": {
      "text/plain": [
       "490.00000000000006"
      ]
     },
     "execution_count": 58,
     "metadata": {},
     "output_type": "execute_result"
    }
   ],
   "source": [
    "e_gdist(10)"
   ]
  },
  {
   "cell_type": "code",
   "execution_count": 59,
   "id": "e9c9f713",
   "metadata": {},
   "outputs": [
    {
     "name": "stdout",
     "output_type": "stream",
     "text": [
      "0.00 4.90 19.60 44.10 78.40 122.50 176.40 240.10 313.60 396.90 490.00 "
     ]
    }
   ],
   "source": [
    "for t in range(11):      #自由落体0~10秒的下落距离\n",
    "    print(format(e_gdist(t), \"0.2f\"),end=' ') #调用可调用对象e_gdist"
   ]
  },
  {
   "cell_type": "markdown",
   "id": "bf8538da",
   "metadata": {},
   "source": [
    "8.26-8.28 对象的引用、浅拷贝、深拷贝"
   ]
  },
  {
   "cell_type": "code",
   "execution_count": 60,
   "id": "e5247085",
   "metadata": {},
   "outputs": [],
   "source": [
    "acc10 = ['Charlie', ['credit', 0.0]]\n",
    "acc11 = acc10"
   ]
  },
  {
   "cell_type": "code",
   "execution_count": 61,
   "id": "7b3d4020",
   "metadata": {},
   "outputs": [
    {
     "name": "stdout",
     "output_type": "stream",
     "text": [
      "3009279203392 3009279203392\n"
     ]
    }
   ],
   "source": [
    "print(id(acc10), id(acc11))"
   ]
  },
  {
   "cell_type": "code",
   "execution_count": 62,
   "id": "5fd5cc09",
   "metadata": {},
   "outputs": [],
   "source": [
    "import copy"
   ]
  },
  {
   "cell_type": "code",
   "execution_count": 63,
   "id": "0118d6e8",
   "metadata": {},
   "outputs": [
    {
     "name": "stdout",
     "output_type": "stream",
     "text": [
      "3009279217216 3009279216960\n"
     ]
    }
   ],
   "source": [
    "acc1=['Charlie', ['credit', 0.0]]\n",
    "acc2=copy.copy(acc1)\n",
    "print(id(acc1), id(acc2))"
   ]
  },
  {
   "cell_type": "code",
   "execution_count": 64,
   "id": "2a76d346",
   "metadata": {},
   "outputs": [
    {
     "name": "stdout",
     "output_type": "stream",
     "text": [
      "3009279202880 3009279202880\n"
     ]
    }
   ],
   "source": [
    "print(id(acc1[1]), id(acc2[1]))"
   ]
  },
  {
   "cell_type": "code",
   "execution_count": 65,
   "id": "4bd0c7eb",
   "metadata": {},
   "outputs": [
    {
     "data": {
      "text/plain": [
       "(['Charlie', ['credit', -99.9]], ['Clinton', ['credit', -99.9]])"
      ]
     },
     "execution_count": 65,
     "metadata": {},
     "output_type": "execute_result"
    }
   ],
   "source": [
    "acc2[0] = 'Clinton'\n",
    "acc2[1][1]=-99.9\n",
    "acc1, acc2"
   ]
  },
  {
   "cell_type": "code",
   "execution_count": 66,
   "id": "17531c4e",
   "metadata": {},
   "outputs": [],
   "source": [
    "acc5=copy.deepcopy(acc1)"
   ]
  },
  {
   "cell_type": "code",
   "execution_count": 67,
   "id": "712a52c6",
   "metadata": {},
   "outputs": [
    {
     "name": "stdout",
     "output_type": "stream",
     "text": [
      "3009279202880 3009279124800\n"
     ]
    }
   ],
   "source": [
    "print(id(acc1[1]), id(acc5[1]))"
   ]
  },
  {
   "cell_type": "code",
   "execution_count": 68,
   "id": "1cabba02",
   "metadata": {},
   "outputs": [],
   "source": [
    "acc5[0] = 'Clinton'\n",
    "acc5[1][1]=-19.9"
   ]
  },
  {
   "cell_type": "code",
   "execution_count": 69,
   "id": "d84688c4",
   "metadata": {},
   "outputs": [
    {
     "data": {
      "text/plain": [
       "(['Charlie', ['credit', -99.9]], ['Clinton', ['credit', -19.9]])"
      ]
     },
     "execution_count": 69,
     "metadata": {},
     "output_type": "execute_result"
    }
   ],
   "source": [
    "acc1,acc5"
   ]
  },
  {
   "cell_type": "markdown",
   "id": "07fd6139",
   "metadata": {},
   "source": [
    "例8.31 利用生成器函数创建Fibonacci数列"
   ]
  },
  {
   "cell_type": "code",
   "execution_count": 70,
   "id": "875d8217",
   "metadata": {},
   "outputs": [
    {
     "name": "stdout",
     "output_type": "stream",
     "text": [
      "1,1,2,3,5,8,13,21,34,55,89,144,233,377,610,987,"
     ]
    }
   ],
   "source": [
    "def fib():\n",
    "    a,b = 0,1     #前两项值\n",
    "    while 1:\n",
    "        a,b = b,a+b\n",
    "        yield a  #f(n)=f(n-1)+f(n-2)\n",
    "\n",
    "\n",
    "fibs = fib()\n",
    "for f in fibs:\n",
    "    if f < 1000: print(f, end=',')\n",
    "    else: break"
   ]
  },
  {
   "cell_type": "markdown",
   "id": "ed8b0bf0",
   "metadata": {},
   "source": [
    "案例 直方图"
   ]
  },
  {
   "cell_type": "code",
   "execution_count": 71,
   "id": "6346a466",
   "metadata": {},
   "outputs": [],
   "source": [
    "import random\n",
    "import math\n",
    "class Stat:\n",
    "    def __init__(self, n):\n",
    "        self._data = []\n",
    "        for i in range(n):\n",
    "            self._data.append(0)\n",
    "    def addDataPoint(self, i):\n",
    "        \"\"\"增加数据点\"\"\"\n",
    "        self._data[i] += 1\n",
    "    def count(self):\n",
    "        \"\"\"计算数据点个数之和（统计数据点个数）\"\"\"\n",
    "        return sum(self._data)\n",
    "    def mean(self):\n",
    "        \"\"\"计算各数据点个数的平均值\"\"\"\n",
    "        return sum(self._data)/len(self._data)\n",
    "    def max(self):\n",
    "        \"\"\"计算各数据点个数的最大值\"\"\"\n",
    "        return max(self._data)\n",
    "    def min(self):\n",
    "        \"\"\"计算各数据点个数的最小值\"\"\"\n",
    "        return min(self._data)\n",
    "    \n",
    "    def draw(self):\n",
    "            \"\"\"绘制简易直方图\"\"\"\n",
    "            for num, num_freq in enumerate(self._data):\n",
    "                print(num, '#'* num_freq)\n",
    "    \n",
    "    def __repr__(self):\n",
    "        return str(self._data)\n",
    "    \n",
    "#测试代码\n",
    "  \n",
    "#随机生成100个的0到9的数\n",
    "st = Stat(10)\n",
    "for i in range(100):\n",
    "    score = random.randrange(0,10)\n",
    "    st.addDataPoint(math.floor(score))"
   ]
  },
  {
   "cell_type": "code",
   "execution_count": 72,
   "id": "0ebfabd9",
   "metadata": {},
   "outputs": [
    {
     "data": {
      "text/plain": [
       "[8, 8, 10, 15, 7, 9, 10, 9, 14, 10]"
      ]
     },
     "execution_count": 72,
     "metadata": {},
     "output_type": "execute_result"
    }
   ],
   "source": [
    "st"
   ]
  },
  {
   "cell_type": "code",
   "execution_count": 73,
   "id": "7984fee7",
   "metadata": {},
   "outputs": [
    {
     "name": "stdout",
     "output_type": "stream",
     "text": [
      "数据点个数：100\n",
      "数据点个数的平均值：10.0\n",
      "数据点个数的最大值：15\n",
      "数据点个数的最小值：7\n",
      "0 ########\n",
      "1 ########\n",
      "2 ##########\n",
      "3 ###############\n",
      "4 #######\n",
      "5 #########\n",
      "6 ##########\n",
      "7 #########\n",
      "8 ##############\n",
      "9 ##########\n"
     ]
    }
   ],
   "source": [
    "print('数据点个数：{}'.format(st.count()))\n",
    "print('数据点个数的平均值：{}'.format(st.mean()))\n",
    "print('数据点个数的最大值：{}'.format(st.max()))\n",
    "print('数据点个数的最小值：{}'.format(st.min()))\n",
    "st.draw()       #绘制简易直方图"
   ]
  },
  {
   "cell_type": "code",
   "execution_count": null,
   "id": "52c4bb8d",
   "metadata": {},
   "outputs": [],
   "source": []
  }
 ],
 "metadata": {
  "kernelspec": {
   "display_name": "Python 3 (ipykernel)",
   "language": "python",
   "name": "python3"
  },
  "language_info": {
   "codemirror_mode": {
    "name": "ipython",
    "version": 3
   },
   "file_extension": ".py",
   "mimetype": "text/x-python",
   "name": "python",
   "nbconvert_exporter": "python",
   "pygments_lexer": "ipython3",
   "version": "3.9.7"
  },
  "toc": {
   "base_numbering": 1,
   "nav_menu": {},
   "number_sections": true,
   "sideBar": true,
   "skip_h1_title": false,
   "title_cell": "Table of Contents",
   "title_sidebar": "Contents",
   "toc_cell": false,
   "toc_position": {},
   "toc_section_display": true,
   "toc_window_display": false
  }
 },
 "nbformat": 4,
 "nbformat_minor": 5
}
