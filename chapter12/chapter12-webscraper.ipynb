{
 "cells": [
  {
   "cell_type": "markdown",
   "metadata": {},
   "source": [
    "<html>\n",
    "<body>\n",
    "<h1>这里是标题行</h1>\n",
    "<p>这是第一段</p>\n",
    "<p>这是第二段</p>\n",
    "</body>\n",
    "</html>"
   ]
  },
  {
   "cell_type": "markdown",
   "metadata": {},
   "source": [
    "<html>\n",
    "<body bgcolor=\"#eeeeee\">\n",
    "<style>\n",
    "  .css1 { background-color:yellow; color:green; font-style:italic;}\n",
    "</style>\n",
    "<h1 align=\"center\">这里是标题行</h1>\n",
    "<p name=\"p1\" class=\"css1\">这是第一段</p>\n",
    "<p name=\"p2\" class=\"css1\">这是第二段</p>\n",
    "<img src=\"http://www.baidu.com/img/bd_logo1.png\" style=\"width:200px;height:100px\">\n",
    "<a id='link' href=\"http://baidu.com\">点我跳去百度</a>\n",
    "</body>\n",
    "</html> "
   ]
  },
  {
   "cell_type": "markdown",
   "metadata": {},
   "source": [
    "**案例12-1**"
   ]
  },
  {
   "cell_type": "code",
   "execution_count": 2,
   "metadata": {},
   "outputs": [],
   "source": [
    "import requests "
   ]
  },
  {
   "cell_type": "markdown",
   "metadata": {},
   "source": [
    "使用get函数访问百度首页，函数返回对象赋值给r变量"
   ]
  },
  {
   "cell_type": "code",
   "execution_count": 3,
   "metadata": {},
   "outputs": [],
   "source": [
    "r = requests.get('http://www.baidu.com')"
   ]
  },
  {
   "cell_type": "code",
   "execution_count": 4,
   "metadata": {},
   "outputs": [
    {
     "name": "stdout",
     "output_type": "stream",
     "text": [
      "<class 'requests.models.Response'>\n"
     ]
    }
   ],
   "source": [
    "print(type(r)) # 打印返回对象r的类型"
   ]
  },
  {
   "cell_type": "code",
   "execution_count": 5,
   "metadata": {},
   "outputs": [
    {
     "name": "stdout",
     "output_type": "stream",
     "text": [
      "200\n"
     ]
    }
   ],
   "source": [
    "print(r.status_code) # 打印返回对象r的状态码"
   ]
  },
  {
   "cell_type": "code",
   "execution_count": 6,
   "metadata": {},
   "outputs": [],
   "source": [
    "# print(r.text) # 打印返回对象的内容"
   ]
  },
  {
   "cell_type": "code",
   "execution_count": 7,
   "metadata": {},
   "outputs": [
    {
     "data": {
      "text/plain": [
       "'ISO-8859-1'"
      ]
     },
     "execution_count": 7,
     "metadata": {},
     "output_type": "execute_result"
    }
   ],
   "source": [
    "r.encoding"
   ]
  },
  {
   "cell_type": "code",
   "execution_count": 8,
   "metadata": {},
   "outputs": [],
   "source": [
    "r.encoding = 'utf-8'"
   ]
  },
  {
   "cell_type": "code",
   "execution_count": 9,
   "metadata": {},
   "outputs": [],
   "source": [
    "# print(r.text)"
   ]
  },
  {
   "cell_type": "markdown",
   "metadata": {},
   "source": [
    "**案例12-2**"
   ]
  },
  {
   "cell_type": "code",
   "execution_count": 10,
   "metadata": {},
   "outputs": [],
   "source": [
    "import requests "
   ]
  },
  {
   "cell_type": "markdown",
   "metadata": {},
   "source": [
    "伪造头部信息"
   ]
  },
  {
   "cell_type": "code",
   "execution_count": 11,
   "metadata": {},
   "outputs": [],
   "source": [
    "myHeaders = {\n",
    "'User-Agent': \n",
    "    'Mozilla/5.0 (Windows NT 10.0; Win64; x64) AppleWebKit/537.36 (KHTML, like Gecko) Chrome/101.0.4951.64 Safari/537.36',\n",
    " }"
   ]
  },
  {
   "cell_type": "code",
   "execution_count": 12,
   "metadata": {},
   "outputs": [],
   "source": [
    "url = 'http://www.zhihu.com'\n",
    "r = requests.get(url, headers=myHeaders)\n",
    "r.encoding = 'utf-8'"
   ]
  },
  {
   "cell_type": "code",
   "execution_count": 13,
   "metadata": {},
   "outputs": [
    {
     "data": {
      "text/plain": [
       "200"
      ]
     },
     "execution_count": 13,
     "metadata": {},
     "output_type": "execute_result"
    }
   ],
   "source": [
    "r.status_code # 打印返回对象r的状态码"
   ]
  },
  {
   "cell_type": "code",
   "execution_count": 14,
   "metadata": {
    "scrolled": false
   },
   "outputs": [],
   "source": [
    "# r.text # 打印返回对象的内容"
   ]
  },
  {
   "cell_type": "markdown",
   "metadata": {},
   "source": [
    "[如何利用Python实现模拟登录知乎](https://www.yisu.com/zixun/697197.html)\n",
    "\n",
    "[ZhihuScraper](https://github.com/Insdf/ZhihuScraper)"
   ]
  },
  {
   "cell_type": "markdown",
   "metadata": {},
   "source": [
    "**案例12-3**"
   ]
  },
  {
   "cell_type": "code",
   "execution_count": 15,
   "metadata": {},
   "outputs": [],
   "source": [
    "# import requests \n",
    "# r = requests.get('http://www.baidu.com')\n",
    "# r.encoding = 'utf-8'    # 方法一，直接转换Response对象的编码格式\n",
    "# print(r.text)"
   ]
  },
  {
   "cell_type": "code",
   "execution_count": 16,
   "metadata": {},
   "outputs": [],
   "source": [
    "# r = requests.get('http://www.baidu.com')\n",
    "# print(r.content.decode('utf-8'))    # 方法二，对二进制内容以utf-8格式解码"
   ]
  },
  {
   "cell_type": "markdown",
   "metadata": {},
   "source": [
    "**案例12-4**"
   ]
  },
  {
   "cell_type": "code",
   "execution_count": 17,
   "metadata": {},
   "outputs": [],
   "source": [
    "import requests \n",
    "r = requests.get('http://www.baidu.com/img/bd_logo1.png')"
   ]
  },
  {
   "cell_type": "code",
   "execution_count": 18,
   "metadata": {},
   "outputs": [],
   "source": [
    "path = './baidu.png' # 下载文件的存放路径及新文件名\n",
    "with open(path, 'wb') as file: # 以二进制+写模式新建文件\n",
    "    file.write(r.content)"
   ]
  },
  {
   "cell_type": "markdown",
   "metadata": {},
   "source": [
    "**案例12-5**"
   ]
  },
  {
   "cell_type": "code",
   "execution_count": 19,
   "metadata": {},
   "outputs": [],
   "source": [
    "import time\n",
    "import requests"
   ]
  },
  {
   "cell_type": "code",
   "execution_count": 20,
   "metadata": {},
   "outputs": [
    {
     "data": {
      "text/plain": [
       "'https://book.douban.com/subject/1255625/comments/?start=80&limit=20&status=P&sort=new_score'"
      ]
     },
     "execution_count": 20,
     "metadata": {},
     "output_type": "execute_result"
    }
   ],
   "source": [
    "\"https://book.douban.com/subject/1255625/comments/?limit=20&status=P&sort=new_score\"\n",
    "\"https://book.douban.com/subject/1255625/comments/?start=20&limit=20&status=P&sort=new_score\"\n",
    "\"https://book.douban.com/subject/1255625/comments/?start=80&limit=20&status=P&sort=new_score\""
   ]
  },
  {
   "cell_type": "code",
   "execution_count": 21,
   "metadata": {},
   "outputs": [],
   "source": [
    "myHeaders = {\n",
    "'User-Agent': \n",
    "    'Mozilla/5.0 (Windows NT 10.0; Win64; x64) AppleWebKit/537.36 (KHTML, like Gecko) Chrome/101.0.4951.64 Safari/537.36',\n",
    " }"
   ]
  },
  {
   "cell_type": "code",
   "execution_count": 22,
   "metadata": {
    "scrolled": true
   },
   "outputs": [],
   "source": [
    "# url = 'https://book.douban.com/subject/1255625/comments/?start={}&limit=20&status=P&sort=new_score'\n",
    "# for i, start in enumerate(range(20, 100, 20)):\n",
    "#     try:\n",
    "#         r = requests.get(url.format(start), headers=myHeaders)\n",
    "#         r.raise_for_status()\n",
    "#         r.encoding = 'utf-8'\n",
    "#         path = './review_page_{}.html'.format(i)\n",
    "#         with open(path, 'w', encoding='utf-8') as file:\n",
    "#             file.write(r.text)\n",
    "#         time.sleep(3) # 抓取一页评论数据后，休眠3秒再抓取下一页\n",
    "#     except Exception as ex:\n",
    "#         print(\"第{}页采集出错，出错原因:{}\".format(i, ex))"
   ]
  },
  {
   "cell_type": "markdown",
   "metadata": {},
   "source": [
    "**案例12-6**"
   ]
  },
  {
   "cell_type": "code",
   "execution_count": 23,
   "metadata": {},
   "outputs": [],
   "source": [
    "import requests \n",
    "import bs4"
   ]
  },
  {
   "cell_type": "code",
   "execution_count": 24,
   "metadata": {},
   "outputs": [],
   "source": [
    "r = requests.get('http://www.baidu.com')\n",
    "r.encoding = 'utf-8'"
   ]
  },
  {
   "cell_type": "markdown",
   "metadata": {},
   "source": [
    "新建BeautifulSoup对象，赋值给soup变量"
   ]
  },
  {
   "cell_type": "code",
   "execution_count": 25,
   "metadata": {},
   "outputs": [],
   "source": [
    "soup = bs4.BeautifulSoup(r.text, 'html.parser')"
   ]
  },
  {
   "cell_type": "markdown",
   "metadata": {},
   "source": [
    "**案例12-7**"
   ]
  },
  {
   "cell_type": "code",
   "execution_count": 26,
   "metadata": {},
   "outputs": [],
   "source": [
    "import requests \n",
    "import bs4"
   ]
  },
  {
   "cell_type": "code",
   "execution_count": 27,
   "metadata": {},
   "outputs": [],
   "source": [
    "code = '''<html>\n",
    "<body bgcolor=\"#eeeeee\">\n",
    "\t<style>\n",
    "\t\t.css1 { background-color:yellow; color:green; font-style:italic;}\n",
    "\t</style>\n",
    "\t<h1 align=\"center\">这里是标题行</h1>\n",
    "\t<p name=\"p1\" class=\"css1\">这是第一段</p>\n",
    "\t<p name=\"p2\" class=\"css1\">这是第二段</p>\n",
    "\n",
    "\t<img src=\"http://www.baidu.com/img/bd_logo1.png\" style=\"width:200px;height:100px\"></img>\n",
    "\t<a id='link' href=\"http://baidu.com\">点我跳去百度</a>\n",
    "</body>\n",
    "</html>'''"
   ]
  },
  {
   "cell_type": "markdown",
   "metadata": {},
   "source": [
    "根据code新建BeautifulSoup对象"
   ]
  },
  {
   "cell_type": "code",
   "execution_count": 28,
   "metadata": {},
   "outputs": [],
   "source": [
    "soup = bs4.BeautifulSoup(code, 'html.parser')"
   ]
  },
  {
   "cell_type": "code",
   "execution_count": 29,
   "metadata": {},
   "outputs": [
    {
     "name": "stdout",
     "output_type": "stream",
     "text": [
      "<p class=\"css1\" name=\"p1\">这是第一段</p>\n"
     ]
    }
   ],
   "source": [
    "print(soup.p)  # 输出标签对象：<p class=\"css1\" name=\"p1\">这是第一段</p> "
   ]
  },
  {
   "cell_type": "code",
   "execution_count": 30,
   "metadata": {},
   "outputs": [
    {
     "name": "stdout",
     "output_type": "stream",
     "text": [
      "<class 'bs4.element.Tag'>\n"
     ]
    }
   ],
   "source": [
    "print(type(soup.p))  # 输出对象类型：<class 'bs4.element.Tag'>"
   ]
  },
  {
   "cell_type": "code",
   "execution_count": 31,
   "metadata": {},
   "outputs": [
    {
     "name": "stdout",
     "output_type": "stream",
     "text": [
      "p\n"
     ]
    }
   ],
   "source": [
    "print(soup.p.name)  # 输出标签类型：p"
   ]
  },
  {
   "cell_type": "code",
   "execution_count": 32,
   "metadata": {},
   "outputs": [
    {
     "name": "stdout",
     "output_type": "stream",
     "text": [
      "{'name': 'p1', 'class': ['css1']}\n"
     ]
    }
   ],
   "source": [
    "print(soup.p.attrs)  # 输出标签属性字典：{'name': 'p1', 'class': ['css1']}"
   ]
  },
  {
   "cell_type": "code",
   "execution_count": 33,
   "metadata": {},
   "outputs": [
    {
     "name": "stdout",
     "output_type": "stream",
     "text": [
      "p1\n"
     ]
    }
   ],
   "source": [
    "print(soup.p['name'])  # 输出标签name属性：p1"
   ]
  },
  {
   "cell_type": "code",
   "execution_count": 34,
   "metadata": {},
   "outputs": [
    {
     "name": "stdout",
     "output_type": "stream",
     "text": [
      "['css1']\n"
     ]
    }
   ],
   "source": [
    "print(soup.p['class'])  # 输出标签class属性：['css1'] "
   ]
  },
  {
   "cell_type": "markdown",
   "metadata": {},
   "source": [
    "**案例12-8**"
   ]
  },
  {
   "cell_type": "code",
   "execution_count": 35,
   "metadata": {},
   "outputs": [],
   "source": [
    "from bs4 import BeautifulSoup, element"
   ]
  },
  {
   "cell_type": "code",
   "execution_count": 36,
   "metadata": {},
   "outputs": [],
   "source": [
    "code = '''<html><head>\n",
    "<title>网页标题</title></head>\n",
    "<body><h2>金庸群侠传</h2>\n",
    "<table width=\"400px\" border=\"1\">\n",
    "        <tr><th>书名</th> <th>人物</th> <th>年份</th></tr>\n",
    "        <tr><td>《射雕英雄传》</td> <td>郭靖</td> <td>1959年</td></tr>\n",
    "        <tr><td>《倚天屠龙记》</td> <td>张无忌</td> <td>1961年</td></tr>\n",
    "        <tr><td>《笑傲江湖》</td> <td>令狐冲</td> <td>1967年</td></tr>\n",
    "        <tr><td>《鹿鼎记》</td> <td>韦小宝</td> <td>1972年</td></tr>\n",
    "</table></body></html>'''"
   ]
  },
  {
   "cell_type": "code",
   "execution_count": 37,
   "metadata": {},
   "outputs": [],
   "source": [
    "soup = BeautifulSoup(code, 'html.parser')"
   ]
  },
  {
   "cell_type": "code",
   "execution_count": 57,
   "metadata": {},
   "outputs": [
    {
     "data": {
      "text/plain": [
       "[<td>《射雕英雄传》</td>,\n",
       " <td>郭靖</td>,\n",
       " <td>1959年</td>,\n",
       " <td>《倚天屠龙记》</td>,\n",
       " <td>张无忌</td>,\n",
       " <td>1961年</td>,\n",
       " <td>《笑傲江湖》</td>,\n",
       " <td>令狐冲</td>,\n",
       " <td>1967年</td>,\n",
       " <td>《鹿鼎记》</td>,\n",
       " <td>韦小宝</td>,\n",
       " <td>1972年</td>]"
      ]
     },
     "execution_count": 57,
     "metadata": {},
     "output_type": "execute_result"
    }
   ],
   "source": [
    "soup.find_all('td')"
   ]
  },
  {
   "cell_type": "code",
   "execution_count": 38,
   "metadata": {
    "scrolled": true
   },
   "outputs": [
    {
     "name": "stdout",
     "output_type": "stream",
     "text": [
      "['\\n', <tr><th>书名</th> <th>人物</th> <th>年份</th></tr>, '\\n', <tr><td>《射雕英雄传》</td> <td>郭靖</td> <td>1959年</td></tr>, '\\n', <tr><td>《倚天屠龙记》</td> <td>张无忌</td> <td>1961年</td></tr>, '\\n', <tr><td>《笑傲江湖》</td> <td>令狐冲</td> <td>1967年</td></tr>, '\\n', <tr><td>《鹿鼎记》</td> <td>韦小宝</td> <td>1972年</td></tr>, '\\n']\n"
     ]
    }
   ],
   "source": [
    "print(soup.table.contents) # 输出<table>标签所有子节点"
   ]
  },
  {
   "cell_type": "code",
   "execution_count": 39,
   "metadata": {},
   "outputs": [],
   "source": [
    "desc_list = soup.table.contents"
   ]
  },
  {
   "cell_type": "code",
   "execution_count": 46,
   "metadata": {},
   "outputs": [
    {
     "data": {
      "text/plain": [
       "<tr><th>书名</th> <th>人物</th> <th>年份</th></tr>"
      ]
     },
     "execution_count": 46,
     "metadata": {},
     "output_type": "execute_result"
    }
   ],
   "source": [
    "a = desc_list[1]\n",
    "a"
   ]
  },
  {
   "cell_type": "code",
   "execution_count": 55,
   "metadata": {},
   "outputs": [],
   "source": [
    "# a.th.string.fetchParents()"
   ]
  },
  {
   "cell_type": "markdown",
   "metadata": {},
   "source": [
    "**案例12-9**"
   ]
  },
  {
   "cell_type": "code",
   "execution_count": 58,
   "metadata": {},
   "outputs": [],
   "source": [
    "from bs4 import BeautifulSoup, element"
   ]
  },
  {
   "cell_type": "code",
   "execution_count": 60,
   "metadata": {},
   "outputs": [],
   "source": [
    "code = '''<html><head>\n",
    "<title>网页标题</title></head>\n",
    "<body><h2>金庸群侠传</h2>\n",
    "<table width=\"400px\" border=\"1\">\n",
    "        <tr><th>书名</th> <th>人物</th> <th>年份</th></tr>\n",
    "        <tr><td>《射雕英雄传》</td> <td>郭靖</td> <td>1959年</td></tr>\n",
    "        <tr><td>《倚天屠龙记》</td> <td>张无忌</td> <td>1961年</td></tr>\n",
    "        <tr><td>《笑傲江湖》</td> <td>令狐冲</td> <td>1967年</td></tr>\n",
    "        <tr><td>《鹿鼎记》</td> <td>韦小宝</td> <td>1972年</td></tr>\n",
    "</table></body></html>'''"
   ]
  },
  {
   "cell_type": "code",
   "execution_count": 61,
   "metadata": {},
   "outputs": [],
   "source": [
    "soup = bs4.BeautifulSoup(code, 'html.parser')"
   ]
  },
  {
   "cell_type": "code",
   "execution_count": 63,
   "metadata": {},
   "outputs": [
    {
     "name": "stdout",
     "output_type": "stream",
     "text": [
      "<tr><th>书名</th> <th>人物</th> <th>年份</th></tr>\n",
      "<tr><td>《射雕英雄传》</td> <td>郭靖</td> <td>1959年</td></tr>\n",
      "<tr><td>《倚天屠龙记》</td> <td>张无忌</td> <td>1961年</td></tr>\n",
      "<tr><td>《笑傲江湖》</td> <td>令狐冲</td> <td>1967年</td></tr>\n",
      "<tr><td>《鹿鼎记》</td> <td>韦小宝</td> <td>1972年</td></tr>\n"
     ]
    }
   ],
   "source": [
    "for child in soup.table.children:  # 获取第一行向后的兄弟标签\n",
    "    if type(child) != element.NavigableString:  # 过滤标签之间的换行\n",
    "        print(child)"
   ]
  },
  {
   "cell_type": "code",
   "execution_count": 64,
   "metadata": {},
   "outputs": [
    {
     "name": "stdout",
     "output_type": "stream",
     "text": [
      "<tr><th>书名</th> <th>人物</th> <th>年份</th></tr>\n",
      "<th>书名</th>\n",
      "<th>人物</th>\n",
      "<th>年份</th>\n",
      "<tr><td>《射雕英雄传》</td> <td>郭靖</td> <td>1959年</td></tr>\n",
      "<td>《射雕英雄传》</td>\n",
      "<td>郭靖</td>\n",
      "<td>1959年</td>\n",
      "<tr><td>《倚天屠龙记》</td> <td>张无忌</td> <td>1961年</td></tr>\n",
      "<td>《倚天屠龙记》</td>\n",
      "<td>张无忌</td>\n",
      "<td>1961年</td>\n",
      "<tr><td>《笑傲江湖》</td> <td>令狐冲</td> <td>1967年</td></tr>\n",
      "<td>《笑傲江湖》</td>\n",
      "<td>令狐冲</td>\n",
      "<td>1967年</td>\n",
      "<tr><td>《鹿鼎记》</td> <td>韦小宝</td> <td>1972年</td></tr>\n",
      "<td>《鹿鼎记》</td>\n",
      "<td>韦小宝</td>\n",
      "<td>1972年</td>\n"
     ]
    }
   ],
   "source": [
    "for child in soup.table.descendants:  # 获取第一行向后的兄弟标签\n",
    "    if type(child) != element.NavigableString:  # 过滤标签之间的换行\n",
    "        print(child)"
   ]
  },
  {
   "cell_type": "code",
   "execution_count": 62,
   "metadata": {},
   "outputs": [
    {
     "name": "stdout",
     "output_type": "stream",
     "text": [
      "<tr><td>《射雕英雄传》</td> <td>郭靖</td> <td>1959年</td></tr>\n",
      "<tr><td>《倚天屠龙记》</td> <td>张无忌</td> <td>1961年</td></tr>\n",
      "<tr><td>《笑傲江湖》</td> <td>令狐冲</td> <td>1967年</td></tr>\n",
      "<tr><td>《鹿鼎记》</td> <td>韦小宝</td> <td>1972年</td></tr>\n"
     ]
    }
   ],
   "source": [
    "for child in soup.table.tr.next_siblings:  # 获取第一行向后的兄弟标签\n",
    "    if type(child) != element.NavigableString:  # 过滤标签之间的换行\n",
    "        print(child)"
   ]
  },
  {
   "cell_type": "markdown",
   "metadata": {},
   "source": [
    "**案例12-9-1**"
   ]
  },
  {
   "cell_type": "code",
   "execution_count": 66,
   "metadata": {},
   "outputs": [],
   "source": [
    "from bs4 import BeautifulSoup"
   ]
  },
  {
   "cell_type": "code",
   "execution_count": 70,
   "metadata": {},
   "outputs": [],
   "source": [
    "with open(\"page1.html\", 'r', encoding='utf-8') as f:\n",
    "    r = f.read()\n",
    "soup = BeautifulSoup(r)"
   ]
  },
  {
   "cell_type": "code",
   "execution_count": 75,
   "metadata": {},
   "outputs": [
    {
     "data": {
      "text/plain": [
       "[<a href=\"http://baidu.com\" id=\"link\">点我跳去百度</a>]"
      ]
     },
     "execution_count": 75,
     "metadata": {},
     "output_type": "execute_result"
    }
   ],
   "source": [
    "soup.find_all(id='link')"
   ]
  },
  {
   "cell_type": "code",
   "execution_count": 73,
   "metadata": {},
   "outputs": [
    {
     "data": {
      "text/plain": [
       "[<p class=\"css1\" name=\"p1\">这是第一段</p>, <p class=\"css1\" name=\"p2\">这是第二段</p>]"
      ]
     },
     "execution_count": 73,
     "metadata": {},
     "output_type": "execute_result"
    }
   ],
   "source": [
    "soup.find_all(class_='css1')"
   ]
  },
  {
   "cell_type": "code",
   "execution_count": 74,
   "metadata": {},
   "outputs": [
    {
     "data": {
      "text/plain": [
       "[<p class=\"css1\" name=\"p1\">这是第一段</p>, <p class=\"css1\" name=\"p2\">这是第二段</p>]"
      ]
     },
     "execution_count": 74,
     "metadata": {},
     "output_type": "execute_result"
    }
   ],
   "source": [
    "soup.find_all(attrs={'class':'css1'})"
   ]
  },
  {
   "cell_type": "code",
   "execution_count": 76,
   "metadata": {},
   "outputs": [
    {
     "data": {
      "text/plain": [
       "[<p class=\"css1\" name=\"p2\">这是第二段</p>]"
      ]
     },
     "execution_count": 76,
     "metadata": {},
     "output_type": "execute_result"
    }
   ],
   "source": [
    "soup.find_all('p', {'name':'p2','class':'css1'})"
   ]
  },
  {
   "cell_type": "code",
   "execution_count": 77,
   "metadata": {},
   "outputs": [
    {
     "data": {
      "text/plain": [
       "['这是第一段']"
      ]
     },
     "execution_count": 77,
     "metadata": {},
     "output_type": "execute_result"
    }
   ],
   "source": [
    "soup.find_all(text='这是第一段')  "
   ]
  },
  {
   "cell_type": "code",
   "execution_count": 78,
   "metadata": {},
   "outputs": [
    {
     "data": {
      "text/plain": [
       "['这里是标题行', '这是第一段', '这是第二段']"
      ]
     },
     "execution_count": 78,
     "metadata": {},
     "output_type": "execute_result"
    }
   ],
   "source": [
    "import re\n",
    "soup.find_all(text=re.compile('是'))  "
   ]
  },
  {
   "cell_type": "markdown",
   "metadata": {},
   "source": [
    "[Python正则表达式指南](https://www.cnblogs.com/huxi/archive/2010/07/04/1771073.html)"
   ]
  },
  {
   "cell_type": "markdown",
   "metadata": {},
   "source": [
    "**案例12-10**"
   ]
  },
  {
   "cell_type": "code",
   "execution_count": 94,
   "metadata": {},
   "outputs": [],
   "source": [
    "import time, requests\n",
    "import jieba\n",
    "from bs4 import BeautifulSoup\n",
    "from wordcloud import WordCloud"
   ]
  },
  {
   "cell_type": "markdown",
   "metadata": {},
   "source": [
    "函数2：获取给定html文档中的评论内容，返回评论列表"
   ]
  },
  {
   "cell_type": "code",
   "execution_count": 95,
   "metadata": {},
   "outputs": [],
   "source": [
    "def getComment(html):\n",
    "    comment = []  # 该列表用于存储当前页面的所有评论\n",
    "    soup = BeautifulSoup(html, 'html.parser')\n",
    "    div = soup.find('div', id='comments')\n",
    "\n",
    "    # 获取<div>标签内部的所有列表项标签<li>，再获取后代标签<p>、<span>\n",
    "    for li in div.find_all('li', {'class': 'comment-item'}):\n",
    "        a = li.find('p', {'class': 'comment-content'})\n",
    "        text = a.span.string\n",
    "        comment.append(text)\n",
    "    return comment"
   ]
  },
  {
   "cell_type": "code",
   "execution_count": 96,
   "metadata": {},
   "outputs": [],
   "source": [
    "# with open(\"review_page_0.html\", 'r', encoding='utf-8') as f:\n",
    "#     html = f.read()\n",
    "# getComment(html)"
   ]
  },
  {
   "cell_type": "markdown",
   "metadata": {},
   "source": [
    "函数3：根据给定评论文件，利用jieba库分词后生成词云文件"
   ]
  },
  {
   "cell_type": "code",
   "execution_count": 114,
   "metadata": {},
   "outputs": [],
   "source": [
    "with open('./data/stop_words.txt', 'r', encoding='utf-8') as f:\n",
    "    stop_words = f.readlines()\n",
    "stop_words = [w.strip('\\n') for w in stop_words]"
   ]
  },
  {
   "cell_type": "code",
   "execution_count": 116,
   "metadata": {},
   "outputs": [],
   "source": [
    "# stop_words"
   ]
  },
  {
   "cell_type": "code",
   "execution_count": 129,
   "metadata": {},
   "outputs": [],
   "source": [
    "def createWordCould(fileName):\n",
    "    with open(fileName, 'r', encoding='utf-8') as file:\n",
    "        text = file.read()\n",
    "        ls_word = jieba.lcut(text)  # 利用jieba库对所有评论进行分词\n",
    "        # 去除停词\n",
    "        ls_word = filter(lambda x: x not in stop_words, ls_word)\n",
    "        all_words = ','.join(ls_word)  # 所有词语以逗号连接成一个长字符串\n",
    "        wcloud = WordCloud(font_path=r'C:\\Windows\\fonts\\simhei.ttf',\n",
    "                           width=1000, height=800,\n",
    "                           background_color='white',\n",
    "                           max_words=200,\n",
    "                           margin=2)\n",
    "        wcloud.generate(all_words)\n",
    "        # 生成词云图片文件，主文件名同文本文件名\n",
    "        fileCloud = fileName.split('.txt')[0] + '.png'\n",
    "        wcloud.to_file(fileCloud)"
   ]
  },
  {
   "cell_type": "markdown",
   "metadata": {},
   "source": [
    "以下为主程序"
   ]
  },
  {
   "cell_type": "code",
   "execution_count": 124,
   "metadata": {},
   "outputs": [],
   "source": [
    "all_comment = []  # 存储全部评论的列表"
   ]
  },
  {
   "cell_type": "code",
   "execution_count": 125,
   "metadata": {},
   "outputs": [
    {
     "name": "stdout",
     "output_type": "stream",
     "text": [
      "第0页处理完成。\n",
      "第1页处理完成。\n",
      "第2页处理完成。\n",
      "第3页处理完成。\n"
     ]
    }
   ],
   "source": [
    "for i in range(4):\n",
    "    # 参考案例 12-5 中我们已经将这个网页文件保存到本地\n",
    "    with open(f\"review_page_{i}.html\", 'r', encoding='utf-8') as f:\n",
    "        html = f.read()\n",
    "    page_comment = getComment(html)  # 从html文档中抽取评论内容\n",
    "    all_comment.extend(page_comment)  # 每页的评论列表添加到总列表中\n",
    "    print('第{}页处理完成。'.format(i))\n",
    "#     print(page_comment)"
   ]
  },
  {
   "cell_type": "code",
   "execution_count": 126,
   "metadata": {},
   "outputs": [
    {
     "name": "stdout",
     "output_type": "stream",
     "text": [
      "网页采集结束，开始写入文件、生成词云。\n"
     ]
    }
   ],
   "source": [
    "print('网页采集结束，开始写入文件、生成词云。')"
   ]
  },
  {
   "cell_type": "markdown",
   "metadata": {},
   "source": [
    "评论列表全部写入文件"
   ]
  },
  {
   "cell_type": "code",
   "execution_count": 127,
   "metadata": {},
   "outputs": [],
   "source": [
    "fileName = './天龙八部评论.txt'\n",
    "with open(fileName, 'w', encoding='utf-8') as file:\n",
    "    file.writelines(all_comment)"
   ]
  },
  {
   "cell_type": "markdown",
   "metadata": {},
   "source": [
    "根据评论文件生成词云"
   ]
  },
  {
   "cell_type": "code",
   "execution_count": 128,
   "metadata": {},
   "outputs": [
    {
     "name": "stdout",
     "output_type": "stream",
     "text": [
      "词云生成结束。\n"
     ]
    }
   ],
   "source": [
    "createWordCould(fileName)\n",
    "print('词云生成结束。')"
   ]
  },
  {
   "cell_type": "markdown",
   "metadata": {},
   "source": [
    "<img src='./天龙八部评论.png' width=300 align='left'>"
   ]
  },
  {
   "cell_type": "markdown",
   "metadata": {},
   "source": [
    "函数1：爬取给定url的html文档 (弃用)"
   ]
  },
  {
   "cell_type": "code",
   "execution_count": null,
   "metadata": {},
   "outputs": [],
   "source": [
    "def getHtmlDoc(url, page):\n",
    "    try:\n",
    "        url = url + page\n",
    "        r = requests.get(url, timeout=30)\n",
    "        r.raise_for_status()\n",
    "        r.encoding = 'utf-8'\n",
    "        return r.text\n",
    "    except Exception as ex:\n",
    "        print(\"第{}页采集出错，出错原因: {}。\".format(page, ex))\n",
    "        return \"\""
   ]
  },
  {
   "cell_type": "code",
   "execution_count": null,
   "metadata": {},
   "outputs": [],
   "source": []
  },
  {
   "cell_type": "code",
   "execution_count": null,
   "metadata": {},
   "outputs": [],
   "source": []
  }
 ],
 "metadata": {
  "kernelspec": {
   "display_name": "Python 3 (ipykernel)",
   "language": "python",
   "name": "python3"
  },
  "language_info": {
   "codemirror_mode": {
    "name": "ipython",
    "version": 3
   },
   "file_extension": ".py",
   "mimetype": "text/x-python",
   "name": "python",
   "nbconvert_exporter": "python",
   "pygments_lexer": "ipython3",
   "version": "3.9.7"
  }
 },
 "nbformat": 4,
 "nbformat_minor": 2
}
