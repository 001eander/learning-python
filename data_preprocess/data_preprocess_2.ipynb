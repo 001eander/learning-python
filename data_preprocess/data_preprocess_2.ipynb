{
 "cells": [
  {
   "cell_type": "markdown",
   "id": "49cdf094",
   "metadata": {},
   "source": [
    "先运行notebook `data_preprocess_1.ipynb`。"
   ]
  },
  {
   "cell_type": "code",
   "execution_count": 1,
   "id": "ff4e0908",
   "metadata": {},
   "outputs": [],
   "source": [
    "import os\n",
    "import json\n",
    "import datetime\n",
    "\n",
    "import numpy as np\n",
    "import pandas as pd\n",
    "\n",
    "from pathlib import Path\n",
    "from bs4 import BeautifulSoup\n",
    "from tqdm.notebook import tqdm"
   ]
  },
  {
   "cell_type": "code",
   "execution_count": 2,
   "id": "9274c1c8",
   "metadata": {},
   "outputs": [],
   "source": [
    "data_fp = Path(\"C:/Users/xh_z/SynologyDrive/Projects/FinTechCaseStudies/CaseStudy3Sim\")\n",
    "data_fp_unzipped = data_fp/'.unzipped'"
   ]
  },
  {
   "cell_type": "markdown",
   "id": "de1e1c7d",
   "metadata": {},
   "source": [
    "# 处理EPS数据"
   ]
  },
  {
   "cell_type": "markdown",
   "id": "6202a9d9",
   "metadata": {},
   "source": [
    "解析EPS(Earnings Per Share)数据。原始文件是按天存储的HTML文档，只不过文件扩展名是txt。\n",
    "\n",
    "每天的HTML文档记录了当天发布的季度EPS信息，发布该信息的公司，以及是否超出分析师预期等信息。可查看示例文件`20021101.html`。\n",
    "\n",
    "我们需要将每个HTML文档里的EPS表格解析出来。"
   ]
  },
  {
   "cell_type": "code",
   "execution_count": 3,
   "id": "6db789be",
   "metadata": {},
   "outputs": [],
   "source": [
    "def parse_table(table):\n",
    "    rows = table.find_all('tr')\n",
    "    # whether we have entered a panel\n",
    "    panels_d = {\n",
    "        'Upside\\nSurprises': False, \n",
    "        'Met\\nExpectations': False, \n",
    "        'Downside\\nSurprises': False}\n",
    "    if len(rows) == 0:\n",
    "        return None\n",
    "    # a table should contain at most three panels\n",
    "    # keep track of at which row we enter a panel\n",
    "    # and then drop those rows\n",
    "    dropped = []\n",
    "    for i, row in enumerate(rows):\n",
    "        for panel in panels_d:\n",
    "            if row.text.startswith(panel):\n",
    "                # a panel should only be entered once\n",
    "                assert not panels_d[panel] \n",
    "                panels_d[panel] = True\n",
    "                dropped.append(i) # panel title row\n",
    "                dropped.append(i+1) # panel header row\n",
    "    if all([not met for panel, met in panels_d.items()]):\n",
    "        # no panel exists\n",
    "        return None\n",
    "    # extract table column names, should be \n",
    "    # Company, Symbol, Surprise (%), Reported EPS, Consensus EPS, Earnings Call, More\\nInfo\n",
    "    # we don't use the last column\n",
    "    colnames = [td.text for td in rows[1].find_all('td')][:-1]\n",
    "    # remove panel title rows and headers\n",
    "    rows = [[td.text for td in row.find_all('td')[:-1]] for i, row in enumerate(rows) if i not in dropped]\n",
    "    # drop empty rows\n",
    "    rows = [row for row in rows if len(row)>0]\n",
    "    # convert to dataframe\n",
    "    return pd.DataFrame(rows, columns=colnames)"
   ]
  },
  {
   "cell_type": "code",
   "execution_count": 4,
   "id": "14fc97ce",
   "metadata": {},
   "outputs": [],
   "source": [
    "# parse_table(tables[4])"
   ]
  },
  {
   "cell_type": "code",
   "execution_count": 5,
   "id": "bd4be983",
   "metadata": {},
   "outputs": [
    {
     "data": {
      "text/html": [
       "<div>\n",
       "<style scoped>\n",
       "    .dataframe tbody tr th:only-of-type {\n",
       "        vertical-align: middle;\n",
       "    }\n",
       "\n",
       "    .dataframe tbody tr th {\n",
       "        vertical-align: top;\n",
       "    }\n",
       "\n",
       "    .dataframe thead th {\n",
       "        text-align: right;\n",
       "    }\n",
       "</style>\n",
       "<table border=\"1\" class=\"dataframe\">\n",
       "  <thead>\n",
       "    <tr style=\"text-align: right;\">\n",
       "      <th></th>\n",
       "      <th>Company</th>\n",
       "      <th>Symbol</th>\n",
       "      <th>Surprise (%)</th>\n",
       "      <th>Reported EPS</th>\n",
       "      <th>Consensus EPS</th>\n",
       "      <th>Earnings Call</th>\n",
       "      <th>date</th>\n",
       "    </tr>\n",
       "  </thead>\n",
       "  <tbody>\n",
       "    <tr>\n",
       "      <th>0</th>\n",
       "      <td>Apple Computer Inc</td>\n",
       "      <td>AAPL</td>\n",
       "      <td>6.67</td>\n",
       "      <td>0.16</td>\n",
       "      <td>0.15</td>\n",
       "      <td>NaN</td>\n",
       "      <td>20040114</td>\n",
       "    </tr>\n",
       "  </tbody>\n",
       "</table>\n",
       "</div>"
      ],
      "text/plain": [
       "              Company Symbol  Surprise (%)  Reported EPS  Consensus EPS  \\\n",
       "0  Apple Computer Inc   AAPL          6.67          0.16           0.15   \n",
       "\n",
       "   Earnings Call      date  \n",
       "0            NaN  20040114  "
      ]
     },
     "execution_count": 5,
     "metadata": {},
     "output_type": "execute_result"
    }
   ],
   "source": [
    "eps_fp = data_fp/'eps.csv'\n",
    "if os.path.isfile(eps_fp):\n",
    "    eps_df = pd.read_csv(eps_fp)\n",
    "else:\n",
    "    # parse html files\n",
    "    table_l = []\n",
    "    for file in tqdm(os.listdir(data_fp_unzipped/'EPS')):\n",
    "        if not file.endswith('.txt'):\n",
    "            continue\n",
    "        # parse one html file\n",
    "        date = file.split('.')[0]\n",
    "        with open(data_fp_unzipped/'EPS'/file, 'r') as f:\n",
    "            raw_str = f.read()\n",
    "        raw_str = raw_str.replace('<th', '<td')\n",
    "        raw_str = raw_str.replace('</th>', '</td>')\n",
    "        soup = BeautifulSoup(raw_str)\n",
    "        for table in soup.find_all('table'):\n",
    "            # parse one table in the current html file\n",
    "            table = parse_table(table)\n",
    "            if table is not None:\n",
    "                # the parsed table is the target one\n",
    "                # so we have got a dataframe\n",
    "                # now add date information\n",
    "                table['date'] = date\n",
    "                table_l.append(table)\n",
    "                break\n",
    "    # concatenate all parsed tables as a big dataframe\n",
    "    eps_df = pd.concat(table_l)\n",
    "    eps_df.to_csv(data_fp/'eps.csv', index=False)\n",
    "eps_df.head(1)"
   ]
  },
  {
   "cell_type": "code",
   "execution_count": 6,
   "id": "2247ef3c",
   "metadata": {},
   "outputs": [],
   "source": [
    "eps_df.date = eps_df.date.astype(str)\n",
    "eps_df.rename({'Surprise (%)': 'gap%'}, axis=1, inplace=True)\n",
    "eps_df['gap'] = eps_df['Reported EPS'].astype(float) - eps_df['Consensus EPS'].astype(float)\n",
    "eps_df.drop(['Consensus EPS', 'Reported EPS', 'Earnings Call'], axis=1, inplace=True)"
   ]
  },
  {
   "cell_type": "code",
   "execution_count": 7,
   "id": "03a33d06",
   "metadata": {},
   "outputs": [
    {
     "data": {
      "text/html": [
       "<div>\n",
       "<style scoped>\n",
       "    .dataframe tbody tr th:only-of-type {\n",
       "        vertical-align: middle;\n",
       "    }\n",
       "\n",
       "    .dataframe tbody tr th {\n",
       "        vertical-align: top;\n",
       "    }\n",
       "\n",
       "    .dataframe thead th {\n",
       "        text-align: right;\n",
       "    }\n",
       "</style>\n",
       "<table border=\"1\" class=\"dataframe\">\n",
       "  <thead>\n",
       "    <tr style=\"text-align: right;\">\n",
       "      <th></th>\n",
       "      <th>Company</th>\n",
       "      <th>Symbol</th>\n",
       "      <th>gap%</th>\n",
       "      <th>date</th>\n",
       "      <th>gap</th>\n",
       "    </tr>\n",
       "  </thead>\n",
       "  <tbody>\n",
       "    <tr>\n",
       "      <th>0</th>\n",
       "      <td>Apple Computer Inc</td>\n",
       "      <td>AAPL</td>\n",
       "      <td>6.67</td>\n",
       "      <td>20040114</td>\n",
       "      <td>0.01</td>\n",
       "    </tr>\n",
       "  </tbody>\n",
       "</table>\n",
       "</div>"
      ],
      "text/plain": [
       "              Company Symbol  gap%      date   gap\n",
       "0  Apple Computer Inc   AAPL  6.67  20040114  0.01"
      ]
     },
     "execution_count": 7,
     "metadata": {},
     "output_type": "execute_result"
    }
   ],
   "source": [
    "eps_df.head(1)"
   ]
  },
  {
   "cell_type": "code",
   "execution_count": 8,
   "id": "a104c1fc",
   "metadata": {
    "scrolled": true
   },
   "outputs": [
    {
     "data": {
      "text/plain": [
       "(23, 5)"
      ]
     },
     "execution_count": 8,
     "metadata": {},
     "output_type": "execute_result"
    }
   ],
   "source": [
    "eps_df.shape"
   ]
  },
  {
   "cell_type": "markdown",
   "id": "a3fa4329",
   "metadata": {},
   "source": [
    "# 定义公司集"
   ]
  },
  {
   "cell_type": "markdown",
   "id": "9ceb1995",
   "metadata": {},
   "source": [
    "读取标普500的公司列表。这个列表定期更新，我们使用的是2012年9月28日的版本。"
   ]
  },
  {
   "cell_type": "code",
   "execution_count": 9,
   "id": "5e0064a9",
   "metadata": {},
   "outputs": [],
   "source": [
    "snp500_df = pd.read_table(data_fp_unzipped/'snp_list'/'snp500_20120928.txt', header=None, names=['Company', 'Symbol', 'Industry'])"
   ]
  },
  {
   "cell_type": "code",
   "execution_count": 10,
   "id": "9373e517",
   "metadata": {},
   "outputs": [
    {
     "data": {
      "text/html": [
       "<div>\n",
       "<style scoped>\n",
       "    .dataframe tbody tr th:only-of-type {\n",
       "        vertical-align: middle;\n",
       "    }\n",
       "\n",
       "    .dataframe tbody tr th {\n",
       "        vertical-align: top;\n",
       "    }\n",
       "\n",
       "    .dataframe thead th {\n",
       "        text-align: right;\n",
       "    }\n",
       "</style>\n",
       "<table border=\"1\" class=\"dataframe\">\n",
       "  <thead>\n",
       "    <tr style=\"text-align: right;\">\n",
       "      <th></th>\n",
       "      <th>Company</th>\n",
       "      <th>Symbol</th>\n",
       "      <th>Industry</th>\n",
       "    </tr>\n",
       "  </thead>\n",
       "  <tbody>\n",
       "    <tr>\n",
       "      <th>0</th>\n",
       "      <td>Apple Inc.</td>\n",
       "      <td>AAPL</td>\n",
       "      <td>Information Technology</td>\n",
       "    </tr>\n",
       "  </tbody>\n",
       "</table>\n",
       "</div>"
      ],
      "text/plain": [
       "      Company Symbol                Industry\n",
       "0  Apple Inc.   AAPL  Information Technology"
      ]
     },
     "execution_count": 10,
     "metadata": {},
     "output_type": "execute_result"
    }
   ],
   "source": [
    "snp500_df.head(1)"
   ]
  },
  {
   "cell_type": "code",
   "execution_count": 11,
   "id": "2121d709",
   "metadata": {},
   "outputs": [
    {
     "data": {
      "text/plain": [
       "(500, 3)"
      ]
     },
     "execution_count": 11,
     "metadata": {},
     "output_type": "execute_result"
    }
   ],
   "source": [
    "snp500_df.shape"
   ]
  },
  {
   "cell_type": "markdown",
   "id": "93047b69",
   "metadata": {},
   "source": [
    "只考虑标普500公司中同时有EPS以及8K文本的观测日。"
   ]
  },
  {
   "cell_type": "code",
   "execution_count": 12,
   "id": "081c2a31",
   "metadata": {},
   "outputs": [
    {
     "data": {
      "text/html": [
       "<div>\n",
       "<style scoped>\n",
       "    .dataframe tbody tr th:only-of-type {\n",
       "        vertical-align: middle;\n",
       "    }\n",
       "\n",
       "    .dataframe tbody tr th {\n",
       "        vertical-align: top;\n",
       "    }\n",
       "\n",
       "    .dataframe thead th {\n",
       "        text-align: right;\n",
       "    }\n",
       "</style>\n",
       "<table border=\"1\" class=\"dataframe\">\n",
       "  <thead>\n",
       "    <tr style=\"text-align: right;\">\n",
       "      <th></th>\n",
       "      <th>Symbol</th>\n",
       "      <th>Industry</th>\n",
       "      <th>Company</th>\n",
       "      <th>gap%</th>\n",
       "      <th>date</th>\n",
       "      <th>gap</th>\n",
       "    </tr>\n",
       "  </thead>\n",
       "  <tbody>\n",
       "    <tr>\n",
       "      <th>0</th>\n",
       "      <td>AAPL</td>\n",
       "      <td>Information Technology</td>\n",
       "      <td>Apple Computer Inc</td>\n",
       "      <td>6.67</td>\n",
       "      <td>20040114</td>\n",
       "      <td>0.01</td>\n",
       "    </tr>\n",
       "  </tbody>\n",
       "</table>\n",
       "</div>"
      ],
      "text/plain": [
       "  Symbol                Industry             Company  gap%      date   gap\n",
       "0   AAPL  Information Technology  Apple Computer Inc  6.67  20040114  0.01"
      ]
     },
     "execution_count": 12,
     "metadata": {},
     "output_type": "execute_result"
    }
   ],
   "source": [
    "# only consider S&P500 companies\n",
    "eps_snp500_df = snp500_df[['Symbol', 'Industry']].merge(eps_df, on='Symbol', how='inner')\n",
    "eps_snp500_df.head(1)"
   ]
  },
  {
   "cell_type": "code",
   "execution_count": 13,
   "id": "7fe434fe",
   "metadata": {},
   "outputs": [
    {
     "data": {
      "text/plain": [
       "(4, 6)"
      ]
     },
     "execution_count": 13,
     "metadata": {},
     "output_type": "execute_result"
    }
   ],
   "source": [
    "eps_snp500_df.shape"
   ]
  },
  {
   "cell_type": "code",
   "execution_count": 14,
   "id": "b482da5f",
   "metadata": {},
   "outputs": [
    {
     "data": {
      "application/vnd.jupyter.widget-view+json": {
       "model_id": "96e7de9b97b24d2b94f0d0495b7a659d",
       "version_major": 2,
       "version_minor": 0
      },
      "text/plain": [
       "  0%|          | 0/4 [00:00<?, ?it/s]"
      ]
     },
     "metadata": {},
     "output_type": "display_data"
    },
    {
     "name": "stdout",
     "output_type": "stream",
     "text": [
      "processing AAPL\n",
      "processing INTC\n",
      "processing TER\n",
      "processing YHOO\n"
     ]
    },
    {
     "data": {
      "text/html": [
       "<div>\n",
       "<style scoped>\n",
       "    .dataframe tbody tr th:only-of-type {\n",
       "        vertical-align: middle;\n",
       "    }\n",
       "\n",
       "    .dataframe tbody tr th {\n",
       "        vertical-align: top;\n",
       "    }\n",
       "\n",
       "    .dataframe thead th {\n",
       "        text-align: right;\n",
       "    }\n",
       "</style>\n",
       "<table border=\"1\" class=\"dataframe\">\n",
       "  <thead>\n",
       "    <tr style=\"text-align: right;\">\n",
       "      <th></th>\n",
       "      <th>Symbol</th>\n",
       "      <th>Industry</th>\n",
       "      <th>Company</th>\n",
       "      <th>gap%</th>\n",
       "      <th>date</th>\n",
       "      <th>gap</th>\n",
       "      <th>events</th>\n",
       "      <th>time</th>\n",
       "      <th>text</th>\n",
       "      <th>doc_len</th>\n",
       "    </tr>\n",
       "  </thead>\n",
       "  <tbody>\n",
       "    <tr>\n",
       "      <th>0</th>\n",
       "      <td>AAPL</td>\n",
       "      <td>Information Technology</td>\n",
       "      <td>Apple Computer Inc</td>\n",
       "      <td>6.67</td>\n",
       "      <td>20040114</td>\n",
       "      <td>0.01</td>\n",
       "      <td>[Financial statements and exhibits]</td>\n",
       "      <td>2004-01-14 16:30:52</td>\n",
       "      <td>item financial statements and exhibits c exhib...</td>\n",
       "      <td>923.0</td>\n",
       "    </tr>\n",
       "  </tbody>\n",
       "</table>\n",
       "</div>"
      ],
      "text/plain": [
       "  Symbol                Industry             Company  gap%      date   gap  \\\n",
       "0   AAPL  Information Technology  Apple Computer Inc  6.67  20040114  0.01   \n",
       "\n",
       "                                events                time  \\\n",
       "0  [Financial statements and exhibits] 2004-01-14 16:30:52   \n",
       "\n",
       "                                                text  doc_len  \n",
       "0  item financial statements and exhibits c exhib...    923.0  "
      ]
     },
     "execution_count": 14,
     "metadata": {},
     "output_type": "execute_result"
    }
   ],
   "source": [
    "grped = eps_snp500_df.groupby('Symbol')\n",
    "# load processed 8K reports\n",
    "with open(data_fp/'.processed'/'AAPL.json', 'r') as f:\n",
    "    firm_8K_data = json.load(f)\n",
    "\n",
    "grp_pd_l = []\n",
    "for symbol, grp_pd in tqdm(grped):\n",
    "    print(f\"processing {symbol}\")\n",
    "    # work with one S&P500 company\n",
    "    json_fp = data_fp/'.processed'/(symbol+'.json')\n",
    "    if not os.path.isfile(json_fp):\n",
    "        continue\n",
    "    # only deal with companies of which processed 8K reports are available\n",
    "    with open(json_fp, 'r') as f:\n",
    "        doc_d_l = json.load(f)\n",
    "    date_l_8K = [doc_d['time'][:8] for doc_d in doc_d_l]\n",
    "    date_l_eps = set(grp_pd['date'])\n",
    "    # only consider 8K reports (days) of which eps data are available\n",
    "    date_l = date_l_eps.intersection(date_l_8K)\n",
    "    if len(date_l) == 0:\n",
    "        continue\n",
    "    doc_d_d = {date: doc_d for doc_d, date in zip(doc_d_l, date_l_8K) if date in date_l}\n",
    "    # join eps data and 8K text data\n",
    "    grp_pd = grp_pd[grp_pd['date'].isin(date_l)].copy()\n",
    "    nrow = grp_pd.shape[0]\n",
    "    grp_pd['events'] = [[] for _ in range(nrow)]\n",
    "    for row_i, row in grp_pd.iterrows():\n",
    "        doc_d = doc_d_d[row['date']]\n",
    "        grp_pd.loc[row_i, 'time'] = doc_d['time']\n",
    "        grp_pd.at[row_i, 'events'] = doc_d['events']\n",
    "        if doc_d['seperated']:\n",
    "            text = ' '.join([doc_d['body'][toc] for toc in doc_d['toc']])\n",
    "        else:\n",
    "            text = doc_d['body']['all']\n",
    "        grp_pd.loc[row_i, 'text'] = text\n",
    "        grp_pd.loc[row_i, 'doc_len'] = len(text.split())\n",
    "    grp_pd_l.append(grp_pd)\n",
    "# concatenate all companies' sub dataframe into one\n",
    "merged_df = pd.concat(grp_pd_l, ignore_index=True)\n",
    "# release memory\n",
    "del grp_pd_l, firm_8K_data\n",
    "merged_df['time'] = pd.to_datetime(merged_df.time)\n",
    "merged_df.head(2)"
   ]
  },
  {
   "cell_type": "code",
   "execution_count": 15,
   "id": "5b14f455",
   "metadata": {},
   "outputs": [
    {
     "data": {
      "text/plain": [
       "(1, 10)"
      ]
     },
     "execution_count": 15,
     "metadata": {},
     "output_type": "execute_result"
    }
   ],
   "source": [
    "merged_df.shape"
   ]
  },
  {
   "cell_type": "markdown",
   "id": "2b9208d8",
   "metadata": {},
   "source": [
    "# 定义标签"
   ]
  },
  {
   "cell_type": "markdown",
   "id": "8bcb6f76",
   "metadata": {},
   "source": [
    "获取每天的标普500指数，数据集下载自[investing.com](https://www.investing.com/indices/us-spx-500-historical-data)，时间范围为1995-01-01至2016-01-01，保存到路径`data_fp`，文件名`S&P 500 Historical Data.csv`。"
   ]
  },
  {
   "cell_type": "code",
   "execution_count": 16,
   "id": "291e3f53",
   "metadata": {
    "scrolled": true
   },
   "outputs": [
    {
     "data": {
      "text/html": [
       "<div>\n",
       "<style scoped>\n",
       "    .dataframe tbody tr th:only-of-type {\n",
       "        vertical-align: middle;\n",
       "    }\n",
       "\n",
       "    .dataframe tbody tr th {\n",
       "        vertical-align: top;\n",
       "    }\n",
       "\n",
       "    .dataframe thead th {\n",
       "        text-align: right;\n",
       "    }\n",
       "</style>\n",
       "<table border=\"1\" class=\"dataframe\">\n",
       "  <thead>\n",
       "    <tr style=\"text-align: right;\">\n",
       "      <th></th>\n",
       "      <th>Date</th>\n",
       "      <th>Close</th>\n",
       "      <th>Open</th>\n",
       "      <th>High</th>\n",
       "      <th>Low</th>\n",
       "      <th>Vol.</th>\n",
       "      <th>Change %</th>\n",
       "      <th>date</th>\n",
       "    </tr>\n",
       "    <tr>\n",
       "      <th>date_str</th>\n",
       "      <th></th>\n",
       "      <th></th>\n",
       "      <th></th>\n",
       "      <th></th>\n",
       "      <th></th>\n",
       "      <th></th>\n",
       "      <th></th>\n",
       "      <th></th>\n",
       "    </tr>\n",
       "  </thead>\n",
       "  <tbody>\n",
       "    <tr>\n",
       "      <th>19950103</th>\n",
       "      <td>1995-01-03</td>\n",
       "      <td>459.1</td>\n",
       "      <td>459.2</td>\n",
       "      <td>459.3</td>\n",
       "      <td>457.2</td>\n",
       "      <td>-</td>\n",
       "      <td>-0.04%</td>\n",
       "      <td>19950103</td>\n",
       "    </tr>\n",
       "  </tbody>\n",
       "</table>\n",
       "</div>"
      ],
      "text/plain": [
       "               Date  Close   Open   High    Low Vol. Change %      date\n",
       "date_str                                                               \n",
       "19950103 1995-01-03  459.1  459.2  459.3  457.2    -   -0.04%  19950103"
      ]
     },
     "execution_count": 16,
     "metadata": {},
     "output_type": "execute_result"
    }
   ],
   "source": [
    "sp500index_df = pd.read_csv(data_fp/'S&P 500 Historical Data.csv', parse_dates=['Date'])\n",
    "sp500index_df = sp500index_df.sort_values('Date', ascending=True)\n",
    "sp500index_df['date'] = sp500index_df.Date.dt.strftime('%Y%m%d')\n",
    "for col in ['Price', 'Open', 'High', 'Low']:\n",
    "    sp500index_df[col] = sp500index_df[col].str.replace(',','').astype(float)\n",
    "sp500index_df.rename({'Price': 'Close'}, axis=1, inplace=True)\n",
    "sp500index_df['date_str'] = sp500index_df['Date'].dt.strftime('%Y%m%d')\n",
    "sp500index_df = sp500index_df.set_index('date_str')\n",
    "sp500index_df.head(1)"
   ]
  },
  {
   "cell_type": "markdown",
   "id": "86a755e9",
   "metadata": {},
   "source": [
    "加入股票市场数据并定义标签\n",
    "\n",
    "定义开市时间，参考[stock market hours](https://stockanalysis.com/stock-market-hours/)。假设8K数据集里的时间都是美东时间（EST），我们将开市时间设定为每个交易日的 9:30 A.M. EST，闭市时间设定为 4:00 P.M. EST。\n",
    "\n",
    "定义如下规则：\n",
    "\n",
    "1. 如果8K报表发布于某个交易日，但是发布时间早于当天开市时间，则使用这个交易日的open price减去上个交易日的close price。\n",
    "2. 如果8K报表发布于某个交易日，但是发布时间晚于当天闭市时间，则使用下个交易日的open price减去这个交易日的close price。\n",
    "3. 如果8K报表发布于某个交易日，且发布时间为交易时间，则使用这个交易日的close price减去这个交易日的open price。\n",
    "4. 如果8K报表发布日期不是任何交易日，则使用下个交易日的open price减去上个交易日的close price。\n",
    "\n",
    "以上任意规则得到的价格变化均需减去同期标普500指数的变化。"
   ]
  },
  {
   "cell_type": "code",
   "execution_count": 17,
   "id": "66fd465e",
   "metadata": {},
   "outputs": [
    {
     "data": {
      "application/vnd.jupyter.widget-view+json": {
       "model_id": "cbc9e84939384193a50641d3699aa071",
       "version_major": 2,
       "version_minor": 0
      },
      "text/plain": [
       "  0%|          | 0/1 [00:00<?, ?it/s]"
      ]
     },
     "metadata": {},
     "output_type": "display_data"
    }
   ],
   "source": [
    "grp_pd_l = []\n",
    "for symbol, grp_pd in tqdm(merged_df.groupby('Symbol')):\n",
    "    grp_pd = grp_pd.copy()\n",
    "    # load stock data\n",
    "    stock_fp = data_fp_unzipped/'price_history'/(symbol+'.csv')\n",
    "    stock_df = pd.read_csv(stock_fp, parse_dates=['Date'])\n",
    "    # sort by date in ascending order\n",
    "    stock_df = stock_df.sort_values('Date', ascending=True)\n",
    "    stock_df['date_str'] = stock_df['Date'].dt.strftime('%Y%m%d')\n",
    "    stock_df = stock_df.set_index('date_str')\n",
    "    # stock_df.head(1)\n",
    "    # define label\n",
    "    trade_days = stock_df.index.values\n",
    "    for row_i, row in grp_pd.iterrows():\n",
    "        pub_day = row['time'].strftime('%Y%m%d')\n",
    "        if pub_day in trade_days:\n",
    "            day_i = np.where(pub_day == trade_days)[0][0]\n",
    "            trade_day = datetime.datetime.strptime(pub_day, '%Y%m%d')\n",
    "            assert trade_day == stock_df.iloc[day_i]['Date']\n",
    "            # market open time\n",
    "            mo_time = trade_day + datetime.timedelta(hours=9, minutes=30) \n",
    "            # market close time\n",
    "            mc_time = trade_day + datetime.timedelta(hours=16, minutes=0)\n",
    "            if row['time'] <= mo_time:\n",
    "                # rule 1, publish trade day open - previous trade day close\n",
    "                p1 = stock_df.loc[trade_days[day_i], 'Open']\n",
    "                p2 = stock_df.loc[trade_days[day_i-1], 'Close']\n",
    "                s1 = sp500index_df.loc[trade_days[day_i], 'Open']\n",
    "                s2 = sp500index_df.loc[trade_days[day_i], 'Close']\n",
    "            elif row['time'] >= mc_time:\n",
    "                # rule 2, next trade day open - publish trade day close\n",
    "                p1 = stock_df.loc[trade_days[day_i+1], 'Open']\n",
    "                p2 = stock_df.loc[trade_days[day_i], 'Close']\n",
    "                s1 = sp500index_df.loc[trade_days[day_i+1], 'Open']\n",
    "                s2 = sp500index_df.loc[trade_days[day_i], 'Close']\n",
    "            else:\n",
    "                # rule 3, publish trade day close - publish trade day open\n",
    "                p1 = stock_df.loc[trade_days[day_i], 'Close']\n",
    "                p2 = stock_df.loc[trade_days[day_i], 'Open']\n",
    "                s1 = sp500index_df.loc[trade_days[day_i], 'Close']\n",
    "                s2 = sp500index_df.loc[trade_days[day_i], 'Open']\n",
    "        else:\n",
    "            # rule 3, next trade day open - previous trade day close\n",
    "            day_j = np.argmax(stock_df['Date'] > row['time'])\n",
    "            p1 = stock_df.loc[trade_days[day_j], 'Open']\n",
    "            p2 = stock_df.loc[trade_days[day_j-1], 'Close']\n",
    "            s1 = sp500index_df.loc[trade_days[day_j], 'Open']\n",
    "            s2 = sp500index_df.loc[trade_days[day_j-1], 'Close']\n",
    "        grp_pd.loc[row_i, 'diff'] = (p1 - p2)/p2 - (s1-s2)/s2\n",
    "        del p1, p2, s1, s2\n",
    "    grp_pd_l.append(grp_pd)\n",
    "    \n",
    "final_df = pd.concat(grp_pd_l, ignore_index=True)\n",
    "del grp_pd_l"
   ]
  },
  {
   "cell_type": "code",
   "execution_count": 18,
   "id": "7a6533a9",
   "metadata": {},
   "outputs": [],
   "source": [
    "# define category label\n",
    "cond1 = final_df['diff'] > 0.01\n",
    "cond2 = final_df['diff'] < -0.01\n",
    "final_df.loc[cond1, 'label'] = 2 # UP\n",
    "final_df.loc[(~cond1)&(~cond2), 'label'] = 1 # STAY\n",
    "final_df.loc[cond2, 'label'] = 0 # DOWN\n",
    "assert final_df.label.isna().sum() == 0"
   ]
  },
  {
   "cell_type": "code",
   "execution_count": 19,
   "id": "fbae8fa2",
   "metadata": {},
   "outputs": [
    {
     "data": {
      "text/html": [
       "<div>\n",
       "<style scoped>\n",
       "    .dataframe tbody tr th:only-of-type {\n",
       "        vertical-align: middle;\n",
       "    }\n",
       "\n",
       "    .dataframe tbody tr th {\n",
       "        vertical-align: top;\n",
       "    }\n",
       "\n",
       "    .dataframe thead th {\n",
       "        text-align: right;\n",
       "    }\n",
       "</style>\n",
       "<table border=\"1\" class=\"dataframe\">\n",
       "  <thead>\n",
       "    <tr style=\"text-align: right;\">\n",
       "      <th></th>\n",
       "      <th>Symbol</th>\n",
       "      <th>Industry</th>\n",
       "      <th>Company</th>\n",
       "      <th>gap%</th>\n",
       "      <th>date</th>\n",
       "      <th>gap</th>\n",
       "      <th>events</th>\n",
       "      <th>time</th>\n",
       "      <th>text</th>\n",
       "      <th>doc_len</th>\n",
       "      <th>diff</th>\n",
       "      <th>label</th>\n",
       "    </tr>\n",
       "  </thead>\n",
       "  <tbody>\n",
       "    <tr>\n",
       "      <th>0</th>\n",
       "      <td>AAPL</td>\n",
       "      <td>Information Technology</td>\n",
       "      <td>Apple Computer Inc</td>\n",
       "      <td>6.67</td>\n",
       "      <td>20040114</td>\n",
       "      <td>0.01</td>\n",
       "      <td>[Financial statements and exhibits]</td>\n",
       "      <td>2004-01-14 16:30:52</td>\n",
       "      <td>item financial statements and exhibits c exhib...</td>\n",
       "      <td>923.0</td>\n",
       "      <td>-0.053306</td>\n",
       "      <td>0.0</td>\n",
       "    </tr>\n",
       "  </tbody>\n",
       "</table>\n",
       "</div>"
      ],
      "text/plain": [
       "  Symbol                Industry             Company  gap%      date   gap  \\\n",
       "0   AAPL  Information Technology  Apple Computer Inc  6.67  20040114  0.01   \n",
       "\n",
       "                                events                time  \\\n",
       "0  [Financial statements and exhibits] 2004-01-14 16:30:52   \n",
       "\n",
       "                                                text  doc_len      diff  label  \n",
       "0  item financial statements and exhibits c exhib...    923.0 -0.053306    0.0  "
      ]
     },
     "execution_count": 19,
     "metadata": {},
     "output_type": "execute_result"
    }
   ],
   "source": [
    "final_df.head(1)"
   ]
  },
  {
   "cell_type": "code",
   "execution_count": 20,
   "id": "c46674e4",
   "metadata": {},
   "outputs": [
    {
     "data": {
      "text/plain": [
       "count      1.0\n",
       "mean     923.0\n",
       "std        NaN\n",
       "min      923.0\n",
       "1%       923.0\n",
       "50%      923.0\n",
       "max      923.0\n",
       "Name: doc_len, dtype: float64"
      ]
     },
     "execution_count": 20,
     "metadata": {},
     "output_type": "execute_result"
    }
   ],
   "source": [
    "final_df.doc_len.describe(percentiles=[0.01])"
   ]
  },
  {
   "cell_type": "code",
   "execution_count": 21,
   "id": "b5a4982e",
   "metadata": {},
   "outputs": [
    {
     "name": "stdout",
     "output_type": "stream",
     "text": [
      "0 firm-day obervations have zero document length\n",
      "0 firm-day obervations have less than 200 words\n"
     ]
    }
   ],
   "source": [
    "min_n_word = 200\n",
    "cond1 = final_df['doc_len'] == 0\n",
    "cond2 = final_df['doc_len'] < min_n_word\n",
    "print(cond1.sum(), 'firm-day obervations have zero document length')\n",
    "print(cond2.sum(), f\"firm-day obervations have less than {min_n_word} words\")\n",
    "save_df = final_df[~cond2]"
   ]
  },
  {
   "cell_type": "code",
   "execution_count": 22,
   "id": "d1738cb2",
   "metadata": {},
   "outputs": [
    {
     "data": {
      "text/plain": [
       "(1, 12)"
      ]
     },
     "execution_count": 22,
     "metadata": {},
     "output_type": "execute_result"
    }
   ],
   "source": [
    "save_df.shape"
   ]
  },
  {
   "cell_type": "code",
   "execution_count": 23,
   "id": "26695dd0",
   "metadata": {},
   "outputs": [
    {
     "name": "stdout",
     "output_type": "stream",
     "text": [
      "train: 1 dev: 0 test: 0\n"
     ]
    }
   ],
   "source": [
    "cond1 = save_df.time.dt.year <= 2008\n",
    "cond2 = save_df.time.dt.year >= 2011\n",
    "print('train:', cond1.sum(), 'dev:', ((~cond1)&(~cond2)).sum(), 'test:', cond2.sum())"
   ]
  },
  {
   "cell_type": "code",
   "execution_count": 24,
   "id": "413f75ac",
   "metadata": {},
   "outputs": [
    {
     "data": {
      "text/html": [
       "<div>\n",
       "<style scoped>\n",
       "    .dataframe tbody tr th:only-of-type {\n",
       "        vertical-align: middle;\n",
       "    }\n",
       "\n",
       "    .dataframe tbody tr th {\n",
       "        vertical-align: top;\n",
       "    }\n",
       "\n",
       "    .dataframe thead th {\n",
       "        text-align: right;\n",
       "    }\n",
       "</style>\n",
       "<table border=\"1\" class=\"dataframe\">\n",
       "  <thead>\n",
       "    <tr style=\"text-align: right;\">\n",
       "      <th></th>\n",
       "      <th>Symbol</th>\n",
       "      <th>Industry</th>\n",
       "      <th>Company</th>\n",
       "      <th>gap%</th>\n",
       "      <th>date</th>\n",
       "      <th>gap</th>\n",
       "      <th>events</th>\n",
       "      <th>time</th>\n",
       "      <th>text</th>\n",
       "      <th>doc_len</th>\n",
       "      <th>diff</th>\n",
       "      <th>label</th>\n",
       "    </tr>\n",
       "  </thead>\n",
       "  <tbody>\n",
       "    <tr>\n",
       "      <th>0</th>\n",
       "      <td>AAPL</td>\n",
       "      <td>Information Technology</td>\n",
       "      <td>Apple Computer Inc</td>\n",
       "      <td>6.67</td>\n",
       "      <td>20040114</td>\n",
       "      <td>0.01</td>\n",
       "      <td>[Financial statements and exhibits]</td>\n",
       "      <td>2004-01-14 16:30:52</td>\n",
       "      <td>item financial statements and exhibits c exhib...</td>\n",
       "      <td>923.0</td>\n",
       "      <td>-0.053306</td>\n",
       "      <td>0.0</td>\n",
       "    </tr>\n",
       "  </tbody>\n",
       "</table>\n",
       "</div>"
      ],
      "text/plain": [
       "  Symbol                Industry             Company  gap%      date   gap  \\\n",
       "0   AAPL  Information Technology  Apple Computer Inc  6.67  20040114  0.01   \n",
       "\n",
       "                                events                time  \\\n",
       "0  [Financial statements and exhibits] 2004-01-14 16:30:52   \n",
       "\n",
       "                                                text  doc_len      diff  label  \n",
       "0  item financial statements and exhibits c exhib...    923.0 -0.053306    0.0  "
      ]
     },
     "execution_count": 24,
     "metadata": {},
     "output_type": "execute_result"
    }
   ],
   "source": [
    "save_df.head(1)"
   ]
  },
  {
   "cell_type": "code",
   "execution_count": 25,
   "id": "78551fbd",
   "metadata": {},
   "outputs": [],
   "source": [
    "save_df.to_csv('final_df.csv.gz', index=False)"
   ]
  },
  {
   "cell_type": "code",
   "execution_count": 26,
   "id": "149bbe4b",
   "metadata": {
    "tags": [
     "remove_cell"
    ]
   },
   "outputs": [
    {
     "name": "stderr",
     "output_type": "stream",
     "text": [
      "C:\\Users\\xh_z\\anaconda3\\lib\\site-packages\\traitlets\\traitlets.py:2544: FutureWarning: Supporting extra quotes around strings is deprecated in traitlets 5.0. You can use 'remove_cell' instead of \"'remove_cell'\" if you require traitlets >=5.\n",
      "  warn(\n",
      "[NbConvertApp] Converting notebook data_preprocess_2.ipynb to html\n",
      "[NbConvertApp] Writing 656176 bytes to data_preprocess_2.html\n"
     ]
    }
   ],
   "source": [
    "!jupyter nbconvert --to html -TagRemovePreprocessor.remove_cell_tags='{\"remove_cell\"}' data_preprocess_2.ipynb"
   ]
  },
  {
   "cell_type": "code",
   "execution_count": null,
   "id": "02c680c1",
   "metadata": {},
   "outputs": [],
   "source": []
  }
 ],
 "metadata": {
  "kernelspec": {
   "display_name": "Python 3 (ipykernel)",
   "language": "python",
   "name": "python3"
  },
  "language_info": {
   "codemirror_mode": {
    "name": "ipython",
    "version": 3
   },
   "file_extension": ".py",
   "mimetype": "text/x-python",
   "name": "python",
   "nbconvert_exporter": "python",
   "pygments_lexer": "ipython3",
   "version": "3.10.9"
  },
  "toc": {
   "base_numbering": 1,
   "nav_menu": {},
   "number_sections": true,
   "sideBar": true,
   "skip_h1_title": false,
   "title_cell": "Table of Contents",
   "title_sidebar": "Contents",
   "toc_cell": false,
   "toc_position": {},
   "toc_section_display": true,
   "toc_window_display": false
  }
 },
 "nbformat": 4,
 "nbformat_minor": 5
}
