{
 "cells": [
  {
   "cell_type": "code",
   "execution_count": 1,
   "metadata": {},
   "outputs": [],
   "source": [
    "import os"
   ]
  },
  {
   "cell_type": "code",
   "execution_count": 2,
   "metadata": {},
   "outputs": [
    {
     "data": {
      "text/plain": [
       "'C:\\\\Users\\\\xh_z\\\\OneDrive\\\\code\\\\python_notebooks'"
      ]
     },
     "execution_count": 2,
     "metadata": {},
     "output_type": "execute_result"
    }
   ],
   "source": [
    "os.getcwd()"
   ]
  },
  {
   "cell_type": "markdown",
   "metadata": {},
   "source": [
    "# 文件基础知识"
   ]
  },
  {
   "cell_type": "markdown",
   "metadata": {},
   "source": [
    "在这个notebook所在的目录新建文件夹`data`，然后将下载的数据文件`儿童谜语集.csv`和`hamlet.txt`放到`data`文件夹中。"
   ]
  },
  {
   "cell_type": "code",
   "execution_count": null,
   "metadata": {},
   "outputs": [],
   "source": [
    "# import os\n",
    "# os.mkdir(r'./data')"
   ]
  },
  {
   "cell_type": "markdown",
   "metadata": {},
   "source": [
    "**路径分隔符**\n",
    "\n",
    "+ 不论使用windows、mac或linux，只要在Python环境里，都可以直接使用`/`作为路径分隔符\n",
    "+ 在windows的Python环境里，也可以使用`\\\\`作为路径分隔符"
   ]
  },
  {
   "cell_type": "markdown",
   "metadata": {},
   "source": [
    "**相对路径与绝对路径**\n",
    "\n",
    "考虑如下三个绝对路径\n",
    "+ 路径1：`C:/Users/username/Desktop/demo/`\n",
    "+ 路径2：`C:/Users/username/Desktop/demo/lec1/script1.py`\n",
    "+ 路径3：`C:/Users/username/Desktop/demo/lec2/`\n",
    "+ 路径4：`C:/Users/username/Desktop/demo/lec2/script2.py`\n",
    "\n",
    "假设我们当前位于路径1对应的文件夹`demo`，那么可以使用如下相对路径访问路径2对应的文件：`./lec1/script1.py`，即通过`./`指定起始路径为当前文件夹`demo`，然后进入`lec1`文件夹，最后访问脚本`script1.py`\n",
    "\n",
    "假设我们当前位于路径3对应的文件夹`lec2`，那么可以使用如下相对路径访问路径2对应的文件：`../lec1/script1.py`，即先通过`../`返回`demo`文件夹，然后进入`lec1`文件夹，最后访问脚本`script1.py`\n",
    "\n"
   ]
  },
  {
   "cell_type": "markdown",
   "metadata": {},
   "source": [
    "# 文件操作"
   ]
  },
  {
   "cell_type": "code",
   "execution_count": null,
   "metadata": {},
   "outputs": [],
   "source": [
    "import os"
   ]
  },
  {
   "cell_type": "code",
   "execution_count": null,
   "metadata": {},
   "outputs": [],
   "source": [
    "cwd = os.getcwd()\n",
    "print(cwd)"
   ]
  },
  {
   "cell_type": "code",
   "execution_count": null,
   "metadata": {},
   "outputs": [],
   "source": [
    "# os.chdir(r'./data')\n",
    "# os.chdir(cwd)"
   ]
  },
  {
   "cell_type": "code",
   "execution_count": null,
   "metadata": {},
   "outputs": [],
   "source": [
    "if not os.path.isdir('outputs'):\n",
    "    os.mkdir('outputs')"
   ]
  },
  {
   "cell_type": "code",
   "execution_count": null,
   "metadata": {},
   "outputs": [],
   "source": [
    "file = open('./outputs/mydata.txt', 'w')"
   ]
  },
  {
   "cell_type": "code",
   "execution_count": null,
   "metadata": {},
   "outputs": [],
   "source": [
    "file"
   ]
  },
  {
   "cell_type": "code",
   "execution_count": null,
   "metadata": {},
   "outputs": [],
   "source": [
    "file.write(\"飞雪连天射白鹿\")\n",
    "file.write('\\n')\n",
    "file.writelines([\"飞雪连天射白鹿\\t\", \"笑书神侠倚碧鸳\\n\"])\n",
    "file.writelines([\"横批：越女剑\\n\"])"
   ]
  },
  {
   "cell_type": "code",
   "execution_count": null,
   "metadata": {},
   "outputs": [],
   "source": [
    "file.close()"
   ]
  },
  {
   "cell_type": "markdown",
   "metadata": {},
   "source": [
    "案例7-1<br>\n",
    "键盘输入a和b，求a除以b的结果并输出。"
   ]
  },
  {
   "cell_type": "code",
   "execution_count": null,
   "metadata": {},
   "outputs": [],
   "source": [
    "f = open('./outputs/mydata.txt', 'r')\n",
    "print(f.read())\n",
    "f.close()"
   ]
  },
  {
   "cell_type": "markdown",
   "metadata": {},
   "source": [
    "# CSV文件操作"
   ]
  },
  {
   "cell_type": "code",
   "execution_count": null,
   "metadata": {},
   "outputs": [],
   "source": [
    "import csv"
   ]
  },
  {
   "cell_type": "code",
   "execution_count": null,
   "metadata": {},
   "outputs": [],
   "source": [
    "with open('./outputs/stu.csv', 'w', newline='', encoding='utf-8') as stucsv:\n",
    "    writer = csv.writer(stucsv)\n",
    "    writer.writerow(['张芳', '女', '20'])\n",
    "    writer.writerow(['王虎', '男', '18'])"
   ]
  },
  {
   "cell_type": "code",
   "execution_count": null,
   "metadata": {},
   "outputs": [],
   "source": [
    "with open('./outputs/stu.csv', 'r', encoding='utf-8') as stucsv:\n",
    "    reader = csv.reader(stucsv)\n",
    "    for row in reader:\n",
    "        print(row)"
   ]
  },
  {
   "cell_type": "markdown",
   "metadata": {},
   "source": [
    "# 异常和异常处理"
   ]
  },
  {
   "cell_type": "markdown",
   "metadata": {},
   "source": [
    "案例7-1"
   ]
  },
  {
   "cell_type": "code",
   "execution_count": null,
   "metadata": {},
   "outputs": [],
   "source": [
    "try:\n",
    "    a=int(input(\"a=\"))\n",
    "    b=int(input(\"b=\"))\n",
    "    c=a/b\n",
    "except Exception:\n",
    "    print(\"除数不能为0！\")\n",
    "else:\n",
    "    print(\"c=\",c)"
   ]
  },
  {
   "cell_type": "markdown",
   "metadata": {},
   "source": [
    "案例7-2<br>\n",
    "读取并输出`./data/`文件夹下data2.txt文件内容;<br>\n",
    "果文件不存在则提醒用户先创建文件。"
   ]
  },
  {
   "cell_type": "code",
   "execution_count": null,
   "metadata": {},
   "outputs": [],
   "source": [
    "try:\n",
    "    file=open(\"./data/data2.txt\",'r')\n",
    "except IOError:\n",
    "    print(\"'./data/data2.txt'文件不存在,请先创建!\")\n",
    "else:\n",
    "    text=file.read()\n",
    "    print(\"'./data/data2.txt'内容:\\n\",text)\n",
    "    file.close()"
   ]
  },
  {
   "cell_type": "markdown",
   "metadata": {},
   "source": [
    "案例7-3<br>\n",
    "分析《哈姆雷特》中前20位的高频词"
   ]
  },
  {
   "cell_type": "code",
   "execution_count": null,
   "metadata": {},
   "outputs": [],
   "source": [
    "def getText(text):\n",
    "    text = text.lower()                 \n",
    "    for ch in \",.;?-:\\'|\":\n",
    "        text = text.replace(ch, \" \")   \n",
    "    return text"
   ]
  },
  {
   "cell_type": "markdown",
   "metadata": {},
   "source": [
    "写函数统计单词出现频率<br>\n",
    "text为待统计文本，topn表示取频率最高的单词个数"
   ]
  },
  {
   "cell_type": "code",
   "execution_count": null,
   "metadata": {},
   "outputs": [],
   "source": [
    "def wordFreq(text,topn): \n",
    "    words  = text.split()    # 将文本分词\n",
    "    counts = {}\n",
    "    for word in words:\n",
    "        counts[word] = counts.get(word,0) + 1\n",
    "    excludes = {'the','and','to','of','a','be','it','is','not','but','with'}\n",
    "    for word in excludes:\n",
    "        del(counts[word])    \n",
    "    items = list(counts.items())\n",
    "    items.sort(key=lambda x:x[1], reverse=True)\n",
    "    return items[:topn]"
   ]
  },
  {
   "cell_type": "markdown",
   "metadata": {},
   "source": [
    "写主程序，调用函数"
   ]
  },
  {
   "cell_type": "code",
   "execution_count": null,
   "metadata": {},
   "outputs": [],
   "source": [
    "try:\n",
    "    with open(\"./data/hamlet.txt\", 'r') as file:\n",
    "        text = file.read()\n",
    "        text = getText(text)\n",
    "        freqs = wordFreq(text,10)\n",
    "except IOError:\n",
    "    print(\"文件不存在,请确认!\\n\")\n",
    "else:\n",
    "    try:\n",
    "        with open(r\"./outputs/hamlet_词频.txt\",'w')as fileFreq:\n",
    "                items =[ word + '\\t' + str(freq) + '\\n' for word, freq in freqs]\n",
    "                fileFreq.writelines(items)\n",
    "    except IOError:\n",
    "        print(\"写入文件出错\")\n",
    "        for word,freq in freqs:\n",
    "            print(\"{:<10}{:>}\".format(word, freq))"
   ]
  },
  {
   "cell_type": "markdown",
   "metadata": {},
   "source": [
    "案例7-4<br>\n",
    "随机组谜语卷"
   ]
  },
  {
   "cell_type": "markdown",
   "metadata": {},
   "source": [
    "一年级要举行一个猜谜比赛，需要从儿童谜语集中随机抽题组成5份试卷。谜语集文件名为“儿童谜语集.csv”。\n",
    "\n",
    "现要求每一份试卷中包含10道谜语，请编写程序完成组卷，并生成试卷文件和答卷文件。"
   ]
  },
  {
   "cell_type": "code",
   "execution_count": null,
   "metadata": {},
   "outputs": [],
   "source": [
    "import os\n",
    "import csv\n",
    "import random"
   ]
  },
  {
   "cell_type": "markdown",
   "metadata": {},
   "source": [
    "打开文件,将谜语集读成字典"
   ]
  },
  {
   "cell_type": "code",
   "execution_count": null,
   "metadata": {},
   "outputs": [],
   "source": [
    "def getDic(fileName):\n",
    "    dic={}\n",
    "    with open(fileName,'r',encoding='utf-8') as file:\n",
    "        reader=csv.reader(file)\n",
    "        next(reader)                #跳过文件中的表头\n",
    "        for row in reader:\n",
    "            dic[row[0]]=row[1]      #谜面作为key,谜底作为value\n",
    "    return dic"
   ]
  },
  {
   "cell_type": "markdown",
   "metadata": {},
   "source": [
    "定义函数根据dic生成长度为n的试卷列表,每一个元素为一套试卷列表"
   ]
  },
  {
   "cell_type": "code",
   "execution_count": null,
   "metadata": {},
   "outputs": [],
   "source": [
    "def creatPapers(dic,n):\n",
    "    tests=[]\n",
    "    items=list(dic.keys())\n",
    "    for i in range(n):\n",
    "        random.shuffle(items)       #打乱列表顺序取前10题\n",
    "        ls=items[:10]\n",
    "        tests.append(ls)\n",
    "    return tests"
   ]
  },
  {
   "cell_type": "markdown",
   "metadata": {},
   "source": [
    "定义函数根据`lspapers`生成n个试卷文件和n个答卷文件"
   ]
  },
  {
   "cell_type": "code",
   "execution_count": null,
   "metadata": {},
   "outputs": [],
   "source": [
    "def createFiles(lsPapers,lsAnswers,n):\n",
    "    for i in range(n):\n",
    "        fpn=\"./outputs/paper\" + str(i+1) + \".txt\"\n",
    "        with open(fpn,'w',encoding='utf-8') as filep:\n",
    "            filep.writelines([item + '\\n' for item in lsPapers[i]])\n",
    "        fan=\"./outputs/answer\" + str(i+1) + \".txt\"\n",
    "        with open(fan,'w',encoding='utf-8') as filea:\n",
    "            filea.writelines([item + '\\n' for item in lsAnswers[i]])\n",
    "            "
   ]
  },
  {
   "cell_type": "markdown",
   "metadata": {},
   "source": [
    "主程序,生成n套试卷和答卷"
   ]
  },
  {
   "cell_type": "code",
   "execution_count": null,
   "metadata": {},
   "outputs": [],
   "source": [
    "fn=\"./data/儿童谜语集.csv\"\n",
    "n=5\n",
    "riddles=getDic(fn)                \n",
    "papers=creatPapers(riddles,n)"
   ]
  },
  {
   "cell_type": "code",
   "execution_count": null,
   "metadata": {},
   "outputs": [],
   "source": [
    "answers=[]           #根据谜面列表papers生成对应的答案列表\n",
    "for paper in papers:\n",
    "    ans=[riddles[item] for item in paper]\n",
    "    answers.append(ans)\n",
    "createFiles(papers,answers,n)"
   ]
  },
  {
   "cell_type": "code",
   "execution_count": null,
   "metadata": {},
   "outputs": [],
   "source": [
    "with open('./outputs/paper1.txt', 'r', encoding='utf-8') as f:\n",
    "    print(f.read())"
   ]
  },
  {
   "cell_type": "code",
   "execution_count": null,
   "metadata": {},
   "outputs": [],
   "source": [
    "with open('./outputs/answer1.txt', 'r', encoding='utf-8') as f:\n",
    "    print(f.read())"
   ]
  },
  {
   "cell_type": "code",
   "execution_count": null,
   "metadata": {},
   "outputs": [],
   "source": []
  },
  {
   "cell_type": "code",
   "execution_count": null,
   "metadata": {},
   "outputs": [],
   "source": []
  }
 ],
 "metadata": {
  "kernelspec": {
   "display_name": "Python 3 (ipykernel)",
   "language": "python",
   "name": "python3"
  },
  "language_info": {
   "codemirror_mode": {
    "name": "ipython",
    "version": 3
   },
   "file_extension": ".py",
   "mimetype": "text/x-python",
   "name": "python",
   "nbconvert_exporter": "python",
   "pygments_lexer": "ipython3",
   "version": "3.9.7"
  },
  "toc": {
   "base_numbering": 1,
   "nav_menu": {},
   "number_sections": true,
   "sideBar": true,
   "skip_h1_title": false,
   "title_cell": "Table of Contents",
   "title_sidebar": "Contents",
   "toc_cell": false,
   "toc_position": {},
   "toc_section_display": true,
   "toc_window_display": false
  }
 },
 "nbformat": 4,
 "nbformat_minor": 2
}
