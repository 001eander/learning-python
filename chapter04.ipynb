{
 "cells": [
  {
   "cell_type": "markdown",
   "metadata": {},
   "source": [
    "# 列表与列表操作"
   ]
  },
  {
   "cell_type": "markdown",
   "metadata": {},
   "source": [
    "案例4-1<br>\n",
    "例4-1 根据输入的数字，输出对应的月份信息。<br>\n",
    "如输入“6”，输出“It‘s June.”"
   ]
  },
  {
   "cell_type": "code",
   "execution_count": 2,
   "metadata": {},
   "outputs": [
    {
     "name": "stdout",
     "output_type": "stream",
     "text": [
      "请输入整数月份1\n",
      "It's January.\n"
     ]
    }
   ],
   "source": [
    "monthes=[\"January\",\"February\",\"March\",\"April\",\"May\",\"June\",\n",
    "        \"July\",\"August\",\"September\",\"October\",\"November\",\"December\"]\n",
    "m=int(input(\"请输入整数月份\"))\n",
    "print(\"It's {}.\".format(monthes[m-1]))"
   ]
  },
  {
   "cell_type": "markdown",
   "metadata": {},
   "source": [
    "# 操作列表元素"
   ]
  },
  {
   "cell_type": "code",
   "execution_count": 14,
   "metadata": {},
   "outputs": [],
   "source": [
    "guests = ['张三丰', '萧峰', '杨过', '令狐冲', '张无忌', '段誉', '虚竹', '李秋水', '郭襄', '赵敏', '任盈盈', '袁紫衣']"
   ]
  },
  {
   "cell_type": "code",
   "execution_count": 15,
   "metadata": {},
   "outputs": [],
   "source": [
    "guestsCopy = guests[:]\n",
    "guests1 = guests"
   ]
  },
  {
   "cell_type": "code",
   "execution_count": 16,
   "metadata": {},
   "outputs": [],
   "source": [
    "del guests[0]"
   ]
  },
  {
   "cell_type": "code",
   "execution_count": 17,
   "metadata": {},
   "outputs": [
    {
     "name": "stdout",
     "output_type": "stream",
     "text": [
      "['张三丰', '萧峰', '杨过', '令狐冲', '张无忌', '段誉', '虚竹', '李秋水', '郭襄', '赵敏', '任盈盈', '袁紫衣']\n",
      "['萧峰', '杨过', '令狐冲', '张无忌', '段誉', '虚竹', '李秋水', '郭襄', '赵敏', '任盈盈', '袁紫衣']\n"
     ]
    }
   ],
   "source": [
    "print(guestsCopy)\n",
    "print(guests1)"
   ]
  },
  {
   "cell_type": "markdown",
   "metadata": {},
   "source": [
    "浅拷贝"
   ]
  },
  {
   "cell_type": "code",
   "execution_count": 3,
   "metadata": {},
   "outputs": [],
   "source": [
    "s1 = [1,2,[]]\n",
    "s2 = s1.copy()"
   ]
  },
  {
   "cell_type": "code",
   "execution_count": 4,
   "metadata": {},
   "outputs": [
    {
     "data": {
      "text/plain": [
       "[-1, 2, [3]]"
      ]
     },
     "execution_count": 4,
     "metadata": {},
     "output_type": "execute_result"
    }
   ],
   "source": [
    "s2[-1].append(3)\n",
    "s2[0] = -1\n",
    "s2"
   ]
  },
  {
   "cell_type": "code",
   "execution_count": 5,
   "metadata": {},
   "outputs": [
    {
     "data": {
      "text/plain": [
       "[1, 2, [3]]"
      ]
     },
     "execution_count": 5,
     "metadata": {},
     "output_type": "execute_result"
    }
   ],
   "source": [
    "s1"
   ]
  },
  {
   "cell_type": "markdown",
   "metadata": {},
   "source": [
    "深拷贝"
   ]
  },
  {
   "cell_type": "code",
   "execution_count": 6,
   "metadata": {},
   "outputs": [],
   "source": [
    "from copy import deepcopy"
   ]
  },
  {
   "cell_type": "code",
   "execution_count": 7,
   "metadata": {},
   "outputs": [],
   "source": [
    "s1 = [1,2,[]]\n",
    "s2 = deepcopy(s1)"
   ]
  },
  {
   "cell_type": "code",
   "execution_count": 8,
   "metadata": {},
   "outputs": [
    {
     "data": {
      "text/plain": [
       "[-1, 2, [3]]"
      ]
     },
     "execution_count": 8,
     "metadata": {},
     "output_type": "execute_result"
    }
   ],
   "source": [
    "s2[-1].append(3)\n",
    "s2[0] = -1\n",
    "s2"
   ]
  },
  {
   "cell_type": "code",
   "execution_count": 9,
   "metadata": {},
   "outputs": [
    {
     "data": {
      "text/plain": [
       "[1, 2, []]"
      ]
     },
     "execution_count": 9,
     "metadata": {},
     "output_type": "execute_result"
    }
   ],
   "source": [
    "s1"
   ]
  },
  {
   "cell_type": "markdown",
   "metadata": {},
   "source": [
    "# 操作列表"
   ]
  },
  {
   "cell_type": "markdown",
   "metadata": {},
   "source": [
    "案例4-2<br>\n",
    "谁是小偷？\n",
    "\n",
    "警察抓了A、B、C、D四个偷窃嫌疑犯，其中只有一个人是真正的小偷，审问记录如下：\n",
    "\n",
    "+ A说：“我不是小偷。”\n",
    "+ B说：“C是小偷。”\n",
    "+ C说：“小偷肯定是D。”\n",
    "+ D说：“C在冤枉人。”"
   ]
  },
  {
   "cell_type": "code",
   "execution_count": null,
   "metadata": {},
   "outputs": [],
   "source": [
    "suspects=['A','B','C','D']\n",
    "for x in suspects:\n",
    "    if (x!='A') + (x=='C') + (x=='D') + (x!='D')==3:\n",
    "        print(\"\\n小偷是:\",x)\n",
    "        break"
   ]
  },
  {
   "cell_type": "markdown",
   "metadata": {},
   "source": [
    "# 数值列表"
   ]
  },
  {
   "cell_type": "code",
   "execution_count": 23,
   "metadata": {},
   "outputs": [
    {
     "name": "stdout",
     "output_type": "stream",
     "text": [
      "['张三', '李四']\n"
     ]
    }
   ],
   "source": [
    "ls = [['张三', 18, '江苏南京'], ['李四', 19, '山东济南']]\n",
    "names = [item[0] for item in ls]\n",
    "print(names)"
   ]
  },
  {
   "cell_type": "code",
   "execution_count": 21,
   "metadata": {
    "scrolled": true
   },
   "outputs": [
    {
     "name": "stdout",
     "output_type": "stream",
     "text": [
      "1*1=1\n",
      "2*1=2 2*2=4\n",
      "3*1=3 3*2=6 3*3=9\n",
      "4*1=4 4*2=8 4*3=12 4*4=16\n",
      "5*1=5 5*2=10 5*3=15 5*4=20 5*5=25\n",
      "6*1=6 6*2=12 6*3=18 6*4=24 6*5=30 6*6=36\n",
      "7*1=7 7*2=14 7*3=21 7*4=28 7*5=35 7*6=42 7*7=49\n",
      "8*1=8 8*2=16 8*3=24 8*4=32 8*5=40 8*6=48 8*7=56 8*8=64\n",
      "9*1=9 9*2=18 9*3=27 9*4=36 9*5=45 9*6=54 9*7=63 9*8=72 9*9=81\n"
     ]
    }
   ],
   "source": [
    "ls = [str(i) + '*' + str(j) + '=' + str(i*j) + ('\\n' if i==j else ' ') for i in range(1,10) for j in range(1,i+1)]\n",
    "for item in ls:\n",
    "    print(item,end='')"
   ]
  },
  {
   "cell_type": "markdown",
   "metadata": {},
   "source": [
    "案例4-3<br>\n",
    "输入10位学生的考试成绩，求最高分、最低分和平均分。"
   ]
  },
  {
   "cell_type": "code",
   "execution_count": 18,
   "metadata": {},
   "outputs": [
    {
     "name": "stdout",
     "output_type": "stream",
     "text": [
      "请输入10个学生的分数列表\n",
      "[1,2,3,4]\n",
      "这次考试的最高分是4，最低分是1，平均分是2.5。\n",
      "\n"
     ]
    }
   ],
   "source": [
    "score = eval(input(\"请输入10个学生的分数列表\\n\"))\n",
    "maxScore = max(score)\n",
    "minScore = min(score)\n",
    "aveScore = sum(score) / len(score)\n",
    "print(\"这次考试的最高分是{}，最低分是{}，平均分是{}。\\n\"\n",
    "      .format(maxScore,minScore,aveScore))"
   ]
  },
  {
   "cell_type": "markdown",
   "metadata": {},
   "source": [
    "# 元组"
   ]
  },
  {
   "cell_type": "markdown",
   "metadata": {},
   "source": [
    "# 转换函数"
   ]
  },
  {
   "cell_type": "markdown",
   "metadata": {},
   "source": [
    "# 列表与元组应用实例"
   ]
  },
  {
   "cell_type": "markdown",
   "metadata": {},
   "source": [
    "案例4-4<br>\n",
    "请用筛选法求出300以内的素数。"
   ]
  },
  {
   "cell_type": "code",
   "execution_count": null,
   "metadata": {},
   "outputs": [],
   "source": [
    "primes = [1] * 300;\n",
    "primes[0:2] = [0,0]         \n",
    "for i in range(2 , 300):\n",
    "    if primes[i]==1:\n",
    "        for j in range(i+1,300):\n",
    "            if primes[j] != 0 and j % i == 0:\n",
    "                primes[j] = 0\n",
    "                \n",
    "print(\"300以内的素数包括：\")\n",
    "for i in range(2 , 300):\n",
    "    if primes[i]:\n",
    "        print(i , end = ' ')    "
   ]
  },
  {
   "cell_type": "markdown",
   "metadata": {},
   "source": [
    "案例4-5<br>\n",
    "请用二分查找法在列表中查找指定的元素。"
   ]
  },
  {
   "cell_type": "code",
   "execution_count": null,
   "metadata": {},
   "outputs": [],
   "source": [
    "ls=[34, 64, 67, 72, 73, 82, 83, 85, 87, 88, 90, 91, 96,  98]\n",
    "x=int(input(\"请输入待查找的数:\"))\n",
    "low=0\n",
    "high=len(ls)-1"
   ]
  },
  {
   "cell_type": "code",
   "execution_count": null,
   "metadata": {},
   "outputs": [],
   "source": [
    "while low<high:\n",
    "    mid=(low+high)//2\n",
    "    if ls[mid]<x:\n",
    "        low=mid+1\n",
    "    elif ls[mid]>x:\n",
    "        high=mid-1\n",
    "    else:\n",
    "        print(\"找到{},索引为{}!\".format(x,mid));\n",
    "        break;\n",
    "else:\n",
    "    print(\"没有找到{}\".format(x))\n",
    "    "
   ]
  },
  {
   "cell_type": "markdown",
   "metadata": {},
   "source": [
    "**案例4-6**<br>\n",
    "食堂伙食质量问卷调查。"
   ]
  },
  {
   "cell_type": "markdown",
   "metadata": {},
   "source": [
    "**案例4-6-1**<br>\n",
    "随机生成90个调查结果，4-6预备程序"
   ]
  },
  {
   "cell_type": "code",
   "execution_count": 45,
   "metadata": {},
   "outputs": [
    {
     "name": "stdout",
     "output_type": "stream",
     "text": [
      "满意,很满意,满意,一般,很满意,很满意,一般,满意,满意,不满意,一般,满意,满意,很满意,很满意,一般,不满意,一般,一般,很满意,一般,一般,满意,不满意,满意,满意,一般,很满意,很满意,满意,满意,不满意,不满意,很满意,不满意,满意,很满意,很满意,满意,很满意,满意,一般,很满意,很满意,很满意,很满意,一般,满意,很满意,满意,满意,不满意,一般,满意,不满意,很满意,满意,很满意,满意,很满意,很满意,一般,一般,一般,满意,满意,很满意,满意,一般,很满意,不满意,很满意,不满意,很满意,很满意,不满意,不满意,不满意,很满意,很满意,满意,不满意,很满意,一般,一般,满意,满意,满意,一般,很满意\n"
     ]
    }
   ],
   "source": [
    "from random import *\n",
    "s=[]\n",
    "seed(10)\n",
    "l=[\"很满意\",\"满意\",\"一般\",\"不满意\"]\n",
    "for i in range(90):\n",
    "    n=int(random()*10)%4\n",
    "    s.append(l[n])\n",
    "print(','.join(s))"
   ]
  },
  {
   "cell_type": "code",
   "execution_count": 46,
   "metadata": {},
   "outputs": [],
   "source": [
    "comments=['不满意','一般','满意','很满意']"
   ]
  },
  {
   "cell_type": "code",
   "execution_count": 56,
   "metadata": {},
   "outputs": [],
   "source": [
    "result=\"满意,很满意,满意,一般,很满意,很满意,一般,\\\n",
    "满意,满意,不满意,一般,满意,满意,很满意,很满意,一般,不满意,\\\n",
    "一般,一般,很满意,一般,一般,满意,不满意,满意,满意,一般,很满意,\\\n",
    "很满意,满意,满意,不满意,不满意,很满意,不满意,满意,很满意,很满意,\\\n",
    "满意,很满意,满意,一般,很满意,很满意,很满意,很满意,一般,满意,很满意,\\\n",
    "满意,满意,不满意,一般,满意,不满意,很满意,满意,很满意,满意,很满意,很满意,\\\n",
    "一般,一般,一般,满意,满意,很满意,满意,一般,很满意,不满意,很满意,不满意,很满意,\\\n",
    "很满意,不满意,不满意,不满意,很满意,很满意,满意,不满意,很满意,一般,一般,满意,满意,满意,一般,很满意\""
   ]
  },
  {
   "cell_type": "code",
   "execution_count": 57,
   "metadata": {},
   "outputs": [],
   "source": [
    "resultList=result.split(',')"
   ]
  },
  {
   "cell_type": "code",
   "execution_count": 61,
   "metadata": {},
   "outputs": [],
   "source": [
    "commentCnts=[0]*4\n",
    "for i in range(4):\n",
    "    commentCnts[i]=resultList.count(comments[i])"
   ]
  },
  {
   "cell_type": "code",
   "execution_count": 62,
   "metadata": {},
   "outputs": [
    {
     "data": {
      "text/plain": [
       "[14, 19, 27, 30]"
      ]
     },
     "execution_count": 62,
     "metadata": {},
     "output_type": "execute_result"
    }
   ],
   "source": [
    "commentCnts"
   ]
  },
  {
   "cell_type": "code",
   "execution_count": 65,
   "metadata": {},
   "outputs": [],
   "source": [
    "assert len(resultList) == sum(commentCnts)"
   ]
  },
  {
   "cell_type": "code",
   "execution_count": 51,
   "metadata": {},
   "outputs": [],
   "source": [
    "most=max(commentCnts)\n",
    "mostComment=comments[commentCnts.index(most)]"
   ]
  },
  {
   "cell_type": "code",
   "execution_count": 52,
   "metadata": {},
   "outputs": [
    {
     "name": "stdout",
     "output_type": "stream",
     "text": [
      "根据统计,对今天伙食感觉:\n",
      "'很满意'的学生28人;\n",
      "'满意'的学生24人;\n",
      "'一般'的学生17人;\n",
      "'不满意'的学生14人。\n",
      "调查结果中,出现次数最多的评语是 很满意\n"
     ]
    }
   ],
   "source": [
    "print(\"根据统计,对今天伙食感觉:\")\n",
    "print(\"'很满意'的学生{}人;\".format(commentCnts[3]))\n",
    "print(\"'满意'的学生{}人;\".format(commentCnts[2]))\n",
    "print(\"'一般'的学生{}人;\".format(commentCnts[1]))\n",
    "print(\"'不满意'的学生{}人。\".format(commentCnts[0]))\n",
    "      \n",
    "print(\"调查结果中,出现次数最多的评语是\",mostComment)\n",
    "    "
   ]
  },
  {
   "cell_type": "markdown",
   "metadata": {},
   "source": [
    "**案例4-7**<br>\n",
    "拟掷两个骰子100000次,统计2～12各点数出现的概率。"
   ]
  },
  {
   "cell_type": "code",
   "execution_count": null,
   "metadata": {},
   "outputs": [],
   "source": [
    "from random import *"
   ]
  },
  {
   "cell_type": "code",
   "execution_count": 33,
   "metadata": {},
   "outputs": [],
   "source": [
    "faces = [0]*13\n",
    "for i in range(100000):\n",
    "    face1 = randint(1,6)\n",
    "    face2 = randint(1,6)\n",
    "    faces[face1+face2] += 1"
   ]
  },
  {
   "cell_type": "code",
   "execution_count": 34,
   "metadata": {},
   "outputs": [
    {
     "name": "stdout",
     "output_type": "stream",
     "text": [
      "模拟掷两个骰子100000次结果如下:\n",
      "点数2共出现了2802次,出现概率2.80%\n",
      "点数3共出现了5563次,出现概率5.56%\n",
      "点数4共出现了8219次,出现概率8.22%\n",
      "点数5共出现了11068次,出现概率11.07%\n",
      "点数6共出现了13940次,出现概率13.94%\n",
      "点数7共出现了16670次,出现概率16.67%\n",
      "点数8共出现了13772次,出现概率13.77%\n",
      "点数9共出现了11185次,出现概率11.19%\n",
      "点数10共出现了8422次,出现概率8.42%\n",
      "点数11共出现了5558次,出现概率5.56%\n",
      "点数12共出现了2801次,出现概率2.80%\n"
     ]
    }
   ],
   "source": [
    "print(\"模拟掷两个骰子100000次结果如下:\")\n",
    "for i in range(2,13):\n",
    "    rate = faces[i] / 100000\n",
    "    print(\"点数{}共出现了{}次\".format(i,faces[i]),end=\",\")\n",
    "    print(\"出现概率{:.2%}\".format(rate))"
   ]
  },
  {
   "cell_type": "markdown",
   "metadata": {},
   "source": [
    "**案例4-8**<br>\n",
    "优惠下午茶搭配套餐。"
   ]
  },
  {
   "cell_type": "code",
   "execution_count": 38,
   "metadata": {},
   "outputs": [],
   "source": [
    "snacks = ['松饼', '提拉米苏', '芝士蛋糕', '三明治']\n",
    "drinks = ['红茶', '咖啡', '橙汁']"
   ]
  },
  {
   "cell_type": "code",
   "execution_count": 39,
   "metadata": {},
   "outputs": [],
   "source": [
    "menus = []\n",
    "for snack in snacks:\n",
    "     for drink in drinks:\n",
    "        menu = (snack, drink)\n",
    "        menus.append(menu)"
   ]
  },
  {
   "cell_type": "code",
   "execution_count": 40,
   "metadata": {},
   "outputs": [
    {
     "name": "stdout",
     "output_type": "stream",
     "text": [
      "优惠下午茶可提供的搭配套餐如下:\n",
      "('松饼', '红茶')\n",
      "('松饼', '咖啡')\n",
      "('松饼', '橙汁')\n",
      "('提拉米苏', '红茶')\n",
      "('提拉米苏', '咖啡')\n",
      "('提拉米苏', '橙汁')\n",
      "('芝士蛋糕', '红茶')\n",
      "('芝士蛋糕', '咖啡')\n",
      "('芝士蛋糕', '橙汁')\n",
      "('三明治', '红茶')\n",
      "('三明治', '咖啡')\n",
      "('三明治', '橙汁')\n"
     ]
    }
   ],
   "source": [
    "print(\"优惠下午茶可提供的搭配套餐如下:\")\n",
    "for menu in menus:\n",
    "    print(menu)\n",
    "         "
   ]
  },
  {
   "cell_type": "markdown",
   "metadata": {},
   "source": [
    "列表推导"
   ]
  },
  {
   "cell_type": "code",
   "execution_count": 35,
   "metadata": {},
   "outputs": [],
   "source": [
    "snacks = ['松饼', '提拉米苏', '芝士蛋糕', '三明治']\n",
    "drinks = ['红茶', '咖啡', '橙汁']"
   ]
  },
  {
   "cell_type": "code",
   "execution_count": 36,
   "metadata": {},
   "outputs": [],
   "source": [
    "menus = [(snack, drink) for snack in snacks for drink in drinks]"
   ]
  },
  {
   "cell_type": "code",
   "execution_count": 37,
   "metadata": {
    "scrolled": false
   },
   "outputs": [
    {
     "name": "stdout",
     "output_type": "stream",
     "text": [
      "优惠下午茶可提供的搭配套餐如下:\n",
      "('松饼', '红茶')\n",
      "('松饼', '咖啡')\n",
      "('松饼', '橙汁')\n",
      "('提拉米苏', '红茶')\n",
      "('提拉米苏', '咖啡')\n",
      "('提拉米苏', '橙汁')\n",
      "('芝士蛋糕', '红茶')\n",
      "('芝士蛋糕', '咖啡')\n",
      "('芝士蛋糕', '橙汁')\n",
      "('三明治', '红茶')\n",
      "('三明治', '咖啡')\n",
      "('三明治', '橙汁')\n"
     ]
    }
   ],
   "source": [
    "print(\"优惠下午茶可提供的搭配套餐如下:\")\n",
    "for menu in menus:\n",
    "    print(menu)"
   ]
  },
  {
   "cell_type": "markdown",
   "metadata": {},
   "source": [
    "案例4-9<br>\n",
    "\n",
    "大侠属性评分统计。"
   ]
  },
  {
   "cell_type": "code",
   "execution_count": null,
   "metadata": {},
   "outputs": [],
   "source": [
    "attrs = [\"筋骨\", \"敏捷\",\"气势\",\"反应\",\"技巧\",\"内力\"]\n",
    "tables = [['萧峰',20,17,20,20,18,19],\n",
    "          ['杨过',18,19,17,20,18,18],\n",
    "          ['令狐冲',12,17,14,20,19,13],\n",
    "          ['张无忌',20,17,15,14,20,20],\n",
    "          ['郭靖',19,18,19,18,19,20]]"
   ]
  },
  {
   "cell_type": "markdown",
   "metadata": {},
   "source": [
    "大侠名字列表names"
   ]
  },
  {
   "cell_type": "code",
   "execution_count": null,
   "metadata": {},
   "outputs": [],
   "source": [
    "names = [item[0] for item in tables]"
   ]
  },
  {
   "cell_type": "markdown",
   "metadata": {},
   "source": [
    "评分列表scores"
   ]
  },
  {
   "cell_type": "code",
   "execution_count": null,
   "metadata": {},
   "outputs": [],
   "source": [
    "scores = [item[1:] for item in tables]"
   ]
  },
  {
   "cell_type": "markdown",
   "metadata": {},
   "source": [
    "各位大侠的总分列表totals"
   ]
  },
  {
   "cell_type": "code",
   "execution_count": null,
   "metadata": {},
   "outputs": [],
   "source": [
    "totals = [sum(item) for item in scores]"
   ]
  },
  {
   "cell_type": "markdown",
   "metadata": {},
   "source": [
    "各个属性平均分列表avgs"
   ]
  },
  {
   "cell_type": "code",
   "execution_count": null,
   "metadata": {},
   "outputs": [],
   "source": [
    "avgs=[]\n",
    "for j in range(6):\n",
    "    avgs.append(sum([scores[i][j] for i in range(5)])/5)"
   ]
  },
  {
   "cell_type": "markdown",
   "metadata": {},
   "source": [
    "五位大侠的总分"
   ]
  },
  {
   "cell_type": "code",
   "execution_count": null,
   "metadata": {},
   "outputs": [],
   "source": [
    "print(\"\\n五位大侠的总分是:\")\n",
    "for i in range(5):\n",
    "    print(\"{:<6}:{:>4}\".format(names[i],totals[i]))"
   ]
  },
  {
   "cell_type": "markdown",
   "metadata": {},
   "source": [
    "不同属性的平均分"
   ]
  },
  {
   "cell_type": "code",
   "execution_count": null,
   "metadata": {},
   "outputs": [],
   "source": [
    "print(\"\\n不同属性的平均分是:\")\n",
    "for i in range(6):\n",
    "    print(\"{:<8}:{:>4}\".format(attrs[i],avgs[i]))"
   ]
  },
  {
   "cell_type": "markdown",
   "metadata": {},
   "source": [
    "得分最高的大侠名字"
   ]
  },
  {
   "cell_type": "code",
   "execution_count": null,
   "metadata": {},
   "outputs": [],
   "source": [
    "print(\"\\n总分最高的大侠是:\",end='——')\n",
    "print(names[totals.index(max(totals))])"
   ]
  },
  {
   "cell_type": "code",
   "execution_count": null,
   "metadata": {},
   "outputs": [],
   "source": []
  }
 ],
 "metadata": {
  "kernelspec": {
   "display_name": "Python 3 (ipykernel)",
   "language": "python",
   "name": "python3"
  },
  "language_info": {
   "codemirror_mode": {
    "name": "ipython",
    "version": 3
   },
   "file_extension": ".py",
   "mimetype": "text/x-python",
   "name": "python",
   "nbconvert_exporter": "python",
   "pygments_lexer": "ipython3",
   "version": "3.9.7"
  },
  "toc": {
   "base_numbering": 1,
   "nav_menu": {},
   "number_sections": true,
   "sideBar": true,
   "skip_h1_title": false,
   "title_cell": "Table of Contents",
   "title_sidebar": "Contents",
   "toc_cell": false,
   "toc_position": {},
   "toc_section_display": true,
   "toc_window_display": false
  }
 },
 "nbformat": 4,
 "nbformat_minor": 2
}
