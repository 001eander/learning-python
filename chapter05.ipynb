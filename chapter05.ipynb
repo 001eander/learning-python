{
 "cells": [
  {
   "cell_type": "markdown",
   "metadata": {},
   "source": [
    "# 字典的创建与访问"
   ]
  },
  {
   "cell_type": "markdown",
   "metadata": {},
   "source": [
    "# 字典的基本操作"
   ]
  },
  {
   "cell_type": "markdown",
   "metadata": {},
   "source": [
    "案例5-1<br>\n",
    "\n",
    "使用if结构统计英文句子中各字符出现的次数"
   ]
  },
  {
   "cell_type": "code",
   "execution_count": null,
   "metadata": {},
   "outputs": [],
   "source": [
    "sentence=\"Life is short,we need python.\"\n",
    "sentence=sentence.lower()"
   ]
  },
  {
   "cell_type": "code",
   "execution_count": null,
   "metadata": {},
   "outputs": [],
   "source": [
    "counts={}\n",
    "for c in sentence:\n",
    "    if c in counts:\n",
    "        counts[c] = counts[c] + 1\n",
    "    else:\n",
    "        counts[c] = 1\n",
    "    \n",
    "print(counts)"
   ]
  },
  {
   "cell_type": "markdown",
   "metadata": {},
   "source": [
    "案例5-1<br>\n",
    "get方法统计英文句子中各字符出现的次数"
   ]
  },
  {
   "cell_type": "code",
   "execution_count": null,
   "metadata": {},
   "outputs": [],
   "source": [
    "sentence=\"Life is short,we need python.\"\n",
    "sentence=sentence.lower()"
   ]
  },
  {
   "cell_type": "code",
   "execution_count": null,
   "metadata": {},
   "outputs": [],
   "source": [
    "counts={}\n",
    "for c in sentence:\n",
    "    counts[c]=counts.get(c,0) + 1"
   ]
  },
  {
   "cell_type": "code",
   "execution_count": null,
   "metadata": {},
   "outputs": [],
   "source": [
    "print()    \n",
    "print(counts)"
   ]
  },
  {
   "cell_type": "markdown",
   "metadata": {},
   "source": [
    "# 字典的整体操作"
   ]
  },
  {
   "cell_type": "markdown",
   "metadata": {},
   "source": [
    "案例5-2<br>\n",
    "按照国家名的升序输出Russia、Canada、China三个国家和对应的国土面积"
   ]
  },
  {
   "cell_type": "code",
   "execution_count": null,
   "metadata": {},
   "outputs": [],
   "source": [
    "dicCountries={'Russia': 1707.5, 'Canada': 997.1, 'China': 960.1}\n",
    "ls=sorted(dicCountries)"
   ]
  },
  {
   "cell_type": "code",
   "execution_count": null,
   "metadata": {},
   "outputs": [],
   "source": [
    "dicCountries.items()"
   ]
  },
  {
   "cell_type": "code",
   "execution_count": null,
   "metadata": {},
   "outputs": [],
   "source": [
    "print()\n",
    "for country in ls:\n",
    "    print(country,dicCountries[country])\n",
    "    "
   ]
  },
  {
   "cell_type": "markdown",
   "metadata": {},
   "source": [
    "案例5-3<br>\n",
    "按照面积值从小到大输出三个国家和对应的国土面积"
   ]
  },
  {
   "cell_type": "code",
   "execution_count": null,
   "metadata": {},
   "outputs": [],
   "source": [
    "dicCountries={'Russia': 1707.5, 'Canada': 997.1, 'China': 960.1}"
   ]
  },
  {
   "cell_type": "markdown",
   "metadata": {},
   "source": [
    "用列表生成器生成（面积，国家）元组构成的列表"
   ]
  },
  {
   "cell_type": "code",
   "execution_count": null,
   "metadata": {},
   "outputs": [],
   "source": [
    "lsVK=[(v,k) for k,v in dicCountries.items()]"
   ]
  },
  {
   "cell_type": "markdown",
   "metadata": {},
   "source": [
    "新列表按照面积排序"
   ]
  },
  {
   "cell_type": "code",
   "execution_count": null,
   "metadata": {},
   "outputs": [],
   "source": [
    "lsVK.sort()"
   ]
  },
  {
   "cell_type": "code",
   "execution_count": null,
   "metadata": {},
   "outputs": [],
   "source": [
    "print()\n",
    "#使用列表生成器生成（国家，面积）元组构成的列表\n",
    "lsKV=[(k,v) for v,k in lsVK]\n",
    "print(lsKV)"
   ]
  },
  {
   "cell_type": "code",
   "execution_count": null,
   "metadata": {},
   "outputs": [],
   "source": [
    "sorted(dicCountries.items(), key=lambda x: x[1])"
   ]
  },
  {
   "cell_type": "markdown",
   "metadata": {},
   "source": [
    "案例5-4<br>\n",
    "合并\"国家-面积\"字典dicAreas和\"国家-首都\"字典dicCapitals"
   ]
  },
  {
   "cell_type": "code",
   "execution_count": null,
   "metadata": {},
   "outputs": [],
   "source": [
    "dicAreas= {'俄罗斯': 1707.5, '加拿大': 997.1, '中国': 960.1, '美国': 936.4, '巴西': 854.7}\n",
    "dicCapitals={'俄罗斯': '莫斯科', '加拿大': '渥太华', '中国': '北京', '美国': '华盛顿', '巴西': '巴西利亚'}"
   ]
  },
  {
   "cell_type": "code",
   "execution_count": null,
   "metadata": {},
   "outputs": [],
   "source": [
    "dicCountries={}"
   ]
  },
  {
   "cell_type": "code",
   "execution_count": null,
   "metadata": {},
   "outputs": [],
   "source": [
    "for key in dicAreas.keys():\n",
    "    dicCountries[key] =[ dicAreas[key] , dicCapitals[key] ]"
   ]
  },
  {
   "cell_type": "code",
   "execution_count": null,
   "metadata": {
    "scrolled": true
   },
   "outputs": [],
   "source": [
    "print()\n",
    "for item in dicCountries.items():\n",
    "    print(item)"
   ]
  },
  {
   "cell_type": "markdown",
   "metadata": {},
   "source": [
    "# 集合"
   ]
  },
  {
   "cell_type": "markdown",
   "metadata": {},
   "source": [
    "案例5-5<br>\n",
    "生成20个0~20的随机数并输出其中互不相同的数"
   ]
  },
  {
   "cell_type": "code",
   "execution_count": null,
   "metadata": {},
   "outputs": [],
   "source": [
    "import random"
   ]
  },
  {
   "cell_type": "code",
   "execution_count": null,
   "metadata": {},
   "outputs": [],
   "source": [
    "ls=[]\n",
    "for i in range(20):\n",
    "    ls.append(random.randint(0,20))"
   ]
  },
  {
   "cell_type": "code",
   "execution_count": null,
   "metadata": {},
   "outputs": [],
   "source": [
    "s=set(ls)"
   ]
  },
  {
   "cell_type": "code",
   "execution_count": null,
   "metadata": {},
   "outputs": [],
   "source": [
    "print()\n",
    "print(\"生成的20个0~20随机数为：\")\n",
    "print(ls)"
   ]
  },
  {
   "cell_type": "code",
   "execution_count": null,
   "metadata": {},
   "outputs": [],
   "source": [
    "print(\"其中互不相同的数为：\")\n",
    "print(s)"
   ]
  },
  {
   "cell_type": "markdown",
   "metadata": {},
   "source": [
    "案例5-6<br>\n",
    "EEE和TIOBE榜单前五编程语言讨论"
   ]
  },
  {
   "cell_type": "code",
   "execution_count": null,
   "metadata": {},
   "outputs": [],
   "source": [
    "setI={'Python','C++','C','Java','C#'}\n",
    "setT={'Java','C','C++','Python','VB.NET'}"
   ]
  },
  {
   "cell_type": "code",
   "execution_count": null,
   "metadata": {},
   "outputs": [],
   "source": [
    "print(\"IEEE2018排行榜前五的编程语言有:\")\n",
    "print(setI)"
   ]
  },
  {
   "cell_type": "code",
   "execution_count": null,
   "metadata": {},
   "outputs": [],
   "source": [
    "print(\"TIOBE2018排行榜前五的编程语言有:\")\n",
    "print(setT)"
   ]
  },
  {
   "cell_type": "code",
   "execution_count": null,
   "metadata": {},
   "outputs": [],
   "source": [
    "print(\"前五名上榜的所有语言有:\")\n",
    "print(setI | setT)"
   ]
  },
  {
   "cell_type": "code",
   "execution_count": null,
   "metadata": {},
   "outputs": [],
   "source": [
    "print(\"在两个榜单同时进前五的语言有:\")\n",
    "print(setI & setT)"
   ]
  },
  {
   "cell_type": "code",
   "execution_count": null,
   "metadata": {},
   "outputs": [],
   "source": [
    "print(\"只在IEEE榜进前五的语言有:\")\n",
    "print(setI - setT)"
   ]
  },
  {
   "cell_type": "code",
   "execution_count": null,
   "metadata": {},
   "outputs": [],
   "source": [
    "print(\"只在一个榜单进前五的语言:\")\n",
    "print(setI ^ setT)"
   ]
  },
  {
   "cell_type": "markdown",
   "metadata": {},
   "source": [
    "# 字典与集合应用实例"
   ]
  },
  {
   "cell_type": "markdown",
   "metadata": {},
   "source": [
    "**案例5-7**<br>\n",
    "关于学生信息表的统计与查询"
   ]
  },
  {
   "cell_type": "markdown",
   "metadata": {},
   "source": [
    " |     姓名     |     性别     |     年龄     | \n",
    " | ---------- | ---------- | ---------- | \n",
    " |     李明     |     男      |     19     | \n",
    " |     杨柳     |     女      |     18     | \n",
    " |    张一凡     |     男      |     18     | \n",
    " |     许可     |     女      |     20     | \n",
    " |    王小小     |     女      |     19     | \n",
    " |     陈心     |     女      |     19     | "
   ]
  },
  {
   "cell_type": "markdown",
   "metadata": {},
   "source": [
    "学生基本信息如上表所示，请编写程序分别统计男、女生的人数，并查找所有年龄超过18岁的学生的姓名。"
   ]
  },
  {
   "cell_type": "code",
   "execution_count": null,
   "metadata": {},
   "outputs": [],
   "source": [
    "dicStus={'李明':('男',19),'杨柳':('女',18),'张一凡':('男',18),\n",
    "         '许可':('女',20),'王小小':('女', 19),'陈心':('女',19)}"
   ]
  },
  {
   "cell_type": "code",
   "execution_count": null,
   "metadata": {},
   "outputs": [],
   "source": [
    "cnts={}\n",
    "names=[]"
   ]
  },
  {
   "cell_type": "code",
   "execution_count": null,
   "metadata": {},
   "outputs": [],
   "source": [
    "for k,v in dicStus.items():\n",
    "    cnts[v[0]]=cnts.get(v[0],0)+1\n",
    "    if v[1]>18:\n",
    "        names.append(k)"
   ]
  },
  {
   "cell_type": "code",
   "execution_count": null,
   "metadata": {},
   "outputs": [],
   "source": [
    "print()\n",
    "print(\"学生中女生共有{}名,男生共有{}名\".format(cnts['女'],cnts['男']))\n",
    "print(\"其中年龄超过18岁的学生有:\")\n",
    "print(names)"
   ]
  },
  {
   "cell_type": "code",
   "execution_count": null,
   "metadata": {},
   "outputs": [],
   "source": [
    "# # to markdown\n",
    "# col_width = 10\n",
    "# cols = ['姓名', '性别', '年龄']\n",
    "# header = [f\"{col:^{col_width}}\" for col in cols]\n",
    "# header.insert(0, '')\n",
    "# header.append('')\n",
    "# table_str = ' | '.join(header) + '\\n'\n",
    "# sep = ['']+['-'*col_width]*len(cols)+['']\n",
    "# table_str += ' | '.join(sep) + '\\n'\n",
    "# for k, v in dicStus.items():\n",
    "#     row = [k, v[0], v[1]]\n",
    "#     row = [''] + [f\"{v:^{col_width}}\" for v in row] + ['']\n",
    "#     table_str += ' | '.join(row) + '\\n'\n",
    "# print(table_str)"
   ]
  },
  {
   "cell_type": "markdown",
   "metadata": {},
   "source": [
    "**案例5-8**<br>\n",
    "按省份统计班级同学的籍贯分布情况，男女生分别统计，结果如下\n",
    "\n",
    "女生籍贯分布江苏3人, 浙江2人, 吉林1人\n",
    "\n",
    "男生籍贯分布江苏8人, 浙江5人, 山东5人, 安徽4人, 福建2人\n",
    "\n",
    "请合并两个调研结果"
   ]
  },
  {
   "cell_type": "code",
   "execution_count": null,
   "metadata": {},
   "outputs": [],
   "source": [
    "dicBoys={'江苏':8,'浙江':5,'山东':5,'安徽':4,'福建':2}\n",
    "dicGirls={'江苏':3,'浙江':2,'吉林':1}"
   ]
  },
  {
   "cell_type": "code",
   "execution_count": null,
   "metadata": {},
   "outputs": [],
   "source": [
    "dic=dicBoys.copy()"
   ]
  },
  {
   "cell_type": "code",
   "execution_count": null,
   "metadata": {},
   "outputs": [],
   "source": [
    "for k,v in dicGirls.items():\n",
    "    dic[k]=dic.get(k,0)+v"
   ]
  },
  {
   "cell_type": "code",
   "execution_count": null,
   "metadata": {},
   "outputs": [],
   "source": [
    "print()\n",
    "print(dic)"
   ]
  },
  {
   "cell_type": "code",
   "execution_count": null,
   "metadata": {},
   "outputs": [],
   "source": [
    "# print('女生籍贯分布'+', '.join([f\"{province}{count}人\" for province, count in dicGirls.items()]), '\\n',\n",
    "# '男生籍贯分布'+', '.join([f\"{province}{count}人\" for province, count in dicBoys.items()]), sep='')"
   ]
  },
  {
   "cell_type": "markdown",
   "metadata": {},
   "source": [
    "**案例5-9**<br>\n",
    "学生双十一购物分析"
   ]
  },
  {
   "cell_type": "markdown",
   "metadata": {},
   "source": [
    "|     性别     |     书本     |     文具     |     服饰     |     零食     |    日用品     | \n",
    " | ---------- | ---------- | ---------- | ---------- | ---------- | ---------- | \n",
    " |     女      |     10     |     30     |    300     |    150     |    600     | \n",
    " |     女      |    200     |     10     |    300     |    300     |    100     | \n",
    " |     男      |    200     |    100     |    1000    |    100     |    200     | \n",
    " |     男      |     50     |     20     |    300     |    150     |    600     | \n",
    " |     男      |    200     |     50     |    400     |    100     |    200     | \n",
    " |     女      |    100     |     10     |    500     |    150     |    800     | \n",
    " |     女      |    200     |    100     |    500     |    300     |    200     | \n",
    " |     男      |    300     |     50     |     0      |     10     |     50     | \n",
    " |     男      |    100     |     10     |    500     |     40     |    500     | \n",
    " |     男      |    200     |     50     |    200     |    100     |    100     | \n"
   ]
  },
  {
   "cell_type": "markdown",
   "metadata": {},
   "source": [
    "上表所示的是2018年“双十一”期间对学生进行的匿名购物调查结果的一部分。请根据该表完成以下统计和分析工作：\n",
    "\n",
    "1. 统计每一类消费项目的平均消费金额\n",
    "2. 分别统计男生、女生“双十一”的消费总金额的平均值"
   ]
  },
  {
   "cell_type": "code",
   "execution_count": null,
   "metadata": {},
   "outputs": [],
   "source": [
    "ls=[{'性别':'女','书本':10,'文具':30,'服饰':300,'零食':150,'日用品':600},\n",
    "    {'性别':'女','书本':200,'文具':10,'服饰':300,'零食':300,'日用品':100},\n",
    "    {'性别':'男','书本':200,'文具':100,'服饰':1000,'零食':100,'日用品':200},\n",
    "    {'性别':'男','书本':50,'文具':20,'服饰':300,'零食':150,'日用品':600},\n",
    "    {'性别':'男','书本':200,'文具':50,'服饰':400,'零食':100,'日用品':200},\n",
    "    {'性别':'女','书本':100,'文具':10,'服饰':500,'零食':150,'日用品':800},\n",
    "    {'性别':'女','书本':200,'文具':100,'服饰':500,'零食':300,'日用品':200},\n",
    "    {'性别':'男','书本':300,'文具':50,'服饰':0,'零食':10,'日用品':50},\n",
    "    {'性别':'男','书本':100,'文具':10,'服饰':500,'零食':40,'日用品':500},\n",
    "    {'性别':'男','书本':200,'文具':50,'服饰':200,'零食':100,'日用品':100}]"
   ]
  },
  {
   "cell_type": "markdown",
   "metadata": {},
   "source": [
    "统计每一类消费项目的平均消费金额"
   ]
  },
  {
   "cell_type": "code",
   "execution_count": null,
   "metadata": {},
   "outputs": [],
   "source": [
    "total={}\n",
    "for dic in ls:                               #遍历列表中每一个字典元素\n",
    "    for k,v in dic.items():                  #遍历当前字典元素的每一个条目\n",
    "        if k!='性别': \n",
    "            total[k]=total.get(k,0)+v        #将除了'性别'项的其他各项按键求和"
   ]
  },
  {
   "cell_type": "code",
   "execution_count": null,
   "metadata": {},
   "outputs": [],
   "source": [
    "print(\"每一类消费项目的平均消费金额如下所示:\")           \n",
    "for key in total.keys():\n",
    "    print(key,end='\\t')\n",
    "    \n",
    "print()"
   ]
  },
  {
   "cell_type": "code",
   "execution_count": null,
   "metadata": {},
   "outputs": [],
   "source": [
    "for value in total.values():\n",
    "    print(value/len(ls),end='\\t')         #输出是按照实际人数求平均值\n",
    "print()"
   ]
  },
  {
   "cell_type": "markdown",
   "metadata": {},
   "source": [
    "分别统计男、女生双十一的平均消费总金额"
   ]
  },
  {
   "cell_type": "code",
   "execution_count": null,
   "metadata": {},
   "outputs": [],
   "source": [
    "dicAvg={}\n",
    "dicCnt={}"
   ]
  },
  {
   "cell_type": "code",
   "execution_count": null,
   "metadata": {},
   "outputs": [],
   "source": [
    "for dic in ls:\n",
    "    s=0\n",
    "    for k,v in dic.items():                \n",
    "        if k!='性别':\n",
    "            s=s+v                             #将同一学生所有消费金额求和\n",
    "    dicAvg[dic['性别']]=dicAvg.get(dic['性别'],0)+s  #按性别累加消费金额\n",
    "    dicCnt[dic['性别']]=dicCnt.get(dic['性别'],0)+1    #按性别统计人数\n",
    "    \n",
    "for sex in ['男','女']:\n",
    "    dicAvg[sex] /= dicCnt[sex]"
   ]
  },
  {
   "cell_type": "code",
   "execution_count": null,
   "metadata": {},
   "outputs": [],
   "source": [
    "print(\"\\n男、女生双十一的平均消费总金额是:\")\n",
    "print(dicAvg)"
   ]
  },
  {
   "cell_type": "code",
   "execution_count": null,
   "metadata": {},
   "outputs": [],
   "source": [
    "# # to markdown\n",
    "# col_width = 10\n",
    "# cols = ['性别', '书本', '文具', '服饰', '零食', '日用品']\n",
    "# header = [f\"{col:^{col_width}}\" for col in cols]\n",
    "# header.insert(0, '')\n",
    "# header.append('')\n",
    "# table_str = ' | '.join(header) + '\\n'\n",
    "# sep = ['']+['-'*col_width]*len(cols)+['']\n",
    "# table_str += ' | '.join(sep) + '\\n'\n",
    "# for row in ls:\n",
    "#     row = [row[col] for col in cols]\n",
    "#     row = [''] + [f\"{v:^{col_width}}\" for v in row] + ['']\n",
    "#     table_str += ' | '.join(row) + '\\n'\n",
    "# print(table_str)"
   ]
  },
  {
   "cell_type": "markdown",
   "metadata": {},
   "source": [
    "**案例5-10**<br>\n",
    "用字典统计分析武功属性表"
   ]
  },
  {
   "cell_type": "markdown",
   "metadata": {},
   "source": [
    " |     姓名     |     筋骨     |     敏捷     |     气势     |     反应     |     技巧     |     内力     | \n",
    " | ---------- | ---------- | ---------- | ---------- | ---------- | ---------- | ---------- | \n",
    " |     萧峰     |     20     |     17     |     20     |     20     |     18     |     19     | \n",
    " |     杨过     |     18     |     19     |     17     |     20     |     18     |     18     | \n",
    " |    令狐冲     |     12     |     17     |     14     |     20     |     19     |     13     | \n",
    " |    张无忌     |     20     |     17     |     15     |     14     |     20     |     20     | \n",
    " |     郭靖     |     19     |     18     |     19     |     18     |     19     |     20     | "
   ]
  },
  {
   "cell_type": "markdown",
   "metadata": {},
   "source": [
    "1. 各位大侠的武功总得分\n",
    "2. 五位大侠在不同属性上的平均分\n",
    "3. 分别输出五位大侠的总分和不同属性的平均分\n",
    "4. 找出总分最高的大侠"
   ]
  },
  {
   "cell_type": "code",
   "execution_count": null,
   "metadata": {},
   "outputs": [],
   "source": [
    "tables = {'萧峰':{'筋骨':20,'敏捷':17,'气势':20,'反应':20,'技巧':18,'内力':19},\n",
    "          '杨过':{'筋骨':18,'敏捷':19,'气势':17,'反应':20,'技巧':18,'内力':18},\n",
    "          '令狐冲':{'筋骨':12,'敏捷':17,'气势':14,'反应':20,'技巧':19,'内力':13},\n",
    "          '张无忌':{'筋骨':20,'敏捷':17,'气势':15,'反应':14,'技巧':20,'内力':20},\n",
    "          '郭靖':{'筋骨':19,'敏捷':18,'气势':19,'反应':18,'技巧':19,'内力':20}}"
   ]
  },
  {
   "cell_type": "markdown",
   "metadata": {},
   "source": [
    "求解并输出五位大侠总得分"
   ]
  },
  {
   "cell_type": "code",
   "execution_count": null,
   "metadata": {},
   "outputs": [],
   "source": [
    "for k,v in tables.items():\n",
    "    tables[k]['总分']=tables[k]['筋骨']+tables[k]['敏捷']+tables[k]['气势']+tables[k]['反应']+tables[k]['技巧']+tables[k]['内力']\n",
    "    print(\"{:<6}:{:>4}\".format(k,v['总分']))"
   ]
  },
  {
   "cell_type": "markdown",
   "metadata": {},
   "source": [
    "求解并输出不同属性平均分"
   ]
  },
  {
   "cell_type": "code",
   "execution_count": null,
   "metadata": {},
   "outputs": [],
   "source": [
    "dictri={}\n",
    "for k,v in tables.items():\n",
    "    dictri['筋骨']=dictri.get('筋骨',0)+v['筋骨']\n",
    "    dictri['敏捷']=dictri.get('敏捷',0)+v['敏捷']\n",
    "    dictri['气势']=dictri.get('气势',0)+v['气势']\n",
    "    dictri['反应']=dictri.get('反应',0)+v['反应']\n",
    "    dictri['技巧']=dictri.get('技巧',0)+v['技巧']\n",
    "    dictri['内力']=dictri.get('内力',0)+v['内力']"
   ]
  },
  {
   "cell_type": "code",
   "execution_count": null,
   "metadata": {},
   "outputs": [],
   "source": [
    "n=len(tables)\n",
    "for k,v in dictri.items():\n",
    "    dictri[k]=v/n"
   ]
  },
  {
   "cell_type": "code",
   "execution_count": null,
   "metadata": {},
   "outputs": [],
   "source": [
    "print(\"\\n不同属性的平均分是:\")\n",
    "for k,v in dictri.items():\n",
    "    print(\"{:<8}:{:>4}\".format(k,v))"
   ]
  },
  {
   "cell_type": "markdown",
   "metadata": {},
   "source": [
    "求解并输出得分最高的大侠"
   ]
  },
  {
   "cell_type": "code",
   "execution_count": null,
   "metadata": {},
   "outputs": [],
   "source": [
    "totals = [(v['总分'], k) for k, v in tables.items()]\n",
    "totals.sort(reverse=True)\n",
    "print('\\n总分最高的大侠是', end='——')\n",
    "print(totals[0][1])"
   ]
  },
  {
   "cell_type": "code",
   "execution_count": null,
   "metadata": {},
   "outputs": [],
   "source": [
    "# # to markdown\n",
    "# col_width = 10\n",
    "# cols = ['姓名', '筋骨', '敏捷', '气势', '反应', '技巧', '内力']\n",
    "# header = [f\"{col:^{col_width}}\" for col in cols]\n",
    "# header.insert(0, '')\n",
    "# header.append('')\n",
    "# table_str = ' | '.join(header) + '\\n'\n",
    "# sep = ['']+['-'*col_width]*len(cols)+['']\n",
    "# table_str += ' | '.join(sep) + '\\n'\n",
    "# for name, row in tables.items():\n",
    "#     row = [name] + [row[col] for col in cols[1:]]\n",
    "#     row = [''] + [f\"{v:^{col_width}}\" for v in row] + ['']\n",
    "#     table_str += ' | '.join(row) + '\\n'\n",
    "# print(table_str)"
   ]
  },
  {
   "cell_type": "code",
   "execution_count": null,
   "metadata": {},
   "outputs": [],
   "source": []
  }
 ],
 "metadata": {
  "kernelspec": {
   "display_name": "Python 3 (ipykernel)",
   "language": "python",
   "name": "python3"
  },
  "language_info": {
   "codemirror_mode": {
    "name": "ipython",
    "version": 3
   },
   "file_extension": ".py",
   "mimetype": "text/x-python",
   "name": "python",
   "nbconvert_exporter": "python",
   "pygments_lexer": "ipython3",
   "version": "3.9.7"
  },
  "toc": {
   "base_numbering": 1,
   "nav_menu": {},
   "number_sections": true,
   "sideBar": true,
   "skip_h1_title": false,
   "title_cell": "Table of Contents",
   "title_sidebar": "Contents",
   "toc_cell": false,
   "toc_position": {},
   "toc_section_display": true,
   "toc_window_display": false
  }
 },
 "nbformat": 4,
 "nbformat_minor": 2
}
