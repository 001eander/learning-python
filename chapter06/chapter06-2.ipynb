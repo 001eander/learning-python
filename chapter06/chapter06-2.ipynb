{
 "cells": [
  {
   "cell_type": "markdown",
   "metadata": {},
   "source": [
    "# 函数的基本概念"
   ]
  },
  {
   "cell_type": "code",
   "execution_count": 1,
   "metadata": {
    "scrolled": true
   },
   "outputs": [
    {
     "data": {
      "text/plain": [
       "3.1"
      ]
     },
     "execution_count": 1,
     "metadata": {},
     "output_type": "execute_result"
    }
   ],
   "source": [
    "round(3.1415, ndigits=1)"
   ]
  },
  {
   "cell_type": "code",
   "execution_count": 2,
   "metadata": {},
   "outputs": [],
   "source": [
    "def hi(name):\n",
    "    print('hello'+name)    "
   ]
  },
  {
   "cell_type": "code",
   "execution_count": 3,
   "metadata": {},
   "outputs": [
    {
     "name": "stdout",
     "output_type": "stream",
     "text": [
      "helloxiaohang\n"
     ]
    }
   ],
   "source": [
    "hi('xiaohang')"
   ]
  },
  {
   "cell_type": "code",
   "execution_count": 4,
   "metadata": {},
   "outputs": [],
   "source": [
    "def f(m,n):\n",
    "    return m+n"
   ]
  },
  {
   "cell_type": "code",
   "execution_count": 5,
   "metadata": {},
   "outputs": [
    {
     "data": {
      "text/plain": [
       "7"
      ]
     },
     "execution_count": 5,
     "metadata": {},
     "output_type": "execute_result"
    }
   ],
   "source": [
    "a = 3\n",
    "b = 4\n",
    "f(a,b)"
   ]
  },
  {
   "cell_type": "code",
   "execution_count": 6,
   "metadata": {},
   "outputs": [],
   "source": [
    "def f(a, b):\n",
    "    return a**2+b\n",
    "#     print(a+b)"
   ]
  },
  {
   "cell_type": "code",
   "execution_count": 7,
   "metadata": {},
   "outputs": [
    {
     "data": {
      "text/plain": [
       "10"
      ]
     },
     "execution_count": 7,
     "metadata": {},
     "output_type": "execute_result"
    }
   ],
   "source": [
    "f(3,1)"
   ]
  },
  {
   "cell_type": "code",
   "execution_count": 8,
   "metadata": {},
   "outputs": [
    {
     "data": {
      "text/plain": [
       "4"
      ]
     },
     "execution_count": 8,
     "metadata": {},
     "output_type": "execute_result"
    }
   ],
   "source": [
    "f(1,3)"
   ]
  },
  {
   "cell_type": "code",
   "execution_count": 9,
   "metadata": {
    "scrolled": true
   },
   "outputs": [
    {
     "data": {
      "text/plain": [
       "14"
      ]
     },
     "execution_count": 9,
     "metadata": {},
     "output_type": "execute_result"
    }
   ],
   "source": [
    "f(3, 1) + f(1, 3)"
   ]
  },
  {
   "cell_type": "code",
   "execution_count": 10,
   "metadata": {},
   "outputs": [
    {
     "data": {
      "text/plain": [
       "104"
      ]
     },
     "execution_count": 10,
     "metadata": {},
     "output_type": "execute_result"
    }
   ],
   "source": [
    "f(f(3, 1), f(1, 3))"
   ]
  },
  {
   "cell_type": "code",
   "execution_count": 11,
   "metadata": {},
   "outputs": [],
   "source": [
    "def f(a):\n",
    "    print(a)"
   ]
  },
  {
   "cell_type": "code",
   "execution_count": 12,
   "metadata": {},
   "outputs": [
    {
     "name": "stdout",
     "output_type": "stream",
     "text": [
      "1\n"
     ]
    },
    {
     "ename": "TypeError",
     "evalue": "unsupported operand type(s) for +: 'NoneType' and 'int'",
     "output_type": "error",
     "traceback": [
      "\u001b[1;31m---------------------------------------------------------------------------\u001b[0m",
      "\u001b[1;31mTypeError\u001b[0m                                 Traceback (most recent call last)",
      "\u001b[1;32m~\\AppData\\Local\\Temp/ipykernel_37048/967499390.py\u001b[0m in \u001b[0;36m<module>\u001b[1;34m\u001b[0m\n\u001b[1;32m----> 1\u001b[1;33m \u001b[0mf\u001b[0m\u001b[1;33m(\u001b[0m\u001b[1;36m1\u001b[0m\u001b[1;33m)\u001b[0m\u001b[1;33m+\u001b[0m\u001b[1;36m3\u001b[0m\u001b[1;33m\u001b[0m\u001b[1;33m\u001b[0m\u001b[0m\n\u001b[0m",
      "\u001b[1;31mTypeError\u001b[0m: unsupported operand type(s) for +: 'NoneType' and 'int'"
     ]
    }
   ],
   "source": [
    "f(1)+3"
   ]
  },
  {
   "cell_type": "markdown",
   "metadata": {},
   "source": [
    "# 函数的使用"
   ]
  },
  {
   "cell_type": "markdown",
   "metadata": {},
   "source": [
    "案例6-1-1"
   ]
  },
  {
   "cell_type": "code",
   "execution_count": 13,
   "metadata": {},
   "outputs": [],
   "source": [
    "def calSum():\n",
    "    sum = 0\n",
    "    for i in range(1,101):\n",
    "        sum += i\n",
    "    print(\"sum=\", sum)"
   ]
  },
  {
   "cell_type": "code",
   "execution_count": 14,
   "metadata": {},
   "outputs": [
    {
     "name": "stdout",
     "output_type": "stream",
     "text": [
      "sum= 5050\n"
     ]
    }
   ],
   "source": [
    "calSum()"
   ]
  },
  {
   "cell_type": "markdown",
   "metadata": {},
   "source": [
    "案例6-1-2"
   ]
  },
  {
   "cell_type": "code",
   "execution_count": 15,
   "metadata": {},
   "outputs": [],
   "source": [
    "def calSum(n1,n2):\n",
    "    _sum = 0\n",
    "    for i in range(n1, n2+1):\n",
    "        _sum += i\n",
    "    print(\"sum=\", _sum)"
   ]
  },
  {
   "cell_type": "code",
   "execution_count": 16,
   "metadata": {},
   "outputs": [
    {
     "name": "stdout",
     "output_type": "stream",
     "text": [
      "初值：\n"
     ]
    },
    {
     "ename": "ValueError",
     "evalue": "invalid literal for int() with base 10: ''",
     "output_type": "error",
     "traceback": [
      "\u001b[1;31m---------------------------------------------------------------------------\u001b[0m",
      "\u001b[1;31mValueError\u001b[0m                                Traceback (most recent call last)",
      "\u001b[1;32m~\\AppData\\Local\\Temp/ipykernel_37048/1387193686.py\u001b[0m in \u001b[0;36m<module>\u001b[1;34m\u001b[0m\n\u001b[1;32m----> 1\u001b[1;33m \u001b[0mn1\u001b[0m \u001b[1;33m=\u001b[0m \u001b[0mint\u001b[0m\u001b[1;33m(\u001b[0m\u001b[0minput\u001b[0m\u001b[1;33m(\u001b[0m\u001b[1;34m\"初值：\"\u001b[0m\u001b[1;33m)\u001b[0m\u001b[1;33m)\u001b[0m\u001b[1;33m\u001b[0m\u001b[1;33m\u001b[0m\u001b[0m\n\u001b[0m\u001b[0;32m      2\u001b[0m \u001b[0mn2\u001b[0m \u001b[1;33m=\u001b[0m \u001b[0mint\u001b[0m\u001b[1;33m(\u001b[0m\u001b[0minput\u001b[0m\u001b[1;33m(\u001b[0m\u001b[1;34m\"终值：\"\u001b[0m\u001b[1;33m)\u001b[0m\u001b[1;33m)\u001b[0m\u001b[1;33m\u001b[0m\u001b[1;33m\u001b[0m\u001b[0m\n\u001b[0;32m      3\u001b[0m \u001b[0mcalSum\u001b[0m\u001b[1;33m(\u001b[0m\u001b[0mn1\u001b[0m\u001b[1;33m,\u001b[0m \u001b[0mn2\u001b[0m\u001b[1;33m)\u001b[0m\u001b[1;33m\u001b[0m\u001b[1;33m\u001b[0m\u001b[0m\n",
      "\u001b[1;31mValueError\u001b[0m: invalid literal for int() with base 10: ''"
     ]
    }
   ],
   "source": [
    "n1 = int(input(\"初值：\"))\n",
    "n2 = int(input(\"终值：\"))\n",
    "calSum(n1, n2)"
   ]
  },
  {
   "cell_type": "markdown",
   "metadata": {},
   "source": [
    "案例6-1-3"
   ]
  },
  {
   "cell_type": "code",
   "execution_count": 17,
   "metadata": {},
   "outputs": [],
   "source": [
    "def calSum(n1,n2):\n",
    "    sum = 0\n",
    "    for i in range(n1, n2+1):\n",
    "        sum += i\n",
    "    return sum"
   ]
  },
  {
   "cell_type": "code",
   "execution_count": 18,
   "metadata": {},
   "outputs": [
    {
     "name": "stdout",
     "output_type": "stream",
     "text": [
      "sum= 5204\n"
     ]
    }
   ],
   "source": [
    "print(\"sum=\", calSum(2, 20) + calSum(11, 100))"
   ]
  },
  {
   "cell_type": "code",
   "execution_count": 19,
   "metadata": {},
   "outputs": [],
   "source": [
    "n = calSum(10, 100)"
   ]
  },
  {
   "cell_type": "code",
   "execution_count": 20,
   "metadata": {},
   "outputs": [],
   "source": [
    "# sum([1,1,2])"
   ]
  },
  {
   "cell_type": "markdown",
   "metadata": {},
   "source": [
    "案例6-2-1"
   ]
  },
  {
   "cell_type": "code",
   "execution_count": 21,
   "metadata": {},
   "outputs": [],
   "source": [
    "def is_prime(n):\n",
    "    for i in range(2, n):\n",
    "        if n%i == 0:\n",
    "            return False\n",
    "    else:\n",
    "        return True"
   ]
  },
  {
   "cell_type": "code",
   "execution_count": 22,
   "metadata": {},
   "outputs": [
    {
     "data": {
      "text/plain": [
       "False"
      ]
     },
     "execution_count": 22,
     "metadata": {},
     "output_type": "execute_result"
    }
   ],
   "source": [
    "is_prime(15)"
   ]
  },
  {
   "cell_type": "code",
   "execution_count": 23,
   "metadata": {},
   "outputs": [
    {
     "name": "stdout",
     "output_type": "stream",
     "text": [
      " 2   3   5   7   11  13  17  19  23  29  31  37  41  43  47  53  59  61  67  71  73  79  83  89  97 "
     ]
    }
   ],
   "source": [
    "for i in range(2, 100+1):\n",
    "    if is_prime(i) == True:\n",
    "        print(\"{:^4}\".format(i), end='')"
   ]
  },
  {
   "cell_type": "code",
   "execution_count": 24,
   "metadata": {},
   "outputs": [
    {
     "name": "stdout",
     "output_type": "stream",
     "text": [
      " 2   3   5   7   11  13  17  19  23  29  31  37  41  43  47  53  59  61  67  71  73  79  83  89  97 "
     ]
    }
   ],
   "source": [
    "for i in range(2, 100+1):\n",
    "    if is_prime(i):\n",
    "        print(\"{:^4}\".format(i), end='')"
   ]
  },
  {
   "cell_type": "markdown",
   "metadata": {},
   "source": [
    "案例6-2-2"
   ]
  },
  {
   "cell_type": "code",
   "execution_count": 25,
   "metadata": {},
   "outputs": [],
   "source": [
    "def is_prime(n):\n",
    "    for i in range(2, n):\n",
    "        if n%i == 0:\n",
    "            return False\n",
    "    else:\n",
    "        return True"
   ]
  },
  {
   "cell_type": "code",
   "execution_count": 26,
   "metadata": {},
   "outputs": [
    {
     "name": "stdout",
     "output_type": "stream",
     "text": [
      "( 3  , 5  )\n",
      "( 5  , 7  )\n",
      "( 11 , 13 )\n",
      "( 17 , 19 )\n",
      "( 29 , 31 )\n",
      "( 41 , 43 )\n",
      "( 59 , 61 )\n",
      "( 71 , 73 )\n"
     ]
    }
   ],
   "source": [
    "for i in range(2,100+1):\n",
    "    if is_prime(i) and is_prime(i+2):\n",
    "        print(\"({:^4},{:^4})\".format(i, i+2))"
   ]
  },
  {
   "cell_type": "markdown",
   "metadata": {},
   "source": [
    "案例6-2-3"
   ]
  },
  {
   "cell_type": "code",
   "execution_count": 27,
   "metadata": {},
   "outputs": [],
   "source": [
    "def is_prime(n):\n",
    "    for i in range(2, n):\n",
    "        if n%i == 0:\n",
    "            return False\n",
    "    else:\n",
    "        return True"
   ]
  },
  {
   "cell_type": "code",
   "execution_count": 28,
   "metadata": {
    "code_folding": []
   },
   "outputs": [],
   "source": [
    "def is_prime(n, one_is_prime=False):\n",
    "    if n == 1:\n",
    "        if one_is_prime:\n",
    "            return True\n",
    "        else:\n",
    "            return False\n",
    "    for i in range(2, n):\n",
    "        if n%i == 0:\n",
    "            return False\n",
    "    else:\n",
    "        return True"
   ]
  },
  {
   "cell_type": "code",
   "execution_count": 29,
   "metadata": {},
   "outputs": [
    {
     "data": {
      "text/plain": [
       "True"
      ]
     },
     "execution_count": 29,
     "metadata": {},
     "output_type": "execute_result"
    }
   ],
   "source": [
    "is_prime(1, one_is_prime=True)"
   ]
  },
  {
   "cell_type": "code",
   "execution_count": 30,
   "metadata": {},
   "outputs": [
    {
     "name": "stdout",
     "output_type": "stream",
     "text": [
      " 4  = 2  + 2  \n",
      " 5  = 2  + 3  \n",
      " 6  = 3  + 3  \n",
      " 7  = 2  + 5  \n",
      " 8  = 3  + 5  \n",
      " 9  = 2  + 7  \n",
      " 10 = 3  + 7  \n",
      " 12 = 5  + 7  \n",
      " 13 = 2  + 11 \n",
      " 14 = 3  + 11 \n",
      " 15 = 2  + 13 \n",
      " 16 = 3  + 13 \n",
      " 18 = 5  + 13 \n",
      " 19 = 2  + 17 \n",
      " 20 = 3  + 17 \n"
     ]
    }
   ],
   "source": [
    "for i in range(4, 20+1):\n",
    "    for j in range(2, i):\n",
    "        if is_prime(j) and is_prime(i-j):\n",
    "            print(\"{:^4}={:^4}+{:^4}\".format(i, j, i-j))\n",
    "            break     # 只要找到一种分解方式就可以退出循环了"
   ]
  },
  {
   "cell_type": "markdown",
   "metadata": {},
   "source": [
    "案例6-3"
   ]
  },
  {
   "cell_type": "markdown",
   "metadata": {},
   "source": [
    "+ 按位置匹配的参数（positional arguments）"
   ]
  },
  {
   "cell_type": "code",
   "execution_count": 31,
   "metadata": {},
   "outputs": [],
   "source": [
    "def mySum1(mid_score,end_score, rate = 0.4):  # 默认权重为0.4\n",
    "    score = mid_score * rate + end_score * (1 - rate)\n",
    "    return score"
   ]
  },
  {
   "cell_type": "code",
   "execution_count": 32,
   "metadata": {},
   "outputs": [
    {
     "name": "stdout",
     "output_type": "stream",
     "text": [
      "总评成绩：91.00\n",
      "总评成绩：90.50\n",
      "总评成绩：74.80\n"
     ]
    }
   ],
   "source": [
    "print(\"总评成绩：{:.2f}\".format(mySum1(88, 93)))       # 权重0.4\n",
    "print(\"总评成绩：{:.2f}\".format(mySum1(88, 93, 0.5)))  # 权重0.5\n",
    "print(\"总评成绩：{:.2f}\".format(mySum1(62, 78, 0.2)))  # 权重0.6"
   ]
  },
  {
   "cell_type": "markdown",
   "metadata": {},
   "source": [
    "案例6-4"
   ]
  },
  {
   "cell_type": "code",
   "execution_count": 33,
   "metadata": {
    "scrolled": true
   },
   "outputs": [
    {
     "name": "stdout",
     "output_type": "stream",
     "text": [
      "1\n"
     ]
    }
   ],
   "source": [
    "print(1)"
   ]
  },
  {
   "cell_type": "code",
   "execution_count": 34,
   "metadata": {},
   "outputs": [
    {
     "name": "stdout",
     "output_type": "stream",
     "text": [
      "1,2,3\n",
      "4,5,6\n",
      "7,8,9\n"
     ]
    }
   ],
   "source": [
    "for i in range(1, 10):\n",
    "#     if i % 3 !=0:\n",
    "#         _end = ',' \n",
    "#     else:\n",
    "#         _end = '\\n'\n",
    "    _end = ',' if i % 3 !=0 else '\\n'\n",
    "    print(i, end=_end)"
   ]
  },
  {
   "cell_type": "code",
   "execution_count": 35,
   "metadata": {},
   "outputs": [
    {
     "name": "stdout",
     "output_type": "stream",
     "text": [
      "1 2 3\n"
     ]
    }
   ],
   "source": [
    "print(1,2,3)"
   ]
  },
  {
   "cell_type": "code",
   "execution_count": 36,
   "metadata": {},
   "outputs": [
    {
     "name": "stdout",
     "output_type": "stream",
     "text": [
      "1 2 3 4 5 6 7\n"
     ]
    }
   ],
   "source": [
    "print(1,2,3,4,5,6,7)"
   ]
  },
  {
   "cell_type": "code",
   "execution_count": 37,
   "metadata": {},
   "outputs": [
    {
     "data": {
      "text/plain": [
       "21"
      ]
     },
     "execution_count": 37,
     "metadata": {},
     "output_type": "execute_result"
    }
   ],
   "source": [
    "sum([1,2,3,4,5,6])"
   ]
  },
  {
   "cell_type": "markdown",
   "metadata": {},
   "source": [
    "+ 按关键字匹配的参数（keyword arguments）"
   ]
  },
  {
   "cell_type": "code",
   "execution_count": 38,
   "metadata": {},
   "outputs": [],
   "source": [
    "def mySum1(mid_score,end_score, rate = 0.4):\n",
    "    score = mid_score * rate + end_score * (1 - rate)\n",
    "    return score"
   ]
  },
  {
   "cell_type": "code",
   "execution_count": 39,
   "metadata": {},
   "outputs": [
    {
     "name": "stdout",
     "output_type": "stream",
     "text": [
      "91.0\n",
      "90.5\n",
      "90.5\n"
     ]
    }
   ],
   "source": [
    "print(mySum1(88, 93))\n",
    "print(mySum1(mid_score = 88, end_score = 93, rate = 0.5))\n",
    "print(mySum1(rate = 0.5, end_score = 93, mid_score = 88))"
   ]
  },
  {
   "cell_type": "code",
   "execution_count": 40,
   "metadata": {},
   "outputs": [],
   "source": [
    "def mySum1(mid_score=100,end_score=100, rate = 0.4):  # 默认权重为0.4\n",
    "    score = mid_score * rate + end_score * (1 - rate)\n",
    "    return score"
   ]
  },
  {
   "cell_type": "code",
   "execution_count": 41,
   "metadata": {},
   "outputs": [
    {
     "data": {
      "text/plain": [
       "94.0"
      ]
     },
     "execution_count": 41,
     "metadata": {},
     "output_type": "execute_result"
    }
   ],
   "source": [
    "mySum1(end_score=90)"
   ]
  },
  {
   "cell_type": "markdown",
   "metadata": {},
   "source": [
    "可变数量的参数"
   ]
  },
  {
   "cell_type": "markdown",
   "metadata": {},
   "source": [
    "案例6-6"
   ]
  },
  {
   "cell_type": "code",
   "execution_count": 42,
   "metadata": {},
   "outputs": [],
   "source": [
    "def commonMultiple(*c):    # c为可变参数\n",
    "#     print(c)\n",
    "    for i in c:\n",
    "        print(\"{:^4}\".format(i), end='')\n",
    "    return len(c)"
   ]
  },
  {
   "cell_type": "code",
   "execution_count": 43,
   "metadata": {},
   "outputs": [
    {
     "name": "stdout",
     "output_type": "stream",
     "text": [
      " 李白  杜甫 共2人\n",
      " 李白  杜甫  王维  袁枚 共4人\n"
     ]
    }
   ],
   "source": [
    "count = commonMultiple(\"李白\", \"杜甫\")\n",
    "print(\"共{}人\".format(count))\n",
    "count = commonMultiple(\"李白\", \"杜甫\", \"王维\", \"袁枚\")\n",
    "print(\"共{}人\".format(count))"
   ]
  },
  {
   "cell_type": "markdown",
   "metadata": {},
   "source": [
    "案例6-7"
   ]
  },
  {
   "cell_type": "code",
   "execution_count": 66,
   "metadata": {},
   "outputs": [],
   "source": [
    "def commonMultiple(**d):    # d为可变参数\n",
    "    total = 0\n",
    "    print(d)\n",
    "    for key in d:\n",
    "        total += d[key]\n",
    "    return total"
   ]
  },
  {
   "cell_type": "code",
   "execution_count": 67,
   "metadata": {},
   "outputs": [
    {
     "name": "stdout",
     "output_type": "stream",
     "text": [
      "{'group1': 5, 'group2': 20, 'group3': 14, 'group4': 22}\n"
     ]
    },
    {
     "data": {
      "text/plain": [
       "61"
      ]
     },
     "execution_count": 67,
     "metadata": {},
     "output_type": "execute_result"
    }
   ],
   "source": [
    "commonMultiple(group1=5, group2=20, group3=14, group4=22)"
   ]
  },
  {
   "cell_type": "code",
   "execution_count": 68,
   "metadata": {},
   "outputs": [],
   "source": [
    "kwargs = {'group1': 5, 'group2': 20, 'group3': 14, 'group4': 22}\n",
    "# commonMultiple(group1=kwargs['group1'], group2=kwargs['group2'], ...)"
   ]
  },
  {
   "cell_type": "code",
   "execution_count": 69,
   "metadata": {},
   "outputs": [
    {
     "name": "stdout",
     "output_type": "stream",
     "text": [
      "{'group1': 5, 'group2': 20, 'group3': 14, 'group4': 22}\n"
     ]
    },
    {
     "data": {
      "text/plain": [
       "61"
      ]
     },
     "execution_count": 69,
     "metadata": {},
     "output_type": "execute_result"
    }
   ],
   "source": [
    "commonMultiple(**kwargs)"
   ]
  },
  {
   "cell_type": "code",
   "execution_count": 46,
   "metadata": {},
   "outputs": [
    {
     "name": "stdout",
     "output_type": "stream",
     "text": [
      "{'group1': 5, 'group2': 20, 'group3': 14, 'group4': 22}\n",
      "61\n",
      "{'male': 5, 'female': 12}\n",
      "17\n"
     ]
    }
   ],
   "source": [
    "print(commonMultiple(group1=5, group2=20, group3=14, group4=22))\n",
    "print(commonMultiple(male=5, female=12))"
   ]
  },
  {
   "cell_type": "markdown",
   "metadata": {},
   "source": [
    "案例6-8"
   ]
  },
  {
   "cell_type": "code",
   "execution_count": null,
   "metadata": {},
   "outputs": [],
   "source": [
    "def addInterest(money, rate):\n",
    "    money = money * (1 + rate)\n",
    "    return money"
   ]
  },
  {
   "cell_type": "code",
   "execution_count": null,
   "metadata": {},
   "outputs": [],
   "source": [
    "amount=1000\n",
    "rate=0.05\n",
    "amount=addInterest(amount,rate)\n",
    "print(\"amount=\",amount)"
   ]
  },
  {
   "cell_type": "markdown",
   "metadata": {},
   "source": [
    "案例6-9"
   ]
  },
  {
   "cell_type": "code",
   "execution_count": null,
   "metadata": {},
   "outputs": [],
   "source": [
    "def addInterest(money, rate):\n",
    "    for i in range(len(money)):\n",
    "        money[i] = money[i] * (1 + rate)"
   ]
  },
  {
   "cell_type": "code",
   "execution_count": null,
   "metadata": {},
   "outputs": [],
   "source": [
    "amount = [1200,1400,800,650,1600]\n",
    "rate = 0.05\n",
    "addInterest(amount, rate)\n",
    "print(\"amount:\", amount)"
   ]
  },
  {
   "cell_type": "markdown",
   "metadata": {},
   "source": [
    "案例6-10"
   ]
  },
  {
   "cell_type": "code",
   "execution_count": null,
   "metadata": {},
   "outputs": [],
   "source": [
    "def fun(a, b):    \n",
    "    return (a, b, a//b, a%b)"
   ]
  },
  {
   "cell_type": "code",
   "execution_count": null,
   "metadata": {},
   "outputs": [],
   "source": [
    "n1, n2, m, d = fun(6, 4);\n",
    "print(\"两个整数是：{}和{}\".format(n1, n2))\n",
    "print(\"它们的商是：\", m)\n",
    "print(\"余数是：\", d)"
   ]
  },
  {
   "cell_type": "markdown",
   "metadata": {},
   "source": [
    "# lambda()函数"
   ]
  },
  {
   "cell_type": "markdown",
   "metadata": {},
   "source": [
    "案例6-11"
   ]
  },
  {
   "cell_type": "code",
   "execution_count": null,
   "metadata": {},
   "outputs": [],
   "source": [
    "f = lambda x: x<0\n",
    "_list = [3, 5, -7, 4, -1, 0, -9]\n",
    "for i in filter(f, _list):\n",
    "    print(i)"
   ]
  },
  {
   "cell_type": "markdown",
   "metadata": {},
   "source": [
    "案例6-12"
   ]
  },
  {
   "cell_type": "code",
   "execution_count": null,
   "metadata": {},
   "outputs": [],
   "source": [
    "dict_data = {\"化1704\":33, \"化1702\":28, \"化1701\":34, \"化1703\":30}\n",
    "print(sorted(dict_data))           # 按键排序，输出键值\n",
    "print(sorted(dict_data.items()))  # 按键排序，输出键值对\n",
    "print(sorted(dict_data.items(),key = lambda x:x[1]))  \n",
    "# 按值排序，输出键值对\n",
    "print(sorted(dict_data.items(),key = lambda x:x[1]%10))  \n",
    "# 按值的个位数排序，输出键值对"
   ]
  },
  {
   "cell_type": "markdown",
   "metadata": {},
   "source": [
    "# 变量的作用域"
   ]
  },
  {
   "cell_type": "code",
   "execution_count": 6,
   "metadata": {},
   "outputs": [],
   "source": [
    "y = 0"
   ]
  },
  {
   "cell_type": "code",
   "execution_count": 8,
   "metadata": {},
   "outputs": [],
   "source": [
    "def f1():\n",
    "    x = 2\n",
    "    def f2():\n",
    "        global y\n",
    "        y = y+x\n",
    "        print('y: ', y)\n",
    "        return y*y\n",
    "    y = f2()*f2()\n",
    "    return y"
   ]
  },
  {
   "cell_type": "code",
   "execution_count": 9,
   "metadata": {},
   "outputs": [
    {
     "name": "stdout",
     "output_type": "stream",
     "text": [
      "y:  2\n",
      "y:  4\n"
     ]
    },
    {
     "data": {
      "text/plain": [
       "64"
      ]
     },
     "execution_count": 9,
     "metadata": {},
     "output_type": "execute_result"
    }
   ],
   "source": [
    "x = 5\n",
    "f1()"
   ]
  },
  {
   "cell_type": "code",
   "execution_count": null,
   "metadata": {},
   "outputs": [],
   "source": [
    "y=3\n",
    "y=3"
   ]
  },
  {
   "cell_type": "code",
   "execution_count": 6,
   "metadata": {},
   "outputs": [
    {
     "data": {
      "text/plain": [
       "3"
      ]
     },
     "execution_count": 6,
     "metadata": {},
     "output_type": "execute_result"
    }
   ],
   "source": [
    "y"
   ]
  },
  {
   "cell_type": "code",
   "execution_count": 13,
   "metadata": {},
   "outputs": [
    {
     "data": {
      "text/plain": [
       "5"
      ]
     },
     "execution_count": 13,
     "metadata": {},
     "output_type": "execute_result"
    }
   ],
   "source": [
    "x"
   ]
  },
  {
   "cell_type": "markdown",
   "metadata": {},
   "source": [
    "# 递归函数"
   ]
  },
  {
   "cell_type": "markdown",
   "metadata": {},
   "source": [
    "案例6-13"
   ]
  },
  {
   "cell_type": "code",
   "execution_count": null,
   "metadata": {},
   "outputs": [],
   "source": [
    "def fact(n):\n",
    "    if n == 1: return 1\n",
    "    else: return n * fact(n-1)"
   ]
  },
  {
   "cell_type": "code",
   "execution_count": null,
   "metadata": {},
   "outputs": [],
   "source": [
    "for i in range(1, 9+1):        # 输出1—9的阶乘\n",
    "    print(\"{}! =\".format(i), fact(i))"
   ]
  },
  {
   "cell_type": "markdown",
   "metadata": {},
   "source": [
    "案例6-14"
   ]
  },
  {
   "cell_type": "code",
   "execution_count": null,
   "metadata": {},
   "outputs": [],
   "source": [
    "def fibo(n):\n",
    "    if n == 1 or n == 2: return 1\n",
    "    else: return fibo(n-1) + fibo(n-2)"
   ]
  },
  {
   "cell_type": "code",
   "execution_count": null,
   "metadata": {},
   "outputs": [],
   "source": [
    "for i in range(1, 20+1):\n",
    "    print(\"{:>8}\".format(fibo(i)), end=\"  \" if i%5!=0 else \"\\n\")"
   ]
  },
  {
   "cell_type": "markdown",
   "metadata": {},
   "source": [
    "案例6-15"
   ]
  },
  {
   "cell_type": "code",
   "execution_count": 10,
   "metadata": {},
   "outputs": [],
   "source": [
    "def gcd(a, b):\n",
    "    if b == 0 : \n",
    "        return a\n",
    "    else:\n",
    "        print(f\"arg a={b}, arg b={a%b}\")\n",
    "        return gcd(b, a % b)"
   ]
  },
  {
   "cell_type": "code",
   "execution_count": 11,
   "metadata": {},
   "outputs": [
    {
     "name": "stdout",
     "output_type": "stream",
     "text": [
      "arg a=24, arg b=12\n",
      "arg a=12, arg b=0\n",
      "gcd(12, 24) =  12\n"
     ]
    }
   ],
   "source": [
    "print(\"gcd(12, 24) = \", gcd(12, 24))"
   ]
  },
  {
   "cell_type": "code",
   "execution_count": null,
   "metadata": {},
   "outputs": [],
   "source": [
    "print(\"gcd(48, 24) = \", gcd(48, 24))\n",
    "print(\"gcd(15, 11) = \", gcd(15, 11))\n",
    "print(\"gcd(15, 35) = \", gcd(15, 35))"
   ]
  },
  {
   "cell_type": "markdown",
   "metadata": {},
   "source": [
    "# 函数应用实例"
   ]
  },
  {
   "cell_type": "markdown",
   "metadata": {},
   "source": [
    "案例6-16"
   ]
  },
  {
   "cell_type": "code",
   "execution_count": 64,
   "metadata": {},
   "outputs": [],
   "source": [
    "def fun(*para):\n",
    "    avg = sum(para)/len(para)          # 平均值\n",
    "    g = [i for i in para if i>avg]     # 列表生成式\n",
    "    return (avg, g)"
   ]
  },
  {
   "cell_type": "code",
   "execution_count": 65,
   "metadata": {},
   "outputs": [
    {
     "data": {
      "text/plain": [
       "(3.0, [6])"
      ]
     },
     "execution_count": 65,
     "metadata": {},
     "output_type": "execute_result"
    }
   ],
   "source": [
    "fun(1,2,3,6)"
   ]
  },
  {
   "cell_type": "code",
   "execution_count": null,
   "metadata": {},
   "outputs": [],
   "source": [
    "lst = [1,2,3,6]\n",
    "fun(*lst)"
   ]
  },
  {
   "cell_type": "code",
   "execution_count": 14,
   "metadata": {},
   "outputs": [
    {
     "data": {
      "text/plain": [
       "[3]"
      ]
     },
     "execution_count": 14,
     "metadata": {},
     "output_type": "execute_result"
    }
   ],
   "source": [
    "\n",
    "para = [1,2,3]\n",
    "avg = 2\n",
    "\n",
    "\n",
    "lst = []\n",
    "for i in para:\n",
    "    if i > avg:\n",
    "        lst.append(i)\n",
    "lst"
   ]
  },
  {
   "cell_type": "code",
   "execution_count": 16,
   "metadata": {},
   "outputs": [
    {
     "name": "stdout",
     "output_type": "stream",
     "text": [
      "平均值： 1.07\n",
      "大于均值的数： [6.7, 2.4, 2.15]\n"
     ]
    }
   ],
   "source": [
    "m, l = fun(6.7, 2.4, -0.1, 2.15, -5.8)\n",
    "print(\"平均值：\", m)\n",
    "print(\"大于均值的数：\", l)"
   ]
  },
  {
   "cell_type": "markdown",
   "metadata": {},
   "source": [
    "案例6-17"
   ]
  },
  {
   "cell_type": "code",
   "execution_count": 22,
   "metadata": {},
   "outputs": [],
   "source": [
    "def fun(s):\n",
    "    lst = s.split()                         # 将短语拆分成单词\n",
    "    return ''.join([x[0].upper() for x in lst])    # 生成单词首字母大写列表"
   ]
  },
  {
   "cell_type": "code",
   "execution_count": 21,
   "metadata": {},
   "outputs": [
    {
     "data": {
      "text/plain": [
       "'VIP'"
      ]
     },
     "execution_count": 21,
     "metadata": {},
     "output_type": "execute_result"
    }
   ],
   "source": [
    "s = 'very important person'\n",
    "''.join(fun(s))"
   ]
  },
  {
   "cell_type": "code",
   "execution_count": 24,
   "metadata": {},
   "outputs": [
    {
     "name": "stdout",
     "output_type": "stream",
     "text": [
      "输入短语：a b vvv\n",
      "ABV\n"
     ]
    }
   ],
   "source": [
    "s = input(\"输入短语：\")\n",
    "\n",
    "print(fun(s))"
   ]
  },
  {
   "cell_type": "markdown",
   "metadata": {},
   "source": [
    "案例6-18"
   ]
  },
  {
   "cell_type": "code",
   "execution_count": 29,
   "metadata": {},
   "outputs": [],
   "source": [
    "def _rate(origin,userInput):\n",
    "    right = 0\n",
    "    for origin_char,user_char in zip(origin,userInput):\n",
    "        if origin_char == user_char:\n",
    "            right += 1;\n",
    "    return right/len(origin)"
   ]
  },
  {
   "cell_type": "code",
   "execution_count": 33,
   "metadata": {},
   "outputs": [],
   "source": [
    "# for char in origin:\n",
    "#     print(char)"
   ]
  },
  {
   "cell_type": "code",
   "execution_count": 30,
   "metadata": {},
   "outputs": [],
   "source": [
    "def rate(origin,userInput):\n",
    "    right = 0\n",
    "    for i in range(len(origin)):\n",
    "        if origin[i] == userInput[i]:\n",
    "            right += 1            \n",
    "    return right/len(origin)"
   ]
  },
  {
   "cell_type": "code",
   "execution_count": 31,
   "metadata": {},
   "outputs": [
    {
     "name": "stdout",
     "output_type": "stream",
     "text": [
      "Your smile will make my whole world bright.\n",
      "准确率为：93.02%\n"
     ]
    }
   ],
   "source": [
    "origin = 'Your smile will make my whole world bright.'\n",
    "print(origin)\n",
    "# userInput = input(\"输入：\")\n",
    "userInput = 'Your smile will maje mP whole World bright.'\n",
    "if len(origin) != len(userInput):\n",
    "    print(\"字符串长度不一致，请重新输入\")\n",
    "else:\n",
    "    print(\"准确率为：{:.2%}\".format(_rate(origin,userInput)))"
   ]
  },
  {
   "cell_type": "code",
   "execution_count": 38,
   "metadata": {},
   "outputs": [
    {
     "data": {
      "text/plain": [
       "'Your smile will make my whole world bright.'"
      ]
     },
     "execution_count": 38,
     "metadata": {},
     "output_type": "execute_result"
    }
   ],
   "source": [
    "ab = list(zip(origin,userInput))\n",
    "a, b = zip(*ab)\n",
    "''.join(a)"
   ]
  },
  {
   "cell_type": "code",
   "execution_count": null,
   "metadata": {},
   "outputs": [],
   "source": [
    "escape"
   ]
  },
  {
   "cell_type": "markdown",
   "metadata": {},
   "source": [
    "案例6-19"
   ]
  },
  {
   "cell_type": "code",
   "execution_count": 57,
   "metadata": {},
   "outputs": [],
   "source": [
    "text='''\n",
    "I 'have' a dream today!I have a dream that one day every\n",
    "valley shall be exalted, and every hill and mountain shall\n",
    "be made low, the rough places will be made plain, and the\n",
    "crooked places will be made straight; \"and the glory of the\n",
    "Lord shall be revealed and all flesh shall see it together.\"\n",
    "This is our hope, and this is the faith that I go back to the\n",
    "South with.With this faith, we will be able to hew out of the\n",
    "mountain of despair a stone of hope. With this faith, we will\n",
    "be able to transform the jangling discords of our nation into\n",
    "a beautiful symphony of brotherhood. With this faith, we will\n",
    "be able to work together, to pray together, to struggle\n",
    "together, to go to jail together, to stand up for freedom\n",
    "together, knowing that we will be free one day. '''"
   ]
  },
  {
   "cell_type": "code",
   "execution_count": 58,
   "metadata": {},
   "outputs": [],
   "source": [
    "# text = 'I \"have\" a dream today!'"
   ]
  },
  {
   "cell_type": "code",
   "execution_count": 59,
   "metadata": {},
   "outputs": [],
   "source": [
    "def getText(text):\n",
    "    text = text.lower()                 # 将文本中字母全变为小写\n",
    "    for ch in \",.;?-:\\\"\":\n",
    "        text = text.replace(ch, \" \")   # 将文本中的标点符号替换为空格\n",
    "    return text"
   ]
  },
  {
   "cell_type": "code",
   "execution_count": 60,
   "metadata": {},
   "outputs": [
    {
     "name": "stdout",
     "output_type": "stream",
     "text": [
      "\n",
      "i 'have' a dream today!i have a dream that one day every\n",
      "valley shall be exalted  and every hill and mountain shall\n",
      "be made low  the rough places will be made plain  and the\n",
      "crooked places will be made straight   and the glory of the\n",
      "lord shall be revealed and all flesh shall see it together  \n",
      "this is our hope  and this is the faith that i go back to the\n",
      "south with with this faith  we will be able to hew out of the\n",
      "mountain of despair a stone of hope  with this faith  we will\n",
      "be able to transform the jangling discords of our nation into\n",
      "a beautiful symphony of brotherhood  with this faith  we will\n",
      "be able to work together  to pray together  to struggle\n",
      "together  to go to jail together  to stand up for freedom\n",
      "together  knowing that we will be free one day  \n"
     ]
    }
   ],
   "source": [
    "text = getText(text)\n",
    "print(text)"
   ]
  },
  {
   "cell_type": "code",
   "execution_count": 62,
   "metadata": {},
   "outputs": [],
   "source": [
    "def wordFreq(text,topn):  \n",
    "# text为待统计文本，topn表示取频率最高的单词个数\n",
    "    words  = text.split()    # 将文本分词\n",
    "    counts = {}\n",
    "    for word in words:\n",
    "        counts[word] = counts.get(word,0) + 1\n",
    "# 若该单词在字典中已经存在，则在原计数上加1，若该单词还未统计，则计数为1\n",
    "    excludes = {'the','and','to','of','a','be'}\n",
    "# 定义集合存放需要去除的无意义单词\n",
    "    for word in excludes:\n",
    "        del(counts[word])    # 在字典中删除无意义单词\n",
    "    items = list(counts.items())  # 将字典转换为列表，以方便排序\n",
    "    items.sort(key=lambda x:x[1], reverse=True)\n",
    "# 按照单词频率计数的逆序排序\n",
    "    return items[:topn]  # 返回出现频率前topn的单词和频率计数值"
   ]
  },
  {
   "cell_type": "code",
   "execution_count": 63,
   "metadata": {},
   "outputs": [
    {
     "name": "stdout",
     "output_type": "stream",
     "text": [
      "will      6\n",
      "together  6\n",
      "this      5\n",
      "shall     4\n",
      "faith     4\n",
      "with      4\n",
      "we        4\n",
      "that      3\n",
      "made      3\n",
      "able      3\n",
      "i         2\n",
      "dream     2\n",
      "one       2\n",
      "day       2\n",
      "every     2\n",
      "mountain  2\n",
      "places    2\n",
      "is        2\n",
      "our       2\n",
      "hope      2\n",
      "统计结束\n"
     ]
    }
   ],
   "source": [
    "text = getText(text)\n",
    "for word,freq in wordFreq(text, 20):\n",
    "    print(\"{:<10}{:>}\".format(word, freq))\n",
    "print('统计结束')"
   ]
  },
  {
   "cell_type": "markdown",
   "metadata": {},
   "source": [
    "# 补充案例 - 汉诺塔"
   ]
  },
  {
   "cell_type": "markdown",
   "metadata": {},
   "source": [
    "https://www.mathsisfun.com/games/towerofhanoi.html"
   ]
  },
  {
   "attachments": {
    "ss-2.png": {
     "image/png": "[encoded data removed]"
    }
   },
   "cell_type": "markdown",
   "metadata": {},
   "source": [
    "<div><img src=\"attachment:ss-2.png\" width=\"1000\"></div>"
   ]
  },
  {
   "cell_type": "markdown",
   "metadata": {},
   "source": [
    "汉诺塔益智游戏问题很容易使用递归函数实现。假设柱子的编号为a、b、c，定义函数hanoi（n，a，b，c）表示把n个圆盘从柱子a移到柱子c（可以经由柱子b），则有：\n",
    "\n",
    "1. 终止条件。当n==1时，hanoi（n，a，b，c）为终止条件。即如果柱子a上只有一个圆盘，则可以直接将其移动到柱子c上。\n",
    "2. 递归步骤。hanoi（n，a，b，c）可以分解为3个步骤，即hanoi（n-1，a，c，b）、hanoi（1，a，b，c）和hanoi（n-1，b，a，c）。\n",
    "  1. 如果柱子a上有n个圆盘，可以看成柱子a上有一个圆盘（底盘）和（n-1）个圆盘，首先需要把柱子a上面的（n-1）个圆盘移动到柱子b，即调用hanoi（n-1，a，c，b）；\n",
    "  2. 然后把柱子a上的最后一个圆盘移动到柱子c，即调用hanoi（1，a，b，c）\n",
    "  3. 再将柱子b上的（n-1）个圆盘移动到柱子c，即调用hanoi（n-1，b，a，c）\n",
    "  \n",
    "如何设计一个递归函数，能够可视化整个移动的流程？"
   ]
  },
  {
   "cell_type": "code",
   "execution_count": 43,
   "metadata": {},
   "outputs": [],
   "source": [
    "def hanoi(n, _from, _aux, _to):\n",
    "    if n == 1: print(_from, '->', _to)\n",
    "    else:\n",
    "        hanoi(n-1, _from=_from, _aux=_to, _to=_aux)\n",
    "        hanoi(1, _from=_from, _aux=_aux, _to=_to)\n",
    "        hanoi(n-1, _from=_aux, _aux=_from, _to=_to)"
   ]
  },
  {
   "cell_type": "code",
   "execution_count": 44,
   "metadata": {},
   "outputs": [
    {
     "name": "stdout",
     "output_type": "stream",
     "text": [
      "a -> b\n",
      "a -> c\n",
      "b -> c\n",
      "a -> b\n",
      "c -> a\n",
      "c -> b\n",
      "a -> b\n",
      "a -> c\n",
      "b -> c\n",
      "b -> a\n",
      "c -> a\n",
      "b -> c\n",
      "a -> b\n",
      "a -> c\n",
      "b -> c\n"
     ]
    }
   ],
   "source": [
    "hanoi(4, 'a', 'b', 'c')"
   ]
  },
  {
   "cell_type": "markdown",
   "metadata": {},
   "source": [
    "如何可视化整个移动的流程？"
   ]
  },
  {
   "cell_type": "code",
   "execution_count": 26,
   "metadata": {},
   "outputs": [],
   "source": [
    "from copy import deepcopy"
   ]
  },
  {
   "cell_type": "markdown",
   "metadata": {},
   "source": [
    "指定全局参数"
   ]
  },
  {
   "cell_type": "code",
   "execution_count": 27,
   "metadata": {},
   "outputs": [],
   "source": [
    "# number of disks to move\n",
    "n = 4\n",
    "# arguments for visulation\n",
    "tower_width = n+4\n",
    "sep = ' | '"
   ]
  },
  {
   "cell_type": "markdown",
   "metadata": {},
   "source": [
    "指定初始状态"
   ]
  },
  {
   "cell_type": "code",
   "execution_count": 28,
   "metadata": {},
   "outputs": [
    {
     "data": {
      "text/plain": [
       "{1: 'A', 2: 'A', 3: 'A', 4: 'A'}"
      ]
     },
     "execution_count": 28,
     "metadata": {},
     "output_type": "execute_result"
    }
   ],
   "source": [
    "disk2tower_d = {\n",
    "   disk_id: 'A' for disk_id in range(1,n+1)\n",
    "}\n",
    "disk2tower_d"
   ]
  },
  {
   "cell_type": "markdown",
   "metadata": {},
   "source": [
    "恰当的数据结构来记录当前的移动状态"
   ]
  },
  {
   "cell_type": "code",
   "execution_count": 29,
   "metadata": {},
   "outputs": [
    {
     "data": {
      "text/plain": [
       "{'A': [1, 2, 3, 4], 'B': [], 'C': []}"
      ]
     },
     "execution_count": 29,
     "metadata": {},
     "output_type": "execute_result"
    }
   ],
   "source": [
    "towers = ['A', 'B', 'C']\n",
    "tower2disk_l = {\n",
    "   tower: [k for k, v in disk2tower_d.items() if v == tower] for tower in towers\n",
    "}\n",
    "tower2disk_l"
   ]
  },
  {
   "cell_type": "markdown",
   "metadata": {},
   "source": [
    "可视化的代码"
   ]
  },
  {
   "cell_type": "code",
   "execution_count": 30,
   "metadata": {},
   "outputs": [],
   "source": [
    "def visualize(tower2disk_l):\n",
    "    print(tower2disk_l)\n",
    "    tower2disk_l_tmp = deepcopy(tower2disk_l)\n",
    "    base = sep.join(['']+[f\"{tower:<{tower_width}}\" for tower in towers]+[''])\n",
    "    level_str_l = [base]\n",
    "    for level in range(n, 0, -1):\n",
    "        disk_str_l = ['']\n",
    "        for tower in towers:\n",
    "            disk_l = tower2disk_l_tmp[tower]\n",
    "            if len(disk_l) > 0:\n",
    "                which = disk_l.pop()\n",
    "                disk_str = '.'*which\n",
    "            else:\n",
    "                disk_str = ''\n",
    "            disk_str_l.append(f\"{disk_str:<{tower_width}}\")\n",
    "        disk_str_l.append('')\n",
    "        level_str_l.append(sep.join(disk_str_l))\n",
    "    #     break\n",
    "    level_str_l = level_str_l[::-1]\n",
    "    print('\\n'.join(level_str_l))"
   ]
  },
  {
   "cell_type": "code",
   "execution_count": 31,
   "metadata": {},
   "outputs": [
    {
     "name": "stdout",
     "output_type": "stream",
     "text": [
      "{'A': [1, 2, 3, 4], 'B': [], 'C': []}\n",
      " | .        |          |          | \n",
      " | ..       |          |          | \n",
      " | ...      |          |          | \n",
      " | ....     |          |          | \n",
      " | A        | B        | C        | \n"
     ]
    }
   ],
   "source": [
    "visualize(tower2disk_l)"
   ]
  },
  {
   "cell_type": "markdown",
   "metadata": {},
   "source": [
    "递归函数，递归的修改`tower2disk_l`，以表示移动过程，并且每移动一步就调用一次可视化函数"
   ]
  },
  {
   "cell_type": "code",
   "execution_count": 34,
   "metadata": {},
   "outputs": [],
   "source": [
    "def hanoi(n, _from, _mid, _to, tower2disk_l):\n",
    "    if n == 1:\n",
    "        disk = tower2disk_l[_from].pop(0)\n",
    "        tower2disk_l[_to].insert(0, disk)\n",
    "        visualize(tower2disk_l)\n",
    "    else:\n",
    "        hanoi(n-1, _from, _to, _mid, tower2disk_l)\n",
    "        hanoi(1, _from, _mid, _to, tower2disk_l)\n",
    "        hanoi(n-1, _mid, _from, _to, tower2disk_l)\n",
    "    "
   ]
  },
  {
   "cell_type": "code",
   "execution_count": 35,
   "metadata": {},
   "outputs": [
    {
     "name": "stdout",
     "output_type": "stream",
     "text": [
      "{'A': [2, 3, 4], 'B': [1], 'C': []}\n",
      " |          |          |          | \n",
      " | ..       |          |          | \n",
      " | ...      |          |          | \n",
      " | ....     | .        |          | \n",
      " | A        | B        | C        | \n",
      "{'A': [3, 4], 'B': [1], 'C': [2]}\n",
      " |          |          |          | \n",
      " |          |          |          | \n",
      " | ...      |          |          | \n",
      " | ....     | .        | ..       | \n",
      " | A        | B        | C        | \n",
      "{'A': [3, 4], 'B': [], 'C': [1, 2]}\n",
      " |          |          |          | \n",
      " |          |          |          | \n",
      " | ...      |          | .        | \n",
      " | ....     |          | ..       | \n",
      " | A        | B        | C        | \n",
      "{'A': [4], 'B': [3], 'C': [1, 2]}\n",
      " |          |          |          | \n",
      " |          |          |          | \n",
      " |          |          | .        | \n",
      " | ....     | ...      | ..       | \n",
      " | A        | B        | C        | \n",
      "{'A': [1, 4], 'B': [3], 'C': [2]}\n",
      " |          |          |          | \n",
      " |          |          |          | \n",
      " | .        |          |          | \n",
      " | ....     | ...      | ..       | \n",
      " | A        | B        | C        | \n",
      "{'A': [1, 4], 'B': [2, 3], 'C': []}\n",
      " |          |          |          | \n",
      " |          |          |          | \n",
      " | .        | ..       |          | \n",
      " | ....     | ...      |          | \n",
      " | A        | B        | C        | \n",
      "{'A': [4], 'B': [1, 2, 3], 'C': []}\n",
      " |          |          |          | \n",
      " |          | .        |          | \n",
      " |          | ..       |          | \n",
      " | ....     | ...      |          | \n",
      " | A        | B        | C        | \n",
      "{'A': [], 'B': [1, 2, 3], 'C': [4]}\n",
      " |          |          |          | \n",
      " |          | .        |          | \n",
      " |          | ..       |          | \n",
      " |          | ...      | ....     | \n",
      " | A        | B        | C        | \n",
      "{'A': [], 'B': [2, 3], 'C': [1, 4]}\n",
      " |          |          |          | \n",
      " |          |          |          | \n",
      " |          | ..       | .        | \n",
      " |          | ...      | ....     | \n",
      " | A        | B        | C        | \n",
      "{'A': [2], 'B': [3], 'C': [1, 4]}\n",
      " |          |          |          | \n",
      " |          |          |          | \n",
      " |          |          | .        | \n",
      " | ..       | ...      | ....     | \n",
      " | A        | B        | C        | \n",
      "{'A': [1, 2], 'B': [3], 'C': [4]}\n",
      " |          |          |          | \n",
      " |          |          |          | \n",
      " | .        |          |          | \n",
      " | ..       | ...      | ....     | \n",
      " | A        | B        | C        | \n",
      "{'A': [1, 2], 'B': [], 'C': [3, 4]}\n",
      " |          |          |          | \n",
      " |          |          |          | \n",
      " | .        |          | ...      | \n",
      " | ..       |          | ....     | \n",
      " | A        | B        | C        | \n",
      "{'A': [2], 'B': [1], 'C': [3, 4]}\n",
      " |          |          |          | \n",
      " |          |          |          | \n",
      " |          |          | ...      | \n",
      " | ..       | .        | ....     | \n",
      " | A        | B        | C        | \n",
      "{'A': [], 'B': [1], 'C': [2, 3, 4]}\n",
      " |          |          |          | \n",
      " |          |          | ..       | \n",
      " |          |          | ...      | \n",
      " |          | .        | ....     | \n",
      " | A        | B        | C        | \n",
      "{'A': [], 'B': [], 'C': [1, 2, 3, 4]}\n",
      " |          |          | .        | \n",
      " |          |          | ..       | \n",
      " |          |          | ...      | \n",
      " |          |          | ....     | \n",
      " | A        | B        | C        | \n"
     ]
    }
   ],
   "source": [
    "hanoi(n, 'A','B','C', deepcopy(tower2disk_l))"
   ]
  },
  {
   "cell_type": "markdown",
   "metadata": {},
   "source": [
    "让函数进一步输出当前正在执行哪个目标，针对这个目标具体在执行哪一步"
   ]
  },
  {
   "cell_type": "code",
   "execution_count": 41,
   "metadata": {},
   "outputs": [],
   "source": [
    "def hanoi(n, _from, _mid, _to, tower2disk_l, depth=[]):\n",
    "    if n == 1:\n",
    "        disk = tower2disk_l[_from].pop(0)\n",
    "        tower2disk_l[_to].insert(0, disk)\n",
    "        visualize(tower2disk_l)\n",
    "    else:\n",
    "        depth += [len(depth)]\n",
    "        _depth = deepcopy(depth)\n",
    "        print(f\"step 1 at depth {depth}\")\n",
    "        print(f\"move {n-1} disks from tower {_from} to tower {_mid}\")\n",
    "        hanoi(n-1, _from, _to, _mid, tower2disk_l, _depth)\n",
    "        print(f\"step 2 at depth {depth}\")\n",
    "        print(f\"move {1} disks from tower {_from} to tower {_to}\")\n",
    "        hanoi(1, _from, _mid, _to, tower2disk_l, _depth)\n",
    "        print(f\"step 3 at depth {depth}\")\n",
    "        print(f\"move {n-1} disks from tower {_mid} to tower {_to}\")\n",
    "        hanoi(n-1, _mid, _from, _to, tower2disk_l, _depth)\n",
    "    "
   ]
  },
  {
   "cell_type": "code",
   "execution_count": 42,
   "metadata": {
    "scrolled": false
   },
   "outputs": [
    {
     "name": "stdout",
     "output_type": "stream",
     "text": [
      "step 1 at depth [0]\n",
      "move 3 disks from tower A to tower B\n",
      "step 1 at depth [0, 1]\n",
      "move 2 disks from tower A to tower C\n",
      "step 1 at depth [0, 1, 2]\n",
      "move 1 disks from tower A to tower B\n",
      "{'A': [2, 3, 4], 'B': [1], 'C': []}\n",
      " |          |          |          | \n",
      " | ..       |          |          | \n",
      " | ...      |          |          | \n",
      " | ....     | .        |          | \n",
      " | A        | B        | C        | \n",
      "step 2 at depth [0, 1, 2]\n",
      "move 1 disks from tower A to tower C\n",
      "{'A': [3, 4], 'B': [1], 'C': [2]}\n",
      " |          |          |          | \n",
      " |          |          |          | \n",
      " | ...      |          |          | \n",
      " | ....     | .        | ..       | \n",
      " | A        | B        | C        | \n",
      "step 3 at depth [0, 1, 2]\n",
      "move 1 disks from tower B to tower C\n",
      "{'A': [3, 4], 'B': [], 'C': [1, 2]}\n",
      " |          |          |          | \n",
      " |          |          |          | \n",
      " | ...      |          | .        | \n",
      " | ....     |          | ..       | \n",
      " | A        | B        | C        | \n",
      "step 2 at depth [0, 1]\n",
      "move 1 disks from tower A to tower B\n",
      "{'A': [4], 'B': [3], 'C': [1, 2]}\n",
      " |          |          |          | \n",
      " |          |          |          | \n",
      " |          |          | .        | \n",
      " | ....     | ...      | ..       | \n",
      " | A        | B        | C        | \n",
      "step 3 at depth [0, 1]\n",
      "move 2 disks from tower C to tower B\n",
      "step 1 at depth [0, 1, 2, 3]\n",
      "move 1 disks from tower C to tower A\n",
      "{'A': [1, 4], 'B': [3], 'C': [2]}\n",
      " |          |          |          | \n",
      " |          |          |          | \n",
      " | .        |          |          | \n",
      " | ....     | ...      | ..       | \n",
      " | A        | B        | C        | \n",
      "step 2 at depth [0, 1, 2, 3]\n",
      "move 1 disks from tower C to tower B\n",
      "{'A': [1, 4], 'B': [2, 3], 'C': []}\n",
      " |          |          |          | \n",
      " |          |          |          | \n",
      " | .        | ..       |          | \n",
      " | ....     | ...      |          | \n",
      " | A        | B        | C        | \n",
      "step 3 at depth [0, 1, 2, 3]\n",
      "move 1 disks from tower A to tower B\n",
      "{'A': [4], 'B': [1, 2, 3], 'C': []}\n",
      " |          |          |          | \n",
      " |          | .        |          | \n",
      " |          | ..       |          | \n",
      " | ....     | ...      |          | \n",
      " | A        | B        | C        | \n",
      "step 2 at depth [0]\n",
      "move 1 disks from tower A to tower C\n",
      "{'A': [], 'B': [1, 2, 3], 'C': [4]}\n",
      " |          |          |          | \n",
      " |          | .        |          | \n",
      " |          | ..       |          | \n",
      " |          | ...      | ....     | \n",
      " | A        | B        | C        | \n",
      "step 3 at depth [0]\n",
      "move 3 disks from tower B to tower C\n",
      "step 1 at depth [0, 1, 2]\n",
      "move 2 disks from tower B to tower A\n",
      "step 1 at depth [0, 1, 2, 3]\n",
      "move 1 disks from tower B to tower C\n",
      "{'A': [], 'B': [2, 3], 'C': [1, 4]}\n",
      " |          |          |          | \n",
      " |          |          |          | \n",
      " |          | ..       | .        | \n",
      " |          | ...      | ....     | \n",
      " | A        | B        | C        | \n",
      "step 2 at depth [0, 1, 2, 3]\n",
      "move 1 disks from tower B to tower A\n",
      "{'A': [2], 'B': [3], 'C': [1, 4]}\n",
      " |          |          |          | \n",
      " |          |          |          | \n",
      " |          |          | .        | \n",
      " | ..       | ...      | ....     | \n",
      " | A        | B        | C        | \n",
      "step 3 at depth [0, 1, 2, 3]\n",
      "move 1 disks from tower C to tower A\n",
      "{'A': [1, 2], 'B': [3], 'C': [4]}\n",
      " |          |          |          | \n",
      " |          |          |          | \n",
      " | .        |          |          | \n",
      " | ..       | ...      | ....     | \n",
      " | A        | B        | C        | \n",
      "step 2 at depth [0, 1, 2]\n",
      "move 1 disks from tower B to tower C\n",
      "{'A': [1, 2], 'B': [], 'C': [3, 4]}\n",
      " |          |          |          | \n",
      " |          |          |          | \n",
      " | .        |          | ...      | \n",
      " | ..       |          | ....     | \n",
      " | A        | B        | C        | \n",
      "step 3 at depth [0, 1, 2]\n",
      "move 2 disks from tower A to tower C\n",
      "step 1 at depth [0, 1, 2, 3, 4]\n",
      "move 1 disks from tower A to tower B\n",
      "{'A': [2], 'B': [1], 'C': [3, 4]}\n",
      " |          |          |          | \n",
      " |          |          |          | \n",
      " |          |          | ...      | \n",
      " | ..       | .        | ....     | \n",
      " | A        | B        | C        | \n",
      "step 2 at depth [0, 1, 2, 3, 4]\n",
      "move 1 disks from tower A to tower C\n",
      "{'A': [], 'B': [1], 'C': [2, 3, 4]}\n",
      " |          |          |          | \n",
      " |          |          | ..       | \n",
      " |          |          | ...      | \n",
      " |          | .        | ....     | \n",
      " | A        | B        | C        | \n",
      "step 3 at depth [0, 1, 2, 3, 4]\n",
      "move 1 disks from tower B to tower C\n",
      "{'A': [], 'B': [], 'C': [1, 2, 3, 4]}\n",
      " |          |          | .        | \n",
      " |          |          | ..       | \n",
      " |          |          | ...      | \n",
      " |          |          | ....     | \n",
      " | A        | B        | C        | \n"
     ]
    }
   ],
   "source": [
    "hanoi(n, 'A','B','C', deepcopy(tower2disk_l))"
   ]
  },
  {
   "cell_type": "code",
   "execution_count": null,
   "metadata": {},
   "outputs": [],
   "source": []
  }
 ],
 "metadata": {
  "kernelspec": {
   "display_name": "Python 3 (ipykernel)",
   "language": "python",
   "name": "python3"
  },
  "language_info": {
   "codemirror_mode": {
    "name": "ipython",
    "version": 3
   },
   "file_extension": ".py",
   "mimetype": "text/x-python",
   "name": "python",
   "nbconvert_exporter": "python",
   "pygments_lexer": "ipython3",
   "version": "3.11.5"
  },
  "toc": {
   "base_numbering": 1,
   "nav_menu": {},
   "number_sections": true,
   "sideBar": true,
   "skip_h1_title": false,
   "title_cell": "Table of Contents",
   "title_sidebar": "Contents",
   "toc_cell": false,
   "toc_position": {},
   "toc_section_display": true,
   "toc_window_display": false
  }
 },
 "nbformat": 4,
 "nbformat_minor": 2
}
